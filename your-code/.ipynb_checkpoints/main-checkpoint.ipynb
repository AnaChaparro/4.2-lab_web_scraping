{
 "cells": [
  {
   "cell_type": "markdown",
   "metadata": {},
   "source": [
    "# Web Scraping Lab\n",
    "\n",
    "You will find in this notebook some scrapy exercises to practise your scraping skills.\n",
    "\n",
    "**Tips:**\n",
    "\n",
    "- Check the response status code for each request to ensure you have obtained the intended contennt.\n",
    "- Print the response text in each request to understand the kind of info you are getting and its format.\n",
    "- Check for patterns in the response text to extract the data/info requested in each question.\n",
    "- Visit each url and take a look at its source through Chrome DevTools. You'll need to identify the html tags, special class names etc. used for the html content you are expected to extract."
   ]
  },
  {
   "cell_type": "markdown",
   "metadata": {},
   "source": [
    "- [Requests library](http://docs.python-requests.org/en/master/#the-user-guide) documentation \n",
    "- [Beautiful Soup Doc](https://www.crummy.com/software/BeautifulSoup/bs4/doc/)\n",
    "- [Urllib](https://docs.python.org/3/library/urllib.html#module-urllib)\n",
    "- [re lib](https://docs.python.org/3/library/re.html)\n",
    "- [lxml lib](https://lxml.de/)\n",
    "- [Scrapy](https://scrapy.org/)\n",
    "- [List of HTTP status codes](https://en.wikipedia.org/wiki/List_of_HTTP_status_codes)\n",
    "- [HTML basics](http://www.simplehtmlguide.com/cheatsheet.php)\n",
    "- [CSS basics](https://www.cssbasics.com/#page_start)"
   ]
  },
  {
   "cell_type": "markdown",
   "metadata": {},
   "source": [
    "#### Below are the libraries and modules you may need. `requests`,  `BeautifulSoup` and `pandas` are imported for you. If you prefer to use additional libraries feel free to uncomment them."
   ]
  },
  {
   "cell_type": "code",
   "execution_count": 1,
   "metadata": {},
   "outputs": [
    {
     "name": "stdout",
     "output_type": "stream",
     "text": [
      "Requirement already satisfied: feedparser in /Users/anachaparrohernandez/opt/anaconda3/lib/python3.9/site-packages (6.0.10)\n",
      "Requirement already satisfied: sgmllib3k in /Users/anachaparrohernandez/opt/anaconda3/lib/python3.9/site-packages (from feedparser) (1.0.0)\n",
      "Note: you may need to restart the kernel to use updated packages.\n"
     ]
    }
   ],
   "source": [
    "import requests as req\n",
    "from bs4 import BeautifulSoup as bs\n",
    "import pandas as pd\n",
    "# from pprint import pprint\n",
    "# from lxml import html\n",
    "# from lxml.html import fromstring\n",
    "# import urllib.request\n",
    "# from urllib.request import urlopen\n",
    "# import random\n",
    "# import re\n",
    "# import scrapy\n",
    "%pip install feedparser\n",
    "import feedparser"
   ]
  },
  {
   "cell_type": "markdown",
   "metadata": {},
   "source": [
    "#### Download, parse (using BeautifulSoup), and print the content from the Trending Developers page from GitHub:"
   ]
  },
  {
   "cell_type": "code",
   "execution_count": 2,
   "metadata": {},
   "outputs": [],
   "source": [
    "# This is the url you will scrape in this exercise\n",
    "url = 'https://github.com/trending/developers'"
   ]
  },
  {
   "cell_type": "code",
   "execution_count": 3,
   "metadata": {},
   "outputs": [
    {
     "data": {
      "text/plain": [
       "'\\n\\n<!DOCTYPE html>\\n<html lang=\"en\" data-color-mode=\"auto\" data-light-theme=\"light\" data-dark-theme=\"dark\" data-a11y-animated-images=\"system\">\\n  <head>\\n    <meta charset=\"utf-8\">\\n  <link rel=\"dns-prefetch\" href=\"https://github.githubassets.com\">\\n  <link rel=\"dns-prefetch\" href=\"https://avatars.githubusercontent.com\">\\n  <link rel=\"dns-prefetch\" href=\"https://github-cloud.s3.amazonaws.com\">\\n  <link rel=\"dns-prefetch\" href=\"https://user-images.githubusercontent.com/\">\\n  <link rel=\"preconnect\" href=\"https://github.githubassets.com\" crossorigin>\\n  <link rel=\"preconnect\" href=\"https://avatars.githubusercontent.com\">\\n\\n\\n\\n  <link crossorigin=\"anonymous\" media=\"all\" rel=\"stylesheet\" href=\"https://github.githubassets.com/assets/light-719f1193e0c0.css\" /><link crossorigin=\"anonymous\" media=\"all\" rel=\"stylesheet\" href=\"https://github.githubassets.com/assets/dark-0c343b529849.css\" /><link data-color-theme=\"dark_dimmed\" crossorigin=\"anonymous\" media=\"all\" rel=\"stylesheet\" data-href=\"https://github.gith'"
      ]
     },
     "execution_count": 3,
     "metadata": {},
     "output_type": "execute_result"
    }
   ],
   "source": [
    "#your code\n",
    "html1=req.get(url).text\n",
    "\n",
    "html1[:1000]"
   ]
  },
  {
   "cell_type": "code",
   "execution_count": 4,
   "metadata": {},
   "outputs": [],
   "source": [
    "soup1=bs(html1, 'html.parser')"
   ]
  },
  {
   "cell_type": "code",
   "execution_count": 5,
   "metadata": {},
   "outputs": [
    {
     "data": {
      "text/plain": [
       "5"
      ]
     },
     "execution_count": 5,
     "metadata": {},
     "output_type": "execute_result"
    }
   ],
   "source": [
    "len(soup1)"
   ]
  },
  {
   "cell_type": "markdown",
   "metadata": {},
   "source": [
    "#### Display the names of the trending developers retrieved in the previous step.\n",
    "\n",
    "Your output should be a Python list of developer names. Each name should not contain any html tag.\n",
    "\n",
    "**Instructions:**\n",
    "\n",
    "1. Find out the html tag and class names used for the developer names. You can achieve this using Chrome DevTools.\n",
    "\n",
    "1. Use BeautifulSoup to extract all the html elements that contain the developer names.\n",
    "\n",
    "1. Use string manipulation techniques to replace whitespaces and linebreaks (i.e. `\\n`) in the *text* of each html element. Use a list to store the clean names.\n",
    "\n",
    "1. Print the list of names.\n",
    "\n",
    "Your output should look like below:\n",
    "\n",
    "```\n",
    "['trimstray (@trimstray)',\n",
    " 'joewalnes (JoeWalnes)',\n",
    " 'charlax (Charles-AxelDein)',\n",
    " 'ForrestKnight (ForrestKnight)',\n",
    " 'revery-ui (revery-ui)',\n",
    " 'alibaba (Alibaba)',\n",
    " 'Microsoft (Microsoft)',\n",
    " 'github (GitHub)',\n",
    " 'facebook (Facebook)',\n",
    " 'boazsegev (Bo)',\n",
    " 'google (Google)',\n",
    " 'cloudfetch',\n",
    " 'sindresorhus (SindreSorhus)',\n",
    " 'tensorflow',\n",
    " 'apache (TheApacheSoftwareFoundation)',\n",
    " 'DevonCrawford (DevonCrawford)',\n",
    " 'ARMmbed (ArmMbed)',\n",
    " 'vuejs (vuejs)',\n",
    " 'fastai (fast.ai)',\n",
    " 'QiShaoXuan (Qi)',\n",
    " 'joelparkerhenderson (JoelParkerHenderson)',\n",
    " 'torvalds (LinusTorvalds)',\n",
    " 'CyC2018',\n",
    " 'komeiji-satori (神楽坂覚々)',\n",
    " 'script-8']\n",
    " ```"
   ]
  },
  {
   "cell_type": "code",
   "execution_count": 6,
   "metadata": {},
   "outputs": [],
   "source": [
    "#your code\n",
    "\n",
    "tabla1=soup1.find_all('h1', class_='h3 lh-condensed')\n"
   ]
  },
  {
   "cell_type": "code",
   "execution_count": 7,
   "metadata": {},
   "outputs": [],
   "source": [
    "nombres = [i.text.strip() for i in tabla1]\n"
   ]
  },
  {
   "cell_type": "code",
   "execution_count": 8,
   "metadata": {},
   "outputs": [
    {
     "data": {
      "text/plain": [
       "['Emil Ernerfeldt',\n",
       " 'Earle F. Philhower, III',\n",
       " 'Nikita Sobolev',\n",
       " 'Stephen Celis',\n",
       " 'Justin Fagnani',\n",
       " 'Manu MA',\n",
       " 'Joshua',\n",
       " 'Simon H',\n",
       " 'Marcus Olsson',\n",
       " 'Ben V. Brown',\n",
       " 'Jonny Borges',\n",
       " 'Andrew Kane',\n",
       " 'Wangchong Zhou',\n",
       " 'Mislav Marohnić',\n",
       " 'Matthias Fey',\n",
       " 'Elliana May',\n",
       " 'Romain Beaumont',\n",
       " 'Hari Sekhon',\n",
       " 'osy',\n",
       " 'Adam Johnson',\n",
       " 'Pedro Cuenca',\n",
       " 'Alex Gaynor',\n",
       " 'Henrik Rydgård',\n",
       " 'Joshua Levy',\n",
       " 'Mu Li']"
      ]
     },
     "execution_count": 8,
     "metadata": {},
     "output_type": "execute_result"
    }
   ],
   "source": [
    "nombres"
   ]
  },
  {
   "cell_type": "code",
   "execution_count": 9,
   "metadata": {},
   "outputs": [],
   "source": [
    "tabla2=soup1.find_all('p', class_='f4 text-normal mb-1')\n"
   ]
  },
  {
   "cell_type": "code",
   "execution_count": 10,
   "metadata": {},
   "outputs": [
    {
     "data": {
      "text/plain": [
       "['emilk',\n",
       " 'earlephilhower',\n",
       " 'sobolevn',\n",
       " 'stephencelis',\n",
       " 'justinfagnani',\n",
       " 'manucorporat',\n",
       " 'minimalsm',\n",
       " 'dummdidumm',\n",
       " 'marcusolsson',\n",
       " 'Ralim',\n",
       " 'jonataslaw',\n",
       " 'ankane',\n",
       " 'fffonion',\n",
       " 'mislav',\n",
       " 'rusty1s',\n",
       " 'Mause',\n",
       " 'rom1504',\n",
       " 'HariSekhon',\n",
       " 'adamchainz',\n",
       " 'pcuenca',\n",
       " 'alex',\n",
       " 'hrydgard',\n",
       " 'jlevy',\n",
       " 'mli']"
      ]
     },
     "execution_count": 10,
     "metadata": {},
     "output_type": "execute_result"
    }
   ],
   "source": [
    "apodos = [i.text.strip() for i in tabla2]\n",
    "apodos"
   ]
  },
  {
   "cell_type": "code",
   "execution_count": 11,
   "metadata": {},
   "outputs": [
    {
     "data": {
      "text/plain": [
       "['Emil Ernerfeldt (emilk)',\n",
       " 'Earle F. Philhower, III (earlephilhower)',\n",
       " 'Nikita Sobolev (sobolevn)',\n",
       " 'Stephen Celis (stephencelis)',\n",
       " 'Justin Fagnani (justinfagnani)',\n",
       " 'Manu MA (manucorporat)',\n",
       " 'Joshua (minimalsm)',\n",
       " 'Simon H (dummdidumm)',\n",
       " 'Marcus Olsson (marcusolsson)',\n",
       " 'Ben V. Brown (Ralim)',\n",
       " 'Jonny Borges (jonataslaw)',\n",
       " 'Andrew Kane (ankane)',\n",
       " 'Wangchong Zhou (fffonion)',\n",
       " 'Mislav Marohnić (mislav)',\n",
       " 'Matthias Fey (rusty1s)',\n",
       " 'Elliana May (Mause)',\n",
       " 'Romain Beaumont (rom1504)',\n",
       " 'Hari Sekhon (HariSekhon)',\n",
       " 'osy (adamchainz)',\n",
       " 'Adam Johnson (pcuenca)',\n",
       " 'Pedro Cuenca (alex)',\n",
       " 'Alex Gaynor (hrydgard)',\n",
       " 'Henrik Rydgård (jlevy)',\n",
       " 'Joshua Levy (mli)']"
      ]
     },
     "execution_count": 11,
     "metadata": {},
     "output_type": "execute_result"
    }
   ],
   "source": [
    "res=[]\n",
    "\n",
    "for nom,ap in zip(nombres,apodos):\n",
    "    res.append(f'{nom} ({ap})')\n",
    "    \n",
    "res"
   ]
  },
  {
   "cell_type": "markdown",
   "metadata": {},
   "source": [
    "#### Display the trending Python repositories in GitHub\n",
    "\n",
    "The steps to solve this problem is similar to the previous one except that you need to find out the repository names instead of developer names."
   ]
  },
  {
   "cell_type": "code",
   "execution_count": 92,
   "metadata": {},
   "outputs": [],
   "source": [
    "# This is the url you will scrape in this exercise\n",
    "urlrepos = 'https://github.com/trending'"
   ]
  },
  {
   "cell_type": "code",
   "execution_count": 93,
   "metadata": {},
   "outputs": [],
   "source": [
    "#your code\n",
    "\n",
    "htmlrepos=req.get(urlrepos).text\n",
    "souprepos=bs(htmlrepos, 'html.parser')\n"
   ]
  },
  {
   "cell_type": "code",
   "execution_count": 94,
   "metadata": {},
   "outputs": [
    {
     "data": {
      "text/plain": [
       "[<h1 class=\"h3 lh-condensed\">\n",
       " <a data-hydro-click='{\"event_type\":\"explore.click\",\"payload\":{\"click_context\":\"TRENDING_REPOSITORIES_PAGE\",\"click_target\":\"REPOSITORY\",\"click_visual_representation\":\"REPOSITORY_NAME_HEADING\",\"actor_id\":null,\"record_id\":135951540,\"originating_url\":\"https://github.com/trending\",\"user_id\":null}}' data-hydro-click-hmac=\"a92fac373ca4b5c6831a653c331f50e2fe57482eedce579f9e5fd15180b4bd3e\" data-view-component=\"true\" href=\"/stashapp/stash\">\n",
       " <svg aria-hidden=\"true\" class=\"octicon octicon-repo mr-1 color-fg-muted\" data-view-component=\"true\" height=\"16\" version=\"1.1\" viewbox=\"0 0 16 16\" width=\"16\">\n",
       " <path d=\"M2 2.5A2.5 2.5 0 014.5 0h8.75a.75.75 0 01.75.75v12.5a.75.75 0 01-.75.75h-2.5a.75.75 0 110-1.5h1.75v-2h-8a1 1 0 00-.714 1.7.75.75 0 01-1.072 1.05A2.495 2.495 0 012 11.5v-9zm10.5-1V9h-8c-.356 0-.694.074-1 .208V2.5a1 1 0 011-1h8zM5 12.25v3.25a.25.25 0 00.4.2l1.45-1.087a.25.25 0 01.3 0L8.6 15.7a.25.25 0 00.4-.2v-3.25a.25.25 0 00-.25-.25h-3.5a.25.25 0 00-.25.25z\" fill-rule=\"evenodd\"></path>\n",
       " </svg>\n",
       " <span class=\"text-normal\" data-view-component=\"true\">\n",
       "         stashapp /\n",
       " </span>\n",
       "       stash\n",
       " </a> </h1>,\n",
       " <h1 class=\"h3 lh-condensed\">\n",
       " <a data-hydro-click='{\"event_type\":\"explore.click\",\"payload\":{\"click_context\":\"TRENDING_REPOSITORIES_PAGE\",\"click_target\":\"REPOSITORY\",\"click_visual_representation\":\"REPOSITORY_NAME_HEADING\",\"actor_id\":null,\"record_id\":553119108,\"originating_url\":\"https://github.com/trending\",\"user_id\":null}}' data-hydro-click-hmac=\"5a59f1edeb5c233eaa1f4fe2da07d9d518d76c4b9ee0917b612e0100a8f029a3\" data-view-component=\"true\" href=\"/MubertAI/Mubert-Text-to-Music\">\n",
       " <svg aria-hidden=\"true\" class=\"octicon octicon-repo mr-1 color-fg-muted\" data-view-component=\"true\" height=\"16\" version=\"1.1\" viewbox=\"0 0 16 16\" width=\"16\">\n",
       " <path d=\"M2 2.5A2.5 2.5 0 014.5 0h8.75a.75.75 0 01.75.75v12.5a.75.75 0 01-.75.75h-2.5a.75.75 0 110-1.5h1.75v-2h-8a1 1 0 00-.714 1.7.75.75 0 01-1.072 1.05A2.495 2.495 0 012 11.5v-9zm10.5-1V9h-8c-.356 0-.694.074-1 .208V2.5a1 1 0 011-1h8zM5 12.25v3.25a.25.25 0 00.4.2l1.45-1.087a.25.25 0 01.3 0L8.6 15.7a.25.25 0 00.4-.2v-3.25a.25.25 0 00-.25-.25h-3.5a.25.25 0 00-.25.25z\" fill-rule=\"evenodd\"></path>\n",
       " </svg>\n",
       " <span class=\"text-normal\" data-view-component=\"true\">\n",
       "         MubertAI /\n",
       " </span>\n",
       "       Mubert-Text-to-Music\n",
       " </a> </h1>,\n",
       " <h1 class=\"h3 lh-condensed\">\n",
       " <a data-hydro-click='{\"event_type\":\"explore.click\",\"payload\":{\"click_context\":\"TRENDING_REPOSITORIES_PAGE\",\"click_target\":\"REPOSITORY\",\"click_visual_representation\":\"REPOSITORY_NAME_HEADING\",\"actor_id\":null,\"record_id\":471728341,\"originating_url\":\"https://github.com/trending\",\"user_id\":null}}' data-hydro-click-hmac=\"c884d97fc1c555d61d2483e31979bcc81208623fdd31d72077187d710133851c\" data-view-component=\"true\" href=\"/lensterxyz/lenster\">\n",
       " <svg aria-hidden=\"true\" class=\"octicon octicon-repo mr-1 color-fg-muted\" data-view-component=\"true\" height=\"16\" version=\"1.1\" viewbox=\"0 0 16 16\" width=\"16\">\n",
       " <path d=\"M2 2.5A2.5 2.5 0 014.5 0h8.75a.75.75 0 01.75.75v12.5a.75.75 0 01-.75.75h-2.5a.75.75 0 110-1.5h1.75v-2h-8a1 1 0 00-.714 1.7.75.75 0 01-1.072 1.05A2.495 2.495 0 012 11.5v-9zm10.5-1V9h-8c-.356 0-.694.074-1 .208V2.5a1 1 0 011-1h8zM5 12.25v3.25a.25.25 0 00.4.2l1.45-1.087a.25.25 0 01.3 0L8.6 15.7a.25.25 0 00.4-.2v-3.25a.25.25 0 00-.25-.25h-3.5a.25.25 0 00-.25.25z\" fill-rule=\"evenodd\"></path>\n",
       " </svg>\n",
       " <span class=\"text-normal\" data-view-component=\"true\">\n",
       "         lensterxyz /\n",
       " </span>\n",
       "       lenster\n",
       " </a> </h1>,\n",
       " <h1 class=\"h3 lh-condensed\">\n",
       " <a data-hydro-click='{\"event_type\":\"explore.click\",\"payload\":{\"click_context\":\"TRENDING_REPOSITORIES_PAGE\",\"click_target\":\"REPOSITORY\",\"click_visual_representation\":\"REPOSITORY_NAME_HEADING\",\"actor_id\":null,\"record_id\":558188628,\"originating_url\":\"https://github.com/trending\",\"user_id\":null}}' data-hydro-click-hmac=\"50826f49e889f769e7a0cb97de56f0a4ee11954178521c7d1e340560df95bd1c\" data-view-component=\"true\" href=\"/alibaba/higress\">\n",
       " <svg aria-hidden=\"true\" class=\"octicon octicon-repo mr-1 color-fg-muted\" data-view-component=\"true\" height=\"16\" version=\"1.1\" viewbox=\"0 0 16 16\" width=\"16\">\n",
       " <path d=\"M2 2.5A2.5 2.5 0 014.5 0h8.75a.75.75 0 01.75.75v12.5a.75.75 0 01-.75.75h-2.5a.75.75 0 110-1.5h1.75v-2h-8a1 1 0 00-.714 1.7.75.75 0 01-1.072 1.05A2.495 2.495 0 012 11.5v-9zm10.5-1V9h-8c-.356 0-.694.074-1 .208V2.5a1 1 0 011-1h8zM5 12.25v3.25a.25.25 0 00.4.2l1.45-1.087a.25.25 0 01.3 0L8.6 15.7a.25.25 0 00.4-.2v-3.25a.25.25 0 00-.25-.25h-3.5a.25.25 0 00-.25.25z\" fill-rule=\"evenodd\"></path>\n",
       " </svg>\n",
       " <span class=\"text-normal\" data-view-component=\"true\">\n",
       "         alibaba /\n",
       " </span>\n",
       "       higress\n",
       " </a> </h1>,\n",
       " <h1 class=\"h3 lh-condensed\">\n",
       " <a data-hydro-click='{\"event_type\":\"explore.click\",\"payload\":{\"click_context\":\"TRENDING_REPOSITORIES_PAGE\",\"click_target\":\"REPOSITORY\",\"click_visual_representation\":\"REPOSITORY_NAME_HEADING\",\"actor_id\":null,\"record_id\":212639071,\"originating_url\":\"https://github.com/trending\",\"user_id\":null}}' data-hydro-click-hmac=\"f8bab37e357da8e78de7f4f775b179cee52ad8b0376c2a0fde7c797920b889aa\" data-view-component=\"true\" href=\"/bregman-arie/devops-exercises\">\n",
       " <svg aria-hidden=\"true\" class=\"octicon octicon-repo mr-1 color-fg-muted\" data-view-component=\"true\" height=\"16\" version=\"1.1\" viewbox=\"0 0 16 16\" width=\"16\">\n",
       " <path d=\"M2 2.5A2.5 2.5 0 014.5 0h8.75a.75.75 0 01.75.75v12.5a.75.75 0 01-.75.75h-2.5a.75.75 0 110-1.5h1.75v-2h-8a1 1 0 00-.714 1.7.75.75 0 01-1.072 1.05A2.495 2.495 0 012 11.5v-9zm10.5-1V9h-8c-.356 0-.694.074-1 .208V2.5a1 1 0 011-1h8zM5 12.25v3.25a.25.25 0 00.4.2l1.45-1.087a.25.25 0 01.3 0L8.6 15.7a.25.25 0 00.4-.2v-3.25a.25.25 0 00-.25-.25h-3.5a.25.25 0 00-.25.25z\" fill-rule=\"evenodd\"></path>\n",
       " </svg>\n",
       " <span class=\"text-normal\" data-view-component=\"true\">\n",
       "         bregman-arie /\n",
       " </span>\n",
       "       devops-exercises\n",
       " </a> </h1>,\n",
       " <h1 class=\"h3 lh-condensed\">\n",
       " <a data-hydro-click='{\"event_type\":\"explore.click\",\"payload\":{\"click_context\":\"TRENDING_REPOSITORIES_PAGE\",\"click_target\":\"REPOSITORY\",\"click_visual_representation\":\"REPOSITORY_NAME_HEADING\",\"actor_id\":null,\"record_id\":52281283,\"originating_url\":\"https://github.com/trending\",\"user_id\":null}}' data-hydro-click-hmac=\"1ea5dde2d938a93722f234a2541a78ac24291e800bcd7d30c28ac0ce9a2fc216\" data-view-component=\"true\" href=\"/mastodon/mastodon\">\n",
       " <svg aria-hidden=\"true\" class=\"octicon octicon-repo mr-1 color-fg-muted\" data-view-component=\"true\" height=\"16\" version=\"1.1\" viewbox=\"0 0 16 16\" width=\"16\">\n",
       " <path d=\"M2 2.5A2.5 2.5 0 014.5 0h8.75a.75.75 0 01.75.75v12.5a.75.75 0 01-.75.75h-2.5a.75.75 0 110-1.5h1.75v-2h-8a1 1 0 00-.714 1.7.75.75 0 01-1.072 1.05A2.495 2.495 0 012 11.5v-9zm10.5-1V9h-8c-.356 0-.694.074-1 .208V2.5a1 1 0 011-1h8zM5 12.25v3.25a.25.25 0 00.4.2l1.45-1.087a.25.25 0 01.3 0L8.6 15.7a.25.25 0 00.4-.2v-3.25a.25.25 0 00-.25-.25h-3.5a.25.25 0 00-.25.25z\" fill-rule=\"evenodd\"></path>\n",
       " </svg>\n",
       " <span class=\"text-normal\" data-view-component=\"true\">\n",
       "         mastodon /\n",
       " </span>\n",
       "       mastodon\n",
       " </a> </h1>,\n",
       " <h1 class=\"h3 lh-condensed\">\n",
       " <a data-hydro-click='{\"event_type\":\"explore.click\",\"payload\":{\"click_context\":\"TRENDING_REPOSITORIES_PAGE\",\"click_target\":\"REPOSITORY\",\"click_visual_representation\":\"REPOSITORY_NAME_HEADING\",\"actor_id\":null,\"record_id\":54346799,\"originating_url\":\"https://github.com/trending\",\"user_id\":null}}' data-hydro-click-hmac=\"777b983a82c11d664c847fb44773d8b89a7447f56c667d6076bde08f811683d4\" data-view-component=\"true\" href=\"/public-apis/public-apis\">\n",
       " <svg aria-hidden=\"true\" class=\"octicon octicon-repo mr-1 color-fg-muted\" data-view-component=\"true\" height=\"16\" version=\"1.1\" viewbox=\"0 0 16 16\" width=\"16\">\n",
       " <path d=\"M2 2.5A2.5 2.5 0 014.5 0h8.75a.75.75 0 01.75.75v12.5a.75.75 0 01-.75.75h-2.5a.75.75 0 110-1.5h1.75v-2h-8a1 1 0 00-.714 1.7.75.75 0 01-1.072 1.05A2.495 2.495 0 012 11.5v-9zm10.5-1V9h-8c-.356 0-.694.074-1 .208V2.5a1 1 0 011-1h8zM5 12.25v3.25a.25.25 0 00.4.2l1.45-1.087a.25.25 0 01.3 0L8.6 15.7a.25.25 0 00.4-.2v-3.25a.25.25 0 00-.25-.25h-3.5a.25.25 0 00-.25.25z\" fill-rule=\"evenodd\"></path>\n",
       " </svg>\n",
       " <span class=\"text-normal\" data-view-component=\"true\">\n",
       "         public-apis /\n",
       " </span>\n",
       "       public-apis\n",
       " </a> </h1>,\n",
       " <h1 class=\"h3 lh-condensed\">\n",
       " <a data-hydro-click='{\"event_type\":\"explore.click\",\"payload\":{\"click_context\":\"TRENDING_REPOSITORIES_PAGE\",\"click_target\":\"REPOSITORY\",\"click_visual_representation\":\"REPOSITORY_NAME_HEADING\",\"actor_id\":null,\"record_id\":561603086,\"originating_url\":\"https://github.com/trending\",\"user_id\":null}}' data-hydro-click-hmac=\"a61aa9fea43e439061f023d5bbd82bbdfac3519b8b3f08d96c0dd3282fae8c9c\" data-view-component=\"true\" href=\"/ProjectOpenSea/operator-filter-registry\">\n",
       " <svg aria-hidden=\"true\" class=\"octicon octicon-repo mr-1 color-fg-muted\" data-view-component=\"true\" height=\"16\" version=\"1.1\" viewbox=\"0 0 16 16\" width=\"16\">\n",
       " <path d=\"M2 2.5A2.5 2.5 0 014.5 0h8.75a.75.75 0 01.75.75v12.5a.75.75 0 01-.75.75h-2.5a.75.75 0 110-1.5h1.75v-2h-8a1 1 0 00-.714 1.7.75.75 0 01-1.072 1.05A2.495 2.495 0 012 11.5v-9zm10.5-1V9h-8c-.356 0-.694.074-1 .208V2.5a1 1 0 011-1h8zM5 12.25v3.25a.25.25 0 00.4.2l1.45-1.087a.25.25 0 01.3 0L8.6 15.7a.25.25 0 00.4-.2v-3.25a.25.25 0 00-.25-.25h-3.5a.25.25 0 00-.25.25z\" fill-rule=\"evenodd\"></path>\n",
       " </svg>\n",
       " <span class=\"text-normal\" data-view-component=\"true\">\n",
       "         ProjectOpenSea /\n",
       " </span>\n",
       "       operator-filter-registry\n",
       " </a> </h1>,\n",
       " <h1 class=\"h3 lh-condensed\">\n",
       " <a data-hydro-click='{\"event_type\":\"explore.click\",\"payload\":{\"click_context\":\"TRENDING_REPOSITORIES_PAGE\",\"click_target\":\"REPOSITORY\",\"click_visual_representation\":\"REPOSITORY_NAME_HEADING\",\"actor_id\":null,\"record_id\":562011743,\"originating_url\":\"https://github.com/trending\",\"user_id\":null}}' data-hydro-click-hmac=\"369104b499426f8f68bf896574a521c62c5223dc660027eae0225e7887ec873c\" data-view-component=\"true\" href=\"/trinib/Linux-Bash-Commands\">\n",
       " <svg aria-hidden=\"true\" class=\"octicon octicon-repo mr-1 color-fg-muted\" data-view-component=\"true\" height=\"16\" version=\"1.1\" viewbox=\"0 0 16 16\" width=\"16\">\n",
       " <path d=\"M2 2.5A2.5 2.5 0 014.5 0h8.75a.75.75 0 01.75.75v12.5a.75.75 0 01-.75.75h-2.5a.75.75 0 110-1.5h1.75v-2h-8a1 1 0 00-.714 1.7.75.75 0 01-1.072 1.05A2.495 2.495 0 012 11.5v-9zm10.5-1V9h-8c-.356 0-.694.074-1 .208V2.5a1 1 0 011-1h8zM5 12.25v3.25a.25.25 0 00.4.2l1.45-1.087a.25.25 0 01.3 0L8.6 15.7a.25.25 0 00.4-.2v-3.25a.25.25 0 00-.25-.25h-3.5a.25.25 0 00-.25.25z\" fill-rule=\"evenodd\"></path>\n",
       " </svg>\n",
       " <span class=\"text-normal\" data-view-component=\"true\">\n",
       "         trinib /\n",
       " </span>\n",
       "       Linux-Bash-Commands\n",
       " </a> </h1>,\n",
       " <h1 class=\"h3 lh-condensed\">\n",
       " <a data-hydro-click='{\"event_type\":\"explore.click\",\"payload\":{\"click_context\":\"TRENDING_REPOSITORIES_PAGE\",\"click_target\":\"REPOSITORY\",\"click_visual_representation\":\"REPOSITORY_NAME_HEADING\",\"actor_id\":null,\"record_id\":74791366,\"originating_url\":\"https://github.com/trending\",\"user_id\":null}}' data-hydro-click-hmac=\"69ef1362b79480d86c7e4f217a3a55cea17d2e5edd28e36f32b45a88188aabcb\" data-view-component=\"true\" href=\"/ryanmcdermott/clean-code-javascript\">\n",
       " <svg aria-hidden=\"true\" class=\"octicon octicon-repo mr-1 color-fg-muted\" data-view-component=\"true\" height=\"16\" version=\"1.1\" viewbox=\"0 0 16 16\" width=\"16\">\n",
       " <path d=\"M2 2.5A2.5 2.5 0 014.5 0h8.75a.75.75 0 01.75.75v12.5a.75.75 0 01-.75.75h-2.5a.75.75 0 110-1.5h1.75v-2h-8a1 1 0 00-.714 1.7.75.75 0 01-1.072 1.05A2.495 2.495 0 012 11.5v-9zm10.5-1V9h-8c-.356 0-.694.074-1 .208V2.5a1 1 0 011-1h8zM5 12.25v3.25a.25.25 0 00.4.2l1.45-1.087a.25.25 0 01.3 0L8.6 15.7a.25.25 0 00.4-.2v-3.25a.25.25 0 00-.25-.25h-3.5a.25.25 0 00-.25.25z\" fill-rule=\"evenodd\"></path>\n",
       " </svg>\n",
       " <span class=\"text-normal\" data-view-component=\"true\">\n",
       "         ryanmcdermott /\n",
       " </span>\n",
       "       clean-code-javascript\n",
       " </a> </h1>,\n",
       " <h1 class=\"h3 lh-condensed\">\n",
       " <a data-hydro-click='{\"event_type\":\"explore.click\",\"payload\":{\"click_context\":\"TRENDING_REPOSITORIES_PAGE\",\"click_target\":\"REPOSITORY\",\"click_visual_representation\":\"REPOSITORY_NAME_HEADING\",\"actor_id\":null,\"record_id\":425408340,\"originating_url\":\"https://github.com/trending\",\"user_id\":null}}' data-hydro-click-hmac=\"228aa2e9999c9d89741187c00aa9fe98b92fcefdfddc7a2e3a633d17c105a919\" data-view-component=\"true\" href=\"/6mile/DevSecOps-Playbook\">\n",
       " <svg aria-hidden=\"true\" class=\"octicon octicon-repo mr-1 color-fg-muted\" data-view-component=\"true\" height=\"16\" version=\"1.1\" viewbox=\"0 0 16 16\" width=\"16\">\n",
       " <path d=\"M2 2.5A2.5 2.5 0 014.5 0h8.75a.75.75 0 01.75.75v12.5a.75.75 0 01-.75.75h-2.5a.75.75 0 110-1.5h1.75v-2h-8a1 1 0 00-.714 1.7.75.75 0 01-1.072 1.05A2.495 2.495 0 012 11.5v-9zm10.5-1V9h-8c-.356 0-.694.074-1 .208V2.5a1 1 0 011-1h8zM5 12.25v3.25a.25.25 0 00.4.2l1.45-1.087a.25.25 0 01.3 0L8.6 15.7a.25.25 0 00.4-.2v-3.25a.25.25 0 00-.25-.25h-3.5a.25.25 0 00-.25.25z\" fill-rule=\"evenodd\"></path>\n",
       " </svg>\n",
       " <span class=\"text-normal\" data-view-component=\"true\">\n",
       "         6mile /\n",
       " </span>\n",
       "       DevSecOps-Playbook\n",
       " </a> </h1>,\n",
       " <h1 class=\"h3 lh-condensed\">\n",
       " <a data-hydro-click='{\"event_type\":\"explore.click\",\"payload\":{\"click_context\":\"TRENDING_REPOSITORIES_PAGE\",\"click_target\":\"REPOSITORY\",\"click_visual_representation\":\"REPOSITORY_NAME_HEADING\",\"actor_id\":null,\"record_id\":19415064,\"originating_url\":\"https://github.com/trending\",\"user_id\":null}}' data-hydro-click-hmac=\"2352c66d322db26317c42391dca49433886c2389a2b6e56cd2d4fb024090a4b6\" data-view-component=\"true\" href=\"/ossu/computer-science\">\n",
       " <svg aria-hidden=\"true\" class=\"octicon octicon-repo mr-1 color-fg-muted\" data-view-component=\"true\" height=\"16\" version=\"1.1\" viewbox=\"0 0 16 16\" width=\"16\">\n",
       " <path d=\"M2 2.5A2.5 2.5 0 014.5 0h8.75a.75.75 0 01.75.75v12.5a.75.75 0 01-.75.75h-2.5a.75.75 0 110-1.5h1.75v-2h-8a1 1 0 00-.714 1.7.75.75 0 01-1.072 1.05A2.495 2.495 0 012 11.5v-9zm10.5-1V9h-8c-.356 0-.694.074-1 .208V2.5a1 1 0 011-1h8zM5 12.25v3.25a.25.25 0 00.4.2l1.45-1.087a.25.25 0 01.3 0L8.6 15.7a.25.25 0 00.4-.2v-3.25a.25.25 0 00-.25-.25h-3.5a.25.25 0 00-.25.25z\" fill-rule=\"evenodd\"></path>\n",
       " </svg>\n",
       " <span class=\"text-normal\" data-view-component=\"true\">\n",
       "         ossu /\n",
       " </span>\n",
       "       computer-science\n",
       " </a> </h1>,\n",
       " <h1 class=\"h3 lh-condensed\">\n",
       " <a data-hydro-click='{\"event_type\":\"explore.click\",\"payload\":{\"click_context\":\"TRENDING_REPOSITORIES_PAGE\",\"click_target\":\"REPOSITORY\",\"click_visual_representation\":\"REPOSITORY_NAME_HEADING\",\"actor_id\":null,\"record_id\":29028775,\"originating_url\":\"https://github.com/trending\",\"user_id\":null}}' data-hydro-click-hmac=\"9820ba9156cb599ae5dca62705ada2b8437d1442e7f2476d2c2e204b1022dd89\" data-view-component=\"true\" href=\"/facebook/react-native\">\n",
       " <svg aria-hidden=\"true\" class=\"octicon octicon-repo mr-1 color-fg-muted\" data-view-component=\"true\" height=\"16\" version=\"1.1\" viewbox=\"0 0 16 16\" width=\"16\">\n",
       " <path d=\"M2 2.5A2.5 2.5 0 014.5 0h8.75a.75.75 0 01.75.75v12.5a.75.75 0 01-.75.75h-2.5a.75.75 0 110-1.5h1.75v-2h-8a1 1 0 00-.714 1.7.75.75 0 01-1.072 1.05A2.495 2.495 0 012 11.5v-9zm10.5-1V9h-8c-.356 0-.694.074-1 .208V2.5a1 1 0 011-1h8zM5 12.25v3.25a.25.25 0 00.4.2l1.45-1.087a.25.25 0 01.3 0L8.6 15.7a.25.25 0 00.4-.2v-3.25a.25.25 0 00-.25-.25h-3.5a.25.25 0 00-.25.25z\" fill-rule=\"evenodd\"></path>\n",
       " </svg>\n",
       " <span class=\"text-normal\" data-view-component=\"true\">\n",
       "         facebook /\n",
       " </span>\n",
       "       react-native\n",
       " </a> </h1>,\n",
       " <h1 class=\"h3 lh-condensed\">\n",
       " <a data-hydro-click='{\"event_type\":\"explore.click\",\"payload\":{\"click_context\":\"TRENDING_REPOSITORIES_PAGE\",\"click_target\":\"REPOSITORY\",\"click_visual_representation\":\"REPOSITORY_NAME_HEADING\",\"actor_id\":null,\"record_id\":305144746,\"originating_url\":\"https://github.com/trending\",\"user_id\":null}}' data-hydro-click-hmac=\"e861683c46139273c68a46614b2fd3bed9c9e596269f81888045c202a84519d4\" data-view-component=\"true\" href=\"/geohot/tinygrad\">\n",
       " <svg aria-hidden=\"true\" class=\"octicon octicon-repo mr-1 color-fg-muted\" data-view-component=\"true\" height=\"16\" version=\"1.1\" viewbox=\"0 0 16 16\" width=\"16\">\n",
       " <path d=\"M2 2.5A2.5 2.5 0 014.5 0h8.75a.75.75 0 01.75.75v12.5a.75.75 0 01-.75.75h-2.5a.75.75 0 110-1.5h1.75v-2h-8a1 1 0 00-.714 1.7.75.75 0 01-1.072 1.05A2.495 2.495 0 012 11.5v-9zm10.5-1V9h-8c-.356 0-.694.074-1 .208V2.5a1 1 0 011-1h8zM5 12.25v3.25a.25.25 0 00.4.2l1.45-1.087a.25.25 0 01.3 0L8.6 15.7a.25.25 0 00.4-.2v-3.25a.25.25 0 00-.25-.25h-3.5a.25.25 0 00-.25.25z\" fill-rule=\"evenodd\"></path>\n",
       " </svg>\n",
       " <span class=\"text-normal\" data-view-component=\"true\">\n",
       "         geohot /\n",
       " </span>\n",
       "       tinygrad\n",
       " </a> </h1>,\n",
       " <h1 class=\"h3 lh-condensed\">\n",
       " <a data-hydro-click='{\"event_type\":\"explore.click\",\"payload\":{\"click_context\":\"TRENDING_REPOSITORIES_PAGE\",\"click_target\":\"REPOSITORY\",\"click_visual_representation\":\"REPOSITORY_NAME_HEADING\",\"actor_id\":null,\"record_id\":58836534,\"originating_url\":\"https://github.com/trending\",\"user_id\":null}}' data-hydro-click-hmac=\"0c284d881f797ad50c95477bc377ce231409c13f3286470e8e7227d9d1635132\" data-view-component=\"true\" href=\"/algorithm-visualizer/algorithm-visualizer\">\n",
       " <svg aria-hidden=\"true\" class=\"octicon octicon-repo mr-1 color-fg-muted\" data-view-component=\"true\" height=\"16\" version=\"1.1\" viewbox=\"0 0 16 16\" width=\"16\">\n",
       " <path d=\"M2 2.5A2.5 2.5 0 014.5 0h8.75a.75.75 0 01.75.75v12.5a.75.75 0 01-.75.75h-2.5a.75.75 0 110-1.5h1.75v-2h-8a1 1 0 00-.714 1.7.75.75 0 01-1.072 1.05A2.495 2.495 0 012 11.5v-9zm10.5-1V9h-8c-.356 0-.694.074-1 .208V2.5a1 1 0 011-1h8zM5 12.25v3.25a.25.25 0 00.4.2l1.45-1.087a.25.25 0 01.3 0L8.6 15.7a.25.25 0 00.4-.2v-3.25a.25.25 0 00-.25-.25h-3.5a.25.25 0 00-.25.25z\" fill-rule=\"evenodd\"></path>\n",
       " </svg>\n",
       " <span class=\"text-normal\" data-view-component=\"true\">\n",
       "         algorithm-visualizer /\n",
       " </span>\n",
       "       algorithm-visualizer\n",
       " </a> </h1>,\n",
       " <h1 class=\"h3 lh-condensed\">\n",
       " <a data-hydro-click='{\"event_type\":\"explore.click\",\"payload\":{\"click_context\":\"TRENDING_REPOSITORIES_PAGE\",\"click_target\":\"REPOSITORY\",\"click_visual_representation\":\"REPOSITORY_NAME_HEADING\",\"actor_id\":null,\"record_id\":35955666,\"originating_url\":\"https://github.com/trending\",\"user_id\":null}}' data-hydro-click-hmac=\"faa00763bfeac9e78e7ff4efa4013b69bf0ac01ea568a8d40ec439892b43a295\" data-view-component=\"true\" href=\"/jlevy/the-art-of-command-line\">\n",
       " <svg aria-hidden=\"true\" class=\"octicon octicon-repo mr-1 color-fg-muted\" data-view-component=\"true\" height=\"16\" version=\"1.1\" viewbox=\"0 0 16 16\" width=\"16\">\n",
       " <path d=\"M2 2.5A2.5 2.5 0 014.5 0h8.75a.75.75 0 01.75.75v12.5a.75.75 0 01-.75.75h-2.5a.75.75 0 110-1.5h1.75v-2h-8a1 1 0 00-.714 1.7.75.75 0 01-1.072 1.05A2.495 2.495 0 012 11.5v-9zm10.5-1V9h-8c-.356 0-.694.074-1 .208V2.5a1 1 0 011-1h8zM5 12.25v3.25a.25.25 0 00.4.2l1.45-1.087a.25.25 0 01.3 0L8.6 15.7a.25.25 0 00.4-.2v-3.25a.25.25 0 00-.25-.25h-3.5a.25.25 0 00-.25.25z\" fill-rule=\"evenodd\"></path>\n",
       " </svg>\n",
       " <span class=\"text-normal\" data-view-component=\"true\">\n",
       "         jlevy /\n",
       " </span>\n",
       "       the-art-of-command-line\n",
       " </a> </h1>,\n",
       " <h1 class=\"h3 lh-condensed\">\n",
       " <a data-hydro-click='{\"event_type\":\"explore.click\",\"payload\":{\"click_context\":\"TRENDING_REPOSITORIES_PAGE\",\"click_target\":\"REPOSITORY\",\"click_visual_representation\":\"REPOSITORY_NAME_HEADING\",\"actor_id\":null,\"record_id\":190729906,\"originating_url\":\"https://github.com/trending\",\"user_id\":null}}' data-hydro-click-hmac=\"32acf3bd14ce199a63d7fca5f259b36ef71675a5f3edef21531d2658972f24b9\" data-view-component=\"true\" href=\"/Budibase/budibase\">\n",
       " <svg aria-hidden=\"true\" class=\"octicon octicon-repo mr-1 color-fg-muted\" data-view-component=\"true\" height=\"16\" version=\"1.1\" viewbox=\"0 0 16 16\" width=\"16\">\n",
       " <path d=\"M2 2.5A2.5 2.5 0 014.5 0h8.75a.75.75 0 01.75.75v12.5a.75.75 0 01-.75.75h-2.5a.75.75 0 110-1.5h1.75v-2h-8a1 1 0 00-.714 1.7.75.75 0 01-1.072 1.05A2.495 2.495 0 012 11.5v-9zm10.5-1V9h-8c-.356 0-.694.074-1 .208V2.5a1 1 0 011-1h8zM5 12.25v3.25a.25.25 0 00.4.2l1.45-1.087a.25.25 0 01.3 0L8.6 15.7a.25.25 0 00.4-.2v-3.25a.25.25 0 00-.25-.25h-3.5a.25.25 0 00-.25.25z\" fill-rule=\"evenodd\"></path>\n",
       " </svg>\n",
       " <span class=\"text-normal\" data-view-component=\"true\">\n",
       "         Budibase /\n",
       " </span>\n",
       "       budibase\n",
       " </a> </h1>,\n",
       " <h1 class=\"h3 lh-condensed\">\n",
       " <a data-hydro-click='{\"event_type\":\"explore.click\",\"payload\":{\"click_context\":\"TRENDING_REPOSITORIES_PAGE\",\"click_target\":\"REPOSITORY\",\"click_visual_representation\":\"REPOSITORY_NAME_HEADING\",\"actor_id\":null,\"record_id\":561427129,\"originating_url\":\"https://github.com/trending\",\"user_id\":null}}' data-hydro-click-hmac=\"c09e8db0b76c9b7e386e9f03e4ddfa59717fb3703ebd2d8fd7f44d5f566502f4\" data-view-component=\"true\" href=\"/nathanlesage/academics-on-mastodon\">\n",
       " <svg aria-hidden=\"true\" class=\"octicon octicon-repo mr-1 color-fg-muted\" data-view-component=\"true\" height=\"16\" version=\"1.1\" viewbox=\"0 0 16 16\" width=\"16\">\n",
       " <path d=\"M2 2.5A2.5 2.5 0 014.5 0h8.75a.75.75 0 01.75.75v12.5a.75.75 0 01-.75.75h-2.5a.75.75 0 110-1.5h1.75v-2h-8a1 1 0 00-.714 1.7.75.75 0 01-1.072 1.05A2.495 2.495 0 012 11.5v-9zm10.5-1V9h-8c-.356 0-.694.074-1 .208V2.5a1 1 0 011-1h8zM5 12.25v3.25a.25.25 0 00.4.2l1.45-1.087a.25.25 0 01.3 0L8.6 15.7a.25.25 0 00.4-.2v-3.25a.25.25 0 00-.25-.25h-3.5a.25.25 0 00-.25.25z\" fill-rule=\"evenodd\"></path>\n",
       " </svg>\n",
       " <span class=\"text-normal\" data-view-component=\"true\">\n",
       "         nathanlesage /\n",
       " </span>\n",
       "       academics-on-mastodon\n",
       " </a> </h1>,\n",
       " <h1 class=\"h3 lh-condensed\">\n",
       " <a data-hydro-click='{\"event_type\":\"explore.click\",\"payload\":{\"click_context\":\"TRENDING_REPOSITORIES_PAGE\",\"click_target\":\"REPOSITORY\",\"click_visual_representation\":\"REPOSITORY_NAME_HEADING\",\"actor_id\":null,\"record_id\":365478128,\"originating_url\":\"https://github.com/trending\",\"user_id\":null}}' data-hydro-click-hmac=\"b2560ebefc3622b39a3d846b5524c5bbbf1b3b4df36ecba299cc2fb7fb943b2f\" data-view-component=\"true\" href=\"/dillongoostudios/goo-engine\">\n",
       " <svg aria-hidden=\"true\" class=\"octicon octicon-repo mr-1 color-fg-muted\" data-view-component=\"true\" height=\"16\" version=\"1.1\" viewbox=\"0 0 16 16\" width=\"16\">\n",
       " <path d=\"M2 2.5A2.5 2.5 0 014.5 0h8.75a.75.75 0 01.75.75v12.5a.75.75 0 01-.75.75h-2.5a.75.75 0 110-1.5h1.75v-2h-8a1 1 0 00-.714 1.7.75.75 0 01-1.072 1.05A2.495 2.495 0 012 11.5v-9zm10.5-1V9h-8c-.356 0-.694.074-1 .208V2.5a1 1 0 011-1h8zM5 12.25v3.25a.25.25 0 00.4.2l1.45-1.087a.25.25 0 01.3 0L8.6 15.7a.25.25 0 00.4-.2v-3.25a.25.25 0 00-.25-.25h-3.5a.25.25 0 00-.25.25z\" fill-rule=\"evenodd\"></path>\n",
       " </svg>\n",
       " <span class=\"text-normal\" data-view-component=\"true\">\n",
       "         dillongoostudios /\n",
       " </span>\n",
       "       goo-engine\n",
       " </a> </h1>,\n",
       " <h1 class=\"h3 lh-condensed\">\n",
       " <a data-hydro-click='{\"event_type\":\"explore.click\",\"payload\":{\"click_context\":\"TRENDING_REPOSITORIES_PAGE\",\"click_target\":\"REPOSITORY\",\"click_visual_representation\":\"REPOSITORY_NAME_HEADING\",\"actor_id\":null,\"record_id\":278933035,\"originating_url\":\"https://github.com/trending\",\"user_id\":null}}' data-hydro-click-hmac=\"bafa499fdfea1dabbc46210d83e8ba4bb16aca2cafe0ad7c3bebe1339915ea83\" data-view-component=\"true\" href=\"/RustScan/RustScan\">\n",
       " <svg aria-hidden=\"true\" class=\"octicon octicon-repo mr-1 color-fg-muted\" data-view-component=\"true\" height=\"16\" version=\"1.1\" viewbox=\"0 0 16 16\" width=\"16\">\n",
       " <path d=\"M2 2.5A2.5 2.5 0 014.5 0h8.75a.75.75 0 01.75.75v12.5a.75.75 0 01-.75.75h-2.5a.75.75 0 110-1.5h1.75v-2h-8a1 1 0 00-.714 1.7.75.75 0 01-1.072 1.05A2.495 2.495 0 012 11.5v-9zm10.5-1V9h-8c-.356 0-.694.074-1 .208V2.5a1 1 0 011-1h8zM5 12.25v3.25a.25.25 0 00.4.2l1.45-1.087a.25.25 0 01.3 0L8.6 15.7a.25.25 0 00.4-.2v-3.25a.25.25 0 00-.25-.25h-3.5a.25.25 0 00-.25.25z\" fill-rule=\"evenodd\"></path>\n",
       " </svg>\n",
       " <span class=\"text-normal\" data-view-component=\"true\">\n",
       "         RustScan /\n",
       " </span>\n",
       "       RustScan\n",
       " </a> </h1>,\n",
       " <h1 class=\"h3 lh-condensed\">\n",
       " <a data-hydro-click='{\"event_type\":\"explore.click\",\"payload\":{\"click_context\":\"TRENDING_REPOSITORIES_PAGE\",\"click_target\":\"REPOSITORY\",\"click_visual_representation\":\"REPOSITORY_NAME_HEADING\",\"actor_id\":null,\"record_id\":447932278,\"originating_url\":\"https://github.com/trending\",\"user_id\":null}}' data-hydro-click-hmac=\"ca194a7b1822692a6021f88953db06cf0da371d503ca71fee3b698f6455a3428\" data-view-component=\"true\" href=\"/mastodon/mastodon-android\">\n",
       " <svg aria-hidden=\"true\" class=\"octicon octicon-repo mr-1 color-fg-muted\" data-view-component=\"true\" height=\"16\" version=\"1.1\" viewbox=\"0 0 16 16\" width=\"16\">\n",
       " <path d=\"M2 2.5A2.5 2.5 0 014.5 0h8.75a.75.75 0 01.75.75v12.5a.75.75 0 01-.75.75h-2.5a.75.75 0 110-1.5h1.75v-2h-8a1 1 0 00-.714 1.7.75.75 0 01-1.072 1.05A2.495 2.495 0 012 11.5v-9zm10.5-1V9h-8c-.356 0-.694.074-1 .208V2.5a1 1 0 011-1h8zM5 12.25v3.25a.25.25 0 00.4.2l1.45-1.087a.25.25 0 01.3 0L8.6 15.7a.25.25 0 00.4-.2v-3.25a.25.25 0 00-.25-.25h-3.5a.25.25 0 00-.25.25z\" fill-rule=\"evenodd\"></path>\n",
       " </svg>\n",
       " <span class=\"text-normal\" data-view-component=\"true\">\n",
       "         mastodon /\n",
       " </span>\n",
       "       mastodon-android\n",
       " </a> </h1>,\n",
       " <h1 class=\"h3 lh-condensed\">\n",
       " <a data-hydro-click='{\"event_type\":\"explore.click\",\"payload\":{\"click_context\":\"TRENDING_REPOSITORIES_PAGE\",\"click_target\":\"REPOSITORY\",\"click_visual_representation\":\"REPOSITORY_NAME_HEADING\",\"actor_id\":null,\"record_id\":183895098,\"originating_url\":\"https://github.com/trending\",\"user_id\":null}}' data-hydro-click-hmac=\"d2c523e2378b65752a94c3296d6ec54670ad6485bddb310ffa230bf281e28819\" data-view-component=\"true\" href=\"/ant-design/pro-components\">\n",
       " <svg aria-hidden=\"true\" class=\"octicon octicon-repo mr-1 color-fg-muted\" data-view-component=\"true\" height=\"16\" version=\"1.1\" viewbox=\"0 0 16 16\" width=\"16\">\n",
       " <path d=\"M2 2.5A2.5 2.5 0 014.5 0h8.75a.75.75 0 01.75.75v12.5a.75.75 0 01-.75.75h-2.5a.75.75 0 110-1.5h1.75v-2h-8a1 1 0 00-.714 1.7.75.75 0 01-1.072 1.05A2.495 2.495 0 012 11.5v-9zm10.5-1V9h-8c-.356 0-.694.074-1 .208V2.5a1 1 0 011-1h8zM5 12.25v3.25a.25.25 0 00.4.2l1.45-1.087a.25.25 0 01.3 0L8.6 15.7a.25.25 0 00.4-.2v-3.25a.25.25 0 00-.25-.25h-3.5a.25.25 0 00-.25.25z\" fill-rule=\"evenodd\"></path>\n",
       " </svg>\n",
       " <span class=\"text-normal\" data-view-component=\"true\">\n",
       "         ant-design /\n",
       " </span>\n",
       "       pro-components\n",
       " </a> </h1>,\n",
       " <h1 class=\"h3 lh-condensed\">\n",
       " <a data-hydro-click='{\"event_type\":\"explore.click\",\"payload\":{\"click_context\":\"TRENDING_REPOSITORIES_PAGE\",\"click_target\":\"REPOSITORY\",\"click_visual_representation\":\"REPOSITORY_NAME_HEADING\",\"actor_id\":null,\"record_id\":121395510,\"originating_url\":\"https://github.com/trending\",\"user_id\":null}}' data-hydro-click-hmac=\"993b587748de732e4d88e10b14239ff398939022b852b3338d1e2e152c3f8f9c\" data-view-component=\"true\" href=\"/CyC2018/CS-Notes\">\n",
       " <svg aria-hidden=\"true\" class=\"octicon octicon-repo mr-1 color-fg-muted\" data-view-component=\"true\" height=\"16\" version=\"1.1\" viewbox=\"0 0 16 16\" width=\"16\">\n",
       " <path d=\"M2 2.5A2.5 2.5 0 014.5 0h8.75a.75.75 0 01.75.75v12.5a.75.75 0 01-.75.75h-2.5a.75.75 0 110-1.5h1.75v-2h-8a1 1 0 00-.714 1.7.75.75 0 01-1.072 1.05A2.495 2.495 0 012 11.5v-9zm10.5-1V9h-8c-.356 0-.694.074-1 .208V2.5a1 1 0 011-1h8zM5 12.25v3.25a.25.25 0 00.4.2l1.45-1.087a.25.25 0 01.3 0L8.6 15.7a.25.25 0 00.4-.2v-3.25a.25.25 0 00-.25-.25h-3.5a.25.25 0 00-.25.25z\" fill-rule=\"evenodd\"></path>\n",
       " </svg>\n",
       " <span class=\"text-normal\" data-view-component=\"true\">\n",
       "         CyC2018 /\n",
       " </span>\n",
       "       CS-Notes\n",
       " </a> </h1>,\n",
       " <h1 class=\"h3 lh-condensed\">\n",
       " <a data-hydro-click='{\"event_type\":\"explore.click\",\"payload\":{\"click_context\":\"TRENDING_REPOSITORIES_PAGE\",\"click_target\":\"REPOSITORY\",\"click_visual_representation\":\"REPOSITORY_NAME_HEADING\",\"actor_id\":null,\"record_id\":295774370,\"originating_url\":\"https://github.com/trending\",\"user_id\":null}}' data-hydro-click-hmac=\"8e969d0e8a3965e771e685b5a85449c8d8e7e01bd8d8a9799ecdcc11d89555e1\" data-view-component=\"true\" href=\"/mdn/content\">\n",
       " <svg aria-hidden=\"true\" class=\"octicon octicon-repo mr-1 color-fg-muted\" data-view-component=\"true\" height=\"16\" version=\"1.1\" viewbox=\"0 0 16 16\" width=\"16\">\n",
       " <path d=\"M2 2.5A2.5 2.5 0 014.5 0h8.75a.75.75 0 01.75.75v12.5a.75.75 0 01-.75.75h-2.5a.75.75 0 110-1.5h1.75v-2h-8a1 1 0 00-.714 1.7.75.75 0 01-1.072 1.05A2.495 2.495 0 012 11.5v-9zm10.5-1V9h-8c-.356 0-.694.074-1 .208V2.5a1 1 0 011-1h8zM5 12.25v3.25a.25.25 0 00.4.2l1.45-1.087a.25.25 0 01.3 0L8.6 15.7a.25.25 0 00.4-.2v-3.25a.25.25 0 00-.25-.25h-3.5a.25.25 0 00-.25.25z\" fill-rule=\"evenodd\"></path>\n",
       " </svg>\n",
       " <span class=\"text-normal\" data-view-component=\"true\">\n",
       "         mdn /\n",
       " </span>\n",
       "       content\n",
       " </a> </h1>,\n",
       " <h1 class=\"h3 lh-condensed\">\n",
       " <a data-hydro-click='{\"event_type\":\"explore.click\",\"payload\":{\"click_context\":\"TRENDING_REPOSITORIES_PAGE\",\"click_target\":\"REPOSITORY\",\"click_visual_representation\":\"REPOSITORY_NAME_HEADING\",\"actor_id\":null,\"record_id\":157402758,\"originating_url\":\"https://github.com/trending\",\"user_id\":null}}' data-hydro-click-hmac=\"883095a35342c35b806334054ea2975564708747eb4aefeb678b43ef064a6480\" data-view-component=\"true\" href=\"/safing/portmaster\">\n",
       " <svg aria-hidden=\"true\" class=\"octicon octicon-repo mr-1 color-fg-muted\" data-view-component=\"true\" height=\"16\" version=\"1.1\" viewbox=\"0 0 16 16\" width=\"16\">\n",
       " <path d=\"M2 2.5A2.5 2.5 0 014.5 0h8.75a.75.75 0 01.75.75v12.5a.75.75 0 01-.75.75h-2.5a.75.75 0 110-1.5h1.75v-2h-8a1 1 0 00-.714 1.7.75.75 0 01-1.072 1.05A2.495 2.495 0 012 11.5v-9zm10.5-1V9h-8c-.356 0-.694.074-1 .208V2.5a1 1 0 011-1h8zM5 12.25v3.25a.25.25 0 00.4.2l1.45-1.087a.25.25 0 01.3 0L8.6 15.7a.25.25 0 00.4-.2v-3.25a.25.25 0 00-.25-.25h-3.5a.25.25 0 00-.25.25z\" fill-rule=\"evenodd\"></path>\n",
       " </svg>\n",
       " <span class=\"text-normal\" data-view-component=\"true\">\n",
       "         safing /\n",
       " </span>\n",
       "       portmaster\n",
       " </a> </h1>]"
      ]
     },
     "execution_count": 94,
     "metadata": {},
     "output_type": "execute_result"
    }
   ],
   "source": [
    "tablarepos=souprepos.find_all('h1', class_='h3 lh-condensed')\n",
    "tablarepos"
   ]
  },
  {
   "cell_type": "code",
   "execution_count": 97,
   "metadata": {},
   "outputs": [
    {
     "data": {
      "text/plain": [
       "['stashapp/      stash',\n",
       " 'MubertAI/      Mubert-Text-to-Music',\n",
       " 'lensterxyz/      lenster',\n",
       " 'alibaba/      higress',\n",
       " 'bregman-arie/      devops-exercises',\n",
       " 'mastodon/      mastodon',\n",
       " 'public-apis/      public-apis',\n",
       " 'ProjectOpenSea/      operator-filter-registry',\n",
       " 'trinib/      Linux-Bash-Commands',\n",
       " 'ryanmcdermott/      clean-code-javascript',\n",
       " '6mile/      DevSecOps-Playbook',\n",
       " 'ossu/      computer-science',\n",
       " 'facebook/      react-native',\n",
       " 'geohot/      tinygrad',\n",
       " 'algorithm-visualizer/      algorithm-visualizer',\n",
       " 'jlevy/      the-art-of-command-line',\n",
       " 'Budibase/      budibase',\n",
       " 'nathanlesage/      academics-on-mastodon',\n",
       " 'dillongoostudios/      goo-engine',\n",
       " 'RustScan/      RustScan',\n",
       " 'mastodon/      mastodon-android',\n",
       " 'ant-design/      pro-components',\n",
       " 'CyC2018/      CS-Notes',\n",
       " 'mdn/      content',\n",
       " 'safing/      portmaster']"
      ]
     },
     "execution_count": 97,
     "metadata": {},
     "output_type": "execute_result"
    }
   ],
   "source": [
    "tablarepos1=[i.text.strip().replace(' /\\n\\n','/') for i in tablarepos]\n",
    "tablarepos1"
   ]
  },
  {
   "cell_type": "code",
   "execution_count": 98,
   "metadata": {},
   "outputs": [
    {
     "data": {
      "text/plain": [
       "['stashapp/stash',\n",
       " 'MubertAI/Mubert-Text-to-Music',\n",
       " 'lensterxyz/lenster',\n",
       " 'alibaba/higress',\n",
       " 'bregman-arie/devops-exercises',\n",
       " 'mastodon/mastodon',\n",
       " 'public-apis/public-apis',\n",
       " 'ProjectOpenSea/operator-filter-registry',\n",
       " 'trinib/Linux-Bash-Commands',\n",
       " 'ryanmcdermott/clean-code-javascript',\n",
       " '6mile/DevSecOps-Playbook',\n",
       " 'ossu/computer-science',\n",
       " 'facebook/react-native',\n",
       " 'geohot/tinygrad',\n",
       " 'algorithm-visualizer/algorithm-visualizer',\n",
       " 'jlevy/the-art-of-command-line',\n",
       " 'Budibase/budibase',\n",
       " 'nathanlesage/academics-on-mastodon',\n",
       " 'dillongoostudios/goo-engine',\n",
       " 'RustScan/RustScan',\n",
       " 'mastodon/mastodon-android',\n",
       " 'ant-design/pro-components',\n",
       " 'CyC2018/CS-Notes',\n",
       " 'mdn/content',\n",
       " 'safing/portmaster']"
      ]
     },
     "execution_count": 98,
     "metadata": {},
     "output_type": "execute_result"
    }
   ],
   "source": [
    "tablarepos2=[i.replace('      ','') for i in tablarepos1]\n",
    "tablarepos2"
   ]
  },
  {
   "cell_type": "markdown",
   "metadata": {},
   "source": [
    "#### Display all the image links from Walt Disney wikipedia page"
   ]
  },
  {
   "cell_type": "code",
   "execution_count": 136,
   "metadata": {},
   "outputs": [],
   "source": [
    "# This is the url you will scrape in this exercise\n",
    "urldisney = 'https://en.wikipedia.org/wiki/Walt_Disney'"
   ]
  },
  {
   "cell_type": "code",
   "execution_count": 137,
   "metadata": {},
   "outputs": [],
   "source": [
    "#your code\n",
    "\n",
    "htmldisney=req.get(urldisney).text\n",
    "soupdisney=bs(htmldisney, 'html.parser')\n"
   ]
  },
  {
   "cell_type": "code",
   "execution_count": 138,
   "metadata": {},
   "outputs": [
    {
     "data": {
      "text/plain": [
       "[<img alt=\"Featured article\" data-file-height=\"438\" data-file-width=\"462\" decoding=\"async\" height=\"19\" src=\"//upload.wikimedia.org/wikipedia/en/thumb/e/e7/Cscr-featured.svg/20px-Cscr-featured.svg.png\" srcset=\"//upload.wikimedia.org/wikipedia/en/thumb/e/e7/Cscr-featured.svg/30px-Cscr-featured.svg.png 1.5x, //upload.wikimedia.org/wikipedia/en/thumb/e/e7/Cscr-featured.svg/40px-Cscr-featured.svg.png 2x\" width=\"20\"/>,\n",
       " <img alt=\"Extended-protected article\" data-file-height=\"512\" data-file-width=\"512\" decoding=\"async\" height=\"20\" src=\"//upload.wikimedia.org/wikipedia/en/thumb/8/8c/Extended-protection-shackle.svg/20px-Extended-protection-shackle.svg.png\" srcset=\"//upload.wikimedia.org/wikipedia/en/thumb/8/8c/Extended-protection-shackle.svg/30px-Extended-protection-shackle.svg.png 1.5x, //upload.wikimedia.org/wikipedia/en/thumb/8/8c/Extended-protection-shackle.svg/40px-Extended-protection-shackle.svg.png 2x\" width=\"20\"/>,\n",
       " <img alt=\"Walt Disney 1946.JPG\" data-file-height=\"675\" data-file-width=\"450\" decoding=\"async\" height=\"330\" src=\"//upload.wikimedia.org/wikipedia/commons/thumb/d/df/Walt_Disney_1946.JPG/220px-Walt_Disney_1946.JPG\" srcset=\"//upload.wikimedia.org/wikipedia/commons/thumb/d/df/Walt_Disney_1946.JPG/330px-Walt_Disney_1946.JPG 1.5x, //upload.wikimedia.org/wikipedia/commons/thumb/d/df/Walt_Disney_1946.JPG/440px-Walt_Disney_1946.JPG 2x\" width=\"220\"/>,\n",
       " <img alt=\"Walt Disney 1942 signature.svg\" data-file-height=\"218\" data-file-width=\"585\" decoding=\"async\" height=\"56\" src=\"//upload.wikimedia.org/wikipedia/commons/thumb/8/87/Walt_Disney_1942_signature.svg/150px-Walt_Disney_1942_signature.svg.png\" srcset=\"//upload.wikimedia.org/wikipedia/commons/thumb/8/87/Walt_Disney_1942_signature.svg/225px-Walt_Disney_1942_signature.svg.png 1.5x, //upload.wikimedia.org/wikipedia/commons/thumb/8/87/Walt_Disney_1942_signature.svg/300px-Walt_Disney_1942_signature.svg.png 2x\" width=\"150\"/>,\n",
       " <img alt=\"Pale yellow wooden house with brown trim surrounded by white picket fence\" class=\"thumbimage\" data-file-height=\"1080\" data-file-width=\"1440\" decoding=\"async\" height=\"165\" src=\"//upload.wikimedia.org/wikipedia/commons/thumb/3/3a/Walt_Disney_Birthplace_Exterior_Hermosa_Chicago_Illinois.jpg/220px-Walt_Disney_Birthplace_Exterior_Hermosa_Chicago_Illinois.jpg\" srcset=\"//upload.wikimedia.org/wikipedia/commons/thumb/3/3a/Walt_Disney_Birthplace_Exterior_Hermosa_Chicago_Illinois.jpg/330px-Walt_Disney_Birthplace_Exterior_Hermosa_Chicago_Illinois.jpg 1.5x, //upload.wikimedia.org/wikipedia/commons/thumb/3/3a/Walt_Disney_Birthplace_Exterior_Hermosa_Chicago_Illinois.jpg/440px-Walt_Disney_Birthplace_Exterior_Hermosa_Chicago_Illinois.jpg 2x\" width=\"220\"/>,\n",
       " <img alt=\"\" class=\"thumbimage\" data-file-height=\"1086\" data-file-width=\"1576\" decoding=\"async\" height=\"152\" src=\"//upload.wikimedia.org/wikipedia/commons/thumb/c/c4/Walt_Disney_envelope_ca._1921.jpg/220px-Walt_Disney_envelope_ca._1921.jpg\" srcset=\"//upload.wikimedia.org/wikipedia/commons/thumb/c/c4/Walt_Disney_envelope_ca._1921.jpg/330px-Walt_Disney_envelope_ca._1921.jpg 1.5x, //upload.wikimedia.org/wikipedia/commons/thumb/c/c4/Walt_Disney_envelope_ca._1921.jpg/440px-Walt_Disney_envelope_ca._1921.jpg 2x\" width=\"220\"/>,\n",
       " <img alt=\"A cartoon rabbit is driving a tramcar; other cartoon rabbits are in, under, on and around the car.\" class=\"thumbimage\" data-file-height=\"1600\" data-file-width=\"1202\" decoding=\"async\" height=\"226\" src=\"//upload.wikimedia.org/wikipedia/commons/thumb/0/0d/Trolley_Troubles_poster.jpg/170px-Trolley_Troubles_poster.jpg\" srcset=\"//upload.wikimedia.org/wikipedia/commons/thumb/0/0d/Trolley_Troubles_poster.jpg/255px-Trolley_Troubles_poster.jpg 1.5x, //upload.wikimedia.org/wikipedia/commons/thumb/0/0d/Trolley_Troubles_poster.jpg/340px-Trolley_Troubles_poster.jpg 2x\" width=\"170\"/>,\n",
       " <img alt=\"A cartoon mouse is operating a ship's steering wheel\" class=\"thumbimage\" data-file-height=\"267\" data-file-width=\"373\" decoding=\"async\" height=\"122\" src=\"//upload.wikimedia.org/wikipedia/en/thumb/4/4e/Steamboat-willie.jpg/170px-Steamboat-willie.jpg\" srcset=\"//upload.wikimedia.org/wikipedia/en/thumb/4/4e/Steamboat-willie.jpg/255px-Steamboat-willie.jpg 1.5x, //upload.wikimedia.org/wikipedia/en/thumb/4/4e/Steamboat-willie.jpg/340px-Steamboat-willie.jpg 2x\" width=\"170\"/>,\n",
       " <img alt=\"\" class=\"thumbimage\" data-file-height=\"4683\" data-file-width=\"6357\" decoding=\"async\" height=\"125\" src=\"//upload.wikimedia.org/wikipedia/commons/thumb/5/57/Walt_Disney_1935.jpg/170px-Walt_Disney_1935.jpg\" srcset=\"//upload.wikimedia.org/wikipedia/commons/thumb/5/57/Walt_Disney_1935.jpg/255px-Walt_Disney_1935.jpg 1.5x, //upload.wikimedia.org/wikipedia/commons/thumb/5/57/Walt_Disney_1935.jpg/340px-Walt_Disney_1935.jpg 2x\" width=\"170\"/>,\n",
       " <img alt=\"Walt Disney sits in front of a set of models of the seven dwarfs\" class=\"thumbimage\" data-file-height=\"388\" data-file-width=\"500\" decoding=\"async\" height=\"171\" src=\"//upload.wikimedia.org/wikipedia/commons/thumb/c/cd/Walt_Disney_Snow_white_1937_trailer_screenshot_%2813%29.jpg/220px-Walt_Disney_Snow_white_1937_trailer_screenshot_%2813%29.jpg\" srcset=\"//upload.wikimedia.org/wikipedia/commons/thumb/c/cd/Walt_Disney_Snow_white_1937_trailer_screenshot_%2813%29.jpg/330px-Walt_Disney_Snow_white_1937_trailer_screenshot_%2813%29.jpg 1.5x, //upload.wikimedia.org/wikipedia/commons/thumb/c/cd/Walt_Disney_Snow_white_1937_trailer_screenshot_%2813%29.jpg/440px-Walt_Disney_Snow_white_1937_trailer_screenshot_%2813%29.jpg 2x\" width=\"220\"/>,\n",
       " <img alt=\"\" class=\"thumbimage\" data-file-height=\"770\" data-file-width=\"600\" decoding=\"async\" height=\"218\" src=\"//upload.wikimedia.org/wikipedia/commons/thumb/1/15/Disney_drawing_goofy.jpg/170px-Disney_drawing_goofy.jpg\" srcset=\"//upload.wikimedia.org/wikipedia/commons/thumb/1/15/Disney_drawing_goofy.jpg/255px-Disney_drawing_goofy.jpg 1.5x, //upload.wikimedia.org/wikipedia/commons/thumb/1/15/Disney_drawing_goofy.jpg/340px-Disney_drawing_goofy.jpg 2x\" width=\"170\"/>,\n",
       " <img alt=\"\" class=\"thumbimage\" data-file-height=\"2417\" data-file-width=\"2723\" decoding=\"async\" height=\"195\" src=\"//upload.wikimedia.org/wikipedia/commons/thumb/8/8c/WaltDisneyplansDisneylandDec1954.jpg/220px-WaltDisneyplansDisneylandDec1954.jpg\" srcset=\"//upload.wikimedia.org/wikipedia/commons/thumb/8/8c/WaltDisneyplansDisneylandDec1954.jpg/330px-WaltDisneyplansDisneylandDec1954.jpg 1.5x, //upload.wikimedia.org/wikipedia/commons/thumb/8/8c/WaltDisneyplansDisneylandDec1954.jpg/440px-WaltDisneyplansDisneylandDec1954.jpg 2x\" width=\"220\"/>,\n",
       " <img alt=\"\" class=\"thumbimage\" data-file-height=\"902\" data-file-width=\"667\" decoding=\"async\" height=\"230\" src=\"//upload.wikimedia.org/wikipedia/commons/thumb/f/ff/Walt_disney_portrait_right.jpg/170px-Walt_disney_portrait_right.jpg\" srcset=\"//upload.wikimedia.org/wikipedia/commons/thumb/f/ff/Walt_disney_portrait_right.jpg/255px-Walt_disney_portrait_right.jpg 1.5x, //upload.wikimedia.org/wikipedia/commons/thumb/f/ff/Walt_disney_portrait_right.jpg/340px-Walt_disney_portrait_right.jpg 2x\" width=\"170\"/>,\n",
       " <img alt=\"A gravestone inscribed 'Walter Elias Disney', 'Lillian Bounds Disney', 'Robert B. Brown', Sharon Disney Brown Lund ashes scattered in paradise'\" class=\"thumbimage\" data-file-height=\"1700\" data-file-width=\"1400\" decoding=\"async\" height=\"206\" src=\"//upload.wikimedia.org/wikipedia/commons/thumb/1/1a/Walt_Disney_Grave.JPG/170px-Walt_Disney_Grave.JPG\" srcset=\"//upload.wikimedia.org/wikipedia/commons/thumb/1/1a/Walt_Disney_Grave.JPG/255px-Walt_Disney_Grave.JPG 1.5x, //upload.wikimedia.org/wikipedia/commons/thumb/1/1a/Walt_Disney_Grave.JPG/340px-Walt_Disney_Grave.JPG 2x\" width=\"170\"/>,\n",
       " <img alt=\"\" class=\"thumbimage\" data-file-height=\"275\" data-file-width=\"220\" decoding=\"async\" height=\"213\" src=\"//upload.wikimedia.org/wikipedia/commons/thumb/2/2d/Roy_O._Disney_with_Company_at_Press_Conference.jpg/170px-Roy_O._Disney_with_Company_at_Press_Conference.jpg\" srcset=\"//upload.wikimedia.org/wikipedia/commons/2/2d/Roy_O._Disney_with_Company_at_Press_Conference.jpg 1.5x\" width=\"170\"/>,\n",
       " <img alt=\"\" class=\"thumbimage\" data-file-height=\"2493\" data-file-width=\"3247\" decoding=\"async\" height=\"169\" src=\"//upload.wikimedia.org/wikipedia/commons/thumb/1/13/DisneySchiphol1951.jpg/220px-DisneySchiphol1951.jpg\" srcset=\"//upload.wikimedia.org/wikipedia/commons/thumb/1/13/DisneySchiphol1951.jpg/330px-DisneySchiphol1951.jpg 1.5x, //upload.wikimedia.org/wikipedia/commons/thumb/1/13/DisneySchiphol1951.jpg/440px-DisneySchiphol1951.jpg 2x\" width=\"220\"/>,\n",
       " <img alt=\"A portrait of Disney with cartoon representations of different nationalities on a 6 cent US stamp\" class=\"thumbimage\" data-file-height=\"736\" data-file-width=\"483\" decoding=\"async\" height=\"259\" src=\"//upload.wikimedia.org/wikipedia/commons/thumb/6/6c/Disney1968.jpg/170px-Disney1968.jpg\" srcset=\"//upload.wikimedia.org/wikipedia/commons/thumb/6/6c/Disney1968.jpg/255px-Disney1968.jpg 1.5x, //upload.wikimedia.org/wikipedia/commons/thumb/6/6c/Disney1968.jpg/340px-Disney1968.jpg 2x\" width=\"170\"/>,\n",
       " <img alt=\"A black and white photograph of Walt Disney standing, holding an Academy Award.\" class=\"thumbimage\" data-file-height=\"1214\" data-file-width=\"841\" decoding=\"async\" height=\"245\" src=\"//upload.wikimedia.org/wikipedia/commons/thumb/b/b0/Disney_Oscar_1953_%28cropped%29.jpg/170px-Disney_Oscar_1953_%28cropped%29.jpg\" srcset=\"//upload.wikimedia.org/wikipedia/commons/thumb/b/b0/Disney_Oscar_1953_%28cropped%29.jpg/255px-Disney_Oscar_1953_%28cropped%29.jpg 1.5x, //upload.wikimedia.org/wikipedia/commons/thumb/b/b0/Disney_Oscar_1953_%28cropped%29.jpg/340px-Disney_Oscar_1953_%28cropped%29.jpg 2x\" width=\"170\"/>,\n",
       " <img alt=\"\" class=\"noviewer\" data-file-height=\"1376\" data-file-width=\"1024\" decoding=\"async\" height=\"40\" src=\"//upload.wikimedia.org/wikipedia/en/thumb/4/4a/Commons-logo.svg/30px-Commons-logo.svg.png\" srcset=\"//upload.wikimedia.org/wikipedia/en/thumb/4/4a/Commons-logo.svg/45px-Commons-logo.svg.png 1.5x, //upload.wikimedia.org/wikipedia/en/thumb/4/4a/Commons-logo.svg/59px-Commons-logo.svg.png 2x\" width=\"30\"/>,\n",
       " <img alt=\"\" class=\"noviewer\" data-file-height=\"430\" data-file-width=\"410\" decoding=\"async\" height=\"40\" src=\"//upload.wikimedia.org/wikipedia/commons/thumb/4/4c/Wikisource-logo.svg/38px-Wikisource-logo.svg.png\" srcset=\"//upload.wikimedia.org/wikipedia/commons/thumb/4/4c/Wikisource-logo.svg/57px-Wikisource-logo.svg.png 1.5x, //upload.wikimedia.org/wikipedia/commons/thumb/4/4c/Wikisource-logo.svg/76px-Wikisource-logo.svg.png 2x\" width=\"38\"/>,\n",
       " <img alt=\"\" class=\"noviewer\" data-file-height=\"355\" data-file-width=\"300\" decoding=\"async\" height=\"40\" src=\"//upload.wikimedia.org/wikipedia/commons/thumb/f/fa/Wikiquote-logo.svg/34px-Wikiquote-logo.svg.png\" srcset=\"//upload.wikimedia.org/wikipedia/commons/thumb/f/fa/Wikiquote-logo.svg/51px-Wikiquote-logo.svg.png 1.5x, //upload.wikimedia.org/wikipedia/commons/thumb/f/fa/Wikiquote-logo.svg/68px-Wikiquote-logo.svg.png 2x\" width=\"34\"/>,\n",
       " <img alt=\"Edit this at Wikidata\" class=\"noprint\" data-file-height=\"20\" data-file-width=\"20\" decoding=\"async\" height=\"10\" src=\"//upload.wikimedia.org/wikipedia/en/thumb/8/8a/OOjs_UI_icon_edit-ltr-progressive.svg/10px-OOjs_UI_icon_edit-ltr-progressive.svg.png\" srcset=\"//upload.wikimedia.org/wikipedia/en/thumb/8/8a/OOjs_UI_icon_edit-ltr-progressive.svg/15px-OOjs_UI_icon_edit-ltr-progressive.svg.png 1.5x, //upload.wikimedia.org/wikipedia/en/thumb/8/8a/OOjs_UI_icon_edit-ltr-progressive.svg/20px-OOjs_UI_icon_edit-ltr-progressive.svg.png 2x\" style=\"vertical-align: text-top\" width=\"10\"/>,\n",
       " <img alt=\"Edit this at Wikidata\" class=\"noprint\" data-file-height=\"20\" data-file-width=\"20\" decoding=\"async\" height=\"10\" src=\"//upload.wikimedia.org/wikipedia/en/thumb/8/8a/OOjs_UI_icon_edit-ltr-progressive.svg/10px-OOjs_UI_icon_edit-ltr-progressive.svg.png\" srcset=\"//upload.wikimedia.org/wikipedia/en/thumb/8/8a/OOjs_UI_icon_edit-ltr-progressive.svg/15px-OOjs_UI_icon_edit-ltr-progressive.svg.png 1.5x, //upload.wikimedia.org/wikipedia/en/thumb/8/8a/OOjs_UI_icon_edit-ltr-progressive.svg/20px-OOjs_UI_icon_edit-ltr-progressive.svg.png 2x\" style=\"vertical-align: text-top\" width=\"10\"/>,\n",
       " <img alt=\"Disneyland Resort logo.svg\" data-file-height=\"66\" data-file-width=\"267\" decoding=\"async\" height=\"33\" src=\"//upload.wikimedia.org/wikipedia/commons/thumb/e/e3/Disneyland_Resort_logo.svg/135px-Disneyland_Resort_logo.svg.png\" srcset=\"//upload.wikimedia.org/wikipedia/commons/thumb/e/e3/Disneyland_Resort_logo.svg/203px-Disneyland_Resort_logo.svg.png 1.5x, //upload.wikimedia.org/wikipedia/commons/thumb/e/e3/Disneyland_Resort_logo.svg/270px-Disneyland_Resort_logo.svg.png 2x\" width=\"135\"/>,\n",
       " <img alt=\"icon\" data-file-height=\"28\" data-file-width=\"30\" decoding=\"async\" height=\"19\" src=\"//upload.wikimedia.org/wikipedia/commons/thumb/d/da/Animation_disc.svg/20px-Animation_disc.svg.png\" srcset=\"//upload.wikimedia.org/wikipedia/commons/thumb/d/da/Animation_disc.svg/31px-Animation_disc.svg.png 1.5x, //upload.wikimedia.org/wikipedia/commons/thumb/d/da/Animation_disc.svg/41px-Animation_disc.svg.png 2x\" width=\"20\"/>,\n",
       " <img alt=\"\" data-file-height=\"1944\" data-file-width=\"1911\" decoding=\"async\" height=\"19\" src=\"//upload.wikimedia.org/wikipedia/en/thumb/6/69/P_vip.svg/19px-P_vip.svg.png\" srcset=\"//upload.wikimedia.org/wikipedia/en/thumb/6/69/P_vip.svg/28px-P_vip.svg.png 1.5x, //upload.wikimedia.org/wikipedia/en/thumb/6/69/P_vip.svg/37px-P_vip.svg.png 2x\" width=\"19\"/>,\n",
       " <img alt=\"icon\" data-file-height=\"1545\" data-file-width=\"1262\" decoding=\"async\" height=\"19\" src=\"//upload.wikimedia.org/wikipedia/commons/thumb/1/1a/Magic_Kingdom_castle.jpg/15px-Magic_Kingdom_castle.jpg\" srcset=\"//upload.wikimedia.org/wikipedia/commons/thumb/1/1a/Magic_Kingdom_castle.jpg/24px-Magic_Kingdom_castle.jpg 1.5x, //upload.wikimedia.org/wikipedia/commons/thumb/1/1a/Magic_Kingdom_castle.jpg/31px-Magic_Kingdom_castle.jpg 2x\" width=\"15\"/>,\n",
       " <img alt=\"\" data-file-height=\"48\" data-file-width=\"48\" decoding=\"async\" height=\"19\" src=\"//upload.wikimedia.org/wikipedia/en/thumb/e/e7/Video-x-generic.svg/19px-Video-x-generic.svg.png\" srcset=\"//upload.wikimedia.org/wikipedia/en/thumb/e/e7/Video-x-generic.svg/29px-Video-x-generic.svg.png 1.5x, //upload.wikimedia.org/wikipedia/en/thumb/e/e7/Video-x-generic.svg/38px-Video-x-generic.svg.png 2x\" width=\"19\"/>,\n",
       " <img alt=\"flag\" class=\"thumbborder\" data-file-height=\"913\" data-file-width=\"1522\" decoding=\"async\" height=\"13\" src=\"//upload.wikimedia.org/wikipedia/commons/thumb/a/a3/Flag_of_Los_Angeles_County%2C_California.svg/21px-Flag_of_Los_Angeles_County%2C_California.svg.png\" srcset=\"//upload.wikimedia.org/wikipedia/commons/thumb/a/a3/Flag_of_Los_Angeles_County%2C_California.svg/32px-Flag_of_Los_Angeles_County%2C_California.svg.png 1.5x, //upload.wikimedia.org/wikipedia/commons/thumb/a/a3/Flag_of_Los_Angeles_County%2C_California.svg/42px-Flag_of_Los_Angeles_County%2C_California.svg.png 2x\" width=\"21\"/>,\n",
       " <img alt=\"icon\" data-file-height=\"92\" data-file-width=\"138\" decoding=\"async\" height=\"14\" src=\"//upload.wikimedia.org/wikipedia/commons/thumb/8/8c/Blank_television_set.svg/21px-Blank_television_set.svg.png\" srcset=\"//upload.wikimedia.org/wikipedia/commons/thumb/8/8c/Blank_television_set.svg/32px-Blank_television_set.svg.png 1.5x, //upload.wikimedia.org/wikipedia/commons/thumb/8/8c/Blank_television_set.svg/42px-Blank_television_set.svg.png 2x\" width=\"21\"/>,\n",
       " <img alt=\"flag\" class=\"thumbborder\" data-file-height=\"650\" data-file-width=\"1235\" decoding=\"async\" height=\"11\" src=\"//upload.wikimedia.org/wikipedia/en/thumb/a/a4/Flag_of_the_United_States.svg/21px-Flag_of_the_United_States.svg.png\" srcset=\"//upload.wikimedia.org/wikipedia/en/thumb/a/a4/Flag_of_the_United_States.svg/32px-Flag_of_the_United_States.svg.png 1.5x, //upload.wikimedia.org/wikipedia/en/thumb/a/a4/Flag_of_the_United_States.svg/42px-Flag_of_the_United_States.svg.png 2x\" width=\"21\"/>,\n",
       " <img alt=\"\" data-file-height=\"1376\" data-file-width=\"1024\" decoding=\"async\" height=\"19\" src=\"//upload.wikimedia.org/wikipedia/en/thumb/4/4a/Commons-logo.svg/14px-Commons-logo.svg.png\" srcset=\"//upload.wikimedia.org/wikipedia/en/thumb/4/4a/Commons-logo.svg/21px-Commons-logo.svg.png 1.5x, //upload.wikimedia.org/wikipedia/en/thumb/4/4a/Commons-logo.svg/28px-Commons-logo.svg.png 2x\" width=\"14\"/>,\n",
       " <img alt=\"\" data-file-height=\"355\" data-file-width=\"300\" decoding=\"async\" height=\"19\" src=\"//upload.wikimedia.org/wikipedia/commons/thumb/f/fa/Wikiquote-logo.svg/16px-Wikiquote-logo.svg.png\" srcset=\"//upload.wikimedia.org/wikipedia/commons/thumb/f/fa/Wikiquote-logo.svg/24px-Wikiquote-logo.svg.png 1.5x, //upload.wikimedia.org/wikipedia/commons/thumb/f/fa/Wikiquote-logo.svg/32px-Wikiquote-logo.svg.png 2x\" width=\"16\"/>,\n",
       " <img alt=\"\" data-file-height=\"430\" data-file-width=\"410\" decoding=\"async\" height=\"19\" src=\"//upload.wikimedia.org/wikipedia/commons/thumb/4/4c/Wikisource-logo.svg/18px-Wikisource-logo.svg.png\" srcset=\"//upload.wikimedia.org/wikipedia/commons/thumb/4/4c/Wikisource-logo.svg/28px-Wikisource-logo.svg.png 1.5x, //upload.wikimedia.org/wikipedia/commons/thumb/4/4c/Wikisource-logo.svg/36px-Wikisource-logo.svg.png 2x\" width=\"18\"/>,\n",
       " <img alt=\"\" data-file-height=\"590\" data-file-width=\"1050\" decoding=\"async\" height=\"12\" src=\"//upload.wikimedia.org/wikipedia/commons/thumb/f/ff/Wikidata-logo.svg/21px-Wikidata-logo.svg.png\" srcset=\"//upload.wikimedia.org/wikipedia/commons/thumb/f/ff/Wikidata-logo.svg/32px-Wikidata-logo.svg.png 1.5x, //upload.wikimedia.org/wikipedia/commons/thumb/f/ff/Wikidata-logo.svg/42px-Wikidata-logo.svg.png 2x\" width=\"21\"/>,\n",
       " <img alt=\"Edit this at Wikidata\" class=\"noprint\" data-file-height=\"20\" data-file-width=\"20\" decoding=\"async\" height=\"10\" src=\"//upload.wikimedia.org/wikipedia/en/thumb/8/8a/OOjs_UI_icon_edit-ltr-progressive.svg/10px-OOjs_UI_icon_edit-ltr-progressive.svg.png\" srcset=\"//upload.wikimedia.org/wikipedia/en/thumb/8/8a/OOjs_UI_icon_edit-ltr-progressive.svg/15px-OOjs_UI_icon_edit-ltr-progressive.svg.png 1.5x, //upload.wikimedia.org/wikipedia/en/thumb/8/8a/OOjs_UI_icon_edit-ltr-progressive.svg/20px-OOjs_UI_icon_edit-ltr-progressive.svg.png 2x\" style=\"vertical-align: text-top\" width=\"10\"/>,\n",
       " <img alt=\"\" height=\"1\" src=\"//en.wikipedia.org/wiki/Special:CentralAutoLogin/start?type=1x1\" style=\"border: none; position: absolute;\" title=\"\" width=\"1\"/>,\n",
       " <img alt=\"Wikimedia Foundation\" height=\"31\" loading=\"lazy\" src=\"/static/images/footer/wikimedia-button.png\" srcset=\"/static/images/footer/wikimedia-button-1.5x.png 1.5x, /static/images/footer/wikimedia-button-2x.png 2x\" width=\"88\"/>,\n",
       " <img alt=\"Powered by MediaWiki\" height=\"31\" loading=\"lazy\" src=\"/static/images/footer/poweredby_mediawiki_88x31.png\" srcset=\"/static/images/footer/poweredby_mediawiki_132x47.png 1.5x, /static/images/footer/poweredby_mediawiki_176x62.png 2x\" width=\"88\"/>]"
      ]
     },
     "execution_count": 138,
     "metadata": {},
     "output_type": "execute_result"
    }
   ],
   "source": [
    "imgdisney = soupdisney.find_all('img')\n",
    "imgdisney"
   ]
  },
  {
   "cell_type": "code",
   "execution_count": 141,
   "metadata": {},
   "outputs": [
    {
     "data": {
      "text/plain": [
       "'//upload.wikimedia.org/wikipedia/en/thumb/e/e7/Cscr-featured.svg/20px-Cscr-featured.svg.png'"
      ]
     },
     "execution_count": 141,
     "metadata": {},
     "output_type": "execute_result"
    }
   ],
   "source": [
    "links=[i.attrs['src'] for i in imgdisney]\n",
    "\n",
    "links[0]"
   ]
  },
  {
   "cell_type": "markdown",
   "metadata": {},
   "source": [
    "#### Retrieve an arbitary Wikipedia page of \"Python\" and create a list of links on that page"
   ]
  },
  {
   "cell_type": "code",
   "execution_count": 155,
   "metadata": {},
   "outputs": [],
   "source": [
    "# This is the url you will scrape in this exercise\n",
    "urlpy ='https://en.wikipedia.org/wiki/Python' "
   ]
  },
  {
   "cell_type": "code",
   "execution_count": 156,
   "metadata": {},
   "outputs": [],
   "source": [
    "#your code\n",
    "htmlpy=req.get(urlpy).text\n",
    "souppy=bs(htmlpy, 'html.parser')"
   ]
  },
  {
   "cell_type": "code",
   "execution_count": 164,
   "metadata": {},
   "outputs": [
    {
     "data": {
      "text/plain": [
       "['/w/load.php?lang=en&modules=ext.uls.interlanguage%7Cext.visualEditor.desktopArticleTarget.noscript%7Cext.wikimediaBadges%7Cskins.vector.styles.legacy%7Cwikibase.client.init&only=styles&skin=vector',\n",
       " '/w/load.php?lang=en&modules=site.styles&only=styles&skin=vector',\n",
       " '//upload.wikimedia.org',\n",
       " '//en.m.wikipedia.org/wiki/Python',\n",
       " '/w/index.php?title=Python&action=edit',\n",
       " '/static/apple-touch/wikipedia.png',\n",
       " '/static/favicon/wikipedia.ico',\n",
       " '/w/opensearch_desc.php',\n",
       " '//en.wikipedia.org/w/api.php?action=rsd',\n",
       " 'https://creativecommons.org/licenses/by-sa/3.0/',\n",
       " 'https://en.wikipedia.org/wiki/Python',\n",
       " '//meta.wikimedia.org',\n",
       " '//login.wikimedia.org']"
      ]
     },
     "execution_count": 164,
     "metadata": {},
     "output_type": "execute_result"
    }
   ],
   "source": [
    "linkswiki=souppy.find_all('link')\n",
    "\n",
    "linkswikipy=[i.attrs['href'] for i in linkswiki]\n",
    "linkswikipy"
   ]
  },
  {
   "cell_type": "markdown",
   "metadata": {},
   "source": [
    "#### Number of Titles that have changed in the United States Code since its last release point "
   ]
  },
  {
   "cell_type": "code",
   "execution_count": 166,
   "metadata": {},
   "outputs": [],
   "source": [
    "# This is the url you will scrape in this exercise\n",
    "urlusa = 'http://uscode.house.gov/download/download.shtml'"
   ]
  },
  {
   "cell_type": "code",
   "execution_count": 168,
   "metadata": {},
   "outputs": [],
   "source": [
    "#your code\n",
    "\n",
    "htmlusa=req.get(urlusa).text\n",
    "soupusa=bs(htmlusa, 'html.parser')"
   ]
  },
  {
   "cell_type": "code",
   "execution_count": 170,
   "metadata": {},
   "outputs": [
    {
     "data": {
      "text/plain": [
       "9"
      ]
     },
     "execution_count": 170,
     "metadata": {},
     "output_type": "execute_result"
    }
   ],
   "source": [
    "usa=soupusa.find_all('div', class_='usctitlechanged')\n",
    "len(usa)"
   ]
  },
  {
   "cell_type": "markdown",
   "metadata": {},
   "source": [
    "#### A Python list with the top ten FBI's Most Wanted names "
   ]
  },
  {
   "cell_type": "code",
   "execution_count": 171,
   "metadata": {},
   "outputs": [],
   "source": [
    "# This is the url you will scrape in this exercise\n",
    "urlfbi = 'https://www.fbi.gov/wanted/topten'\n"
   ]
  },
  {
   "cell_type": "code",
   "execution_count": 172,
   "metadata": {},
   "outputs": [],
   "source": [
    "#your code \n",
    "\n",
    "htmlfbi=req.get(urlfbi).text\n",
    "soupfbi=bs(htmlfbi, 'html.parser')"
   ]
  },
  {
   "cell_type": "code",
   "execution_count": 174,
   "metadata": {},
   "outputs": [
    {
     "data": {
      "text/plain": [
       "<h3 class=\"title\">\n",
       "<a href=\"https://www.fbi.gov/wanted/topten/omar-alexander-cardenas\">OMAR ALEXANDER CARDENAS</a>\n",
       "</h3>"
      ]
     },
     "execution_count": 174,
     "metadata": {},
     "output_type": "execute_result"
    }
   ],
   "source": [
    "fbi=soupfbi.find_all('h3', class_='title')\n",
    "fbi[0]"
   ]
  },
  {
   "cell_type": "code",
   "execution_count": 178,
   "metadata": {},
   "outputs": [
    {
     "data": {
      "text/plain": [
       "['OMAR ALEXANDER CARDENAS',\n",
       " 'ALEXIS FLORES',\n",
       " 'JOSE RODOLFO VILLARREAL-HERNANDEZ',\n",
       " 'YULAN ADONAY ARCHAGA CARIAS',\n",
       " 'BHADRESHKUMAR CHETANBHAI PATEL',\n",
       " 'ALEJANDRO ROSALES CASTILLO',\n",
       " 'MICHAEL JAMES PRATT',\n",
       " 'RUJA IGNATOVA',\n",
       " 'ARNOLDO JIMENEZ',\n",
       " 'RAFAEL CARO-QUINTERO']"
      ]
     },
     "execution_count": 178,
     "metadata": {},
     "output_type": "execute_result"
    }
   ],
   "source": [
    "masbuscados = [i.text.strip() for i in fbi]\n",
    "masbuscados"
   ]
  },
  {
   "cell_type": "markdown",
   "metadata": {},
   "source": [
    "####  20 latest earthquakes info (date, time, latitude, longitude and region name) by the EMSC as a pandas dataframe"
   ]
  },
  {
   "cell_type": "code",
   "execution_count": 179,
   "metadata": {},
   "outputs": [],
   "source": [
    "# This is the url you will scrape in this exercise\n",
    "urlterr = 'https://www.emsc-csem.org/Earthquake/'"
   ]
  },
  {
   "cell_type": "code",
   "execution_count": 180,
   "metadata": {},
   "outputs": [],
   "source": [
    "#your code\n",
    "\n",
    "htmlterr = req.get(urlterr).text\n",
    "soupterr = bs(htmlterr, 'html.parser')\n"
   ]
  },
  {
   "cell_type": "code",
   "execution_count": 224,
   "metadata": {},
   "outputs": [
    {
     "data": {
      "text/plain": [
       "[<tbody id=\"tbody\"><tr class=\"ligne1 normal\" id=\"1186871\" onclick=\"go_details(event,1186871);\"><td class=\"tabev0\"></td><td class=\"tabev0\"></td><td class=\"tabev0\"></td><td class=\"tabev6\"><b><i style=\"display:none;\">earthquake</i><a href=\"/Earthquake/earthquake.php?id=1186871\">2022-11-08   16:35:25.0</a></b><i class=\"ago\" id=\"ago0\">07min ago</i></td><td class=\"tabev1\">39.60 </td><td class=\"tabev2\">N  </td><td class=\"tabev1\">120.40 </td><td class=\"tabev2\">W  </td><td class=\"tabev3\">-2</td><td class=\"tabev5\" id=\"magtyp0\">MD</td><td class=\"tabev2\">2.9</td><td class=\"tb_region\" id=\"reg0\"> NORTHERN CALIFORNIA</td><td class=\"comment updatetimeno\" id=\"upd0\" style=\"text-align:right;\">2022-11-08 16:38</td></tr>\n",
       " <tr class=\"ligne2 normal\" id=\"1186868\" onclick=\"go_details(event,1186868);\"><td class=\"tabev0\"></td><td class=\"tabev0\"></td><td class=\"tabev0\"></td><td class=\"tabev6\"><b><i style=\"display:none;\">earthquake</i><a href=\"/Earthquake/earthquake.php?id=1186868\">2022-11-08   16:19:42.3</a></b><i class=\"ago\" id=\"ago1\">23min ago</i></td><td class=\"tabev1\">36.00 </td><td class=\"tabev2\">N  </td><td class=\"tabev1\">118.38 </td><td class=\"tabev2\">W  </td><td class=\"tabev3\">0</td><td class=\"tabev5\" id=\"magtyp1\">Ml</td><td class=\"tabev2\">2.2</td><td class=\"tb_region\" id=\"reg1\"> CENTRAL CALIFORNIA</td><td class=\"comment updatetimeno\" id=\"upd1\" style=\"text-align:right;\">2022-11-08 16:23</td></tr>\n",
       " <tr class=\"ligne1 normal\" id=\"1186870\" onclick=\"go_details(event,1186870);\"><td class=\"tabev0\"></td><td class=\"tabev0\"></td><td class=\"tabev0\"></td><td class=\"tabev6\"><b><i style=\"display:none;\">earthquake</i><a href=\"/Earthquake/earthquake.php?id=1186870\">2022-11-08   16:11:35.0</a></b><i class=\"ago\" id=\"ago2\">31min ago</i></td><td class=\"tabev1\">29.62 </td><td class=\"tabev2\">N  </td><td class=\"tabev1\">80.54 </td><td class=\"tabev2\">E  </td><td class=\"tabev3\">5</td><td class=\"tabev5\" id=\"magtyp2\"> M</td><td class=\"tabev2\">3.5</td><td class=\"tb_region\" id=\"reg2\"> NEPAL-INDIA BORDER REGION</td><td class=\"comment updatetimeno\" id=\"upd2\" style=\"text-align:right;\">2022-11-08 16:35</td></tr>\n",
       " <tr class=\"ligne2 normal\" id=\"1186867\" onclick=\"go_details(event,1186867);\"><td class=\"tabev0\"></td><td class=\"tabev0\"></td><td class=\"tabev0\"></td><td class=\"tabev6\"><b><i style=\"display:none;\">earthquake</i><a href=\"/Earthquake/earthquake.php?id=1186867\">2022-11-08   16:04:03.7</a></b><i class=\"ago\" id=\"ago3\">38min ago</i></td><td class=\"tabev1\">28.61 </td><td class=\"tabev2\">N  </td><td class=\"tabev1\">17.88 </td><td class=\"tabev2\">W  </td><td class=\"tabev3\">2</td><td class=\"tabev5\" id=\"magtyp3\">ML</td><td class=\"tabev2\">1.6</td><td class=\"tb_region\" id=\"reg3\"> CANARY ISLANDS, SPAIN REGION</td><td class=\"comment updatetimeno\" id=\"upd3\" style=\"text-align:right;\">2022-11-08 16:17</td></tr>\n",
       " <tr class=\"ligne1 normal\" id=\"1186865\" onclick=\"go_details(event,1186865);\"><td class=\"tabev0\"></td><td class=\"tabev0\"></td><td class=\"tabev0\"></td><td class=\"tabev6\"><b><i style=\"display:none;\">earthquake</i><a href=\"/Earthquake/earthquake.php?id=1186865\">2022-11-08   16:00:22.0</a></b><i class=\"ago\" id=\"ago4\">42min ago</i></td><td class=\"tabev1\">9.49 </td><td class=\"tabev2\">N  </td><td class=\"tabev1\">79.59 </td><td class=\"tabev2\">W  </td><td class=\"tabev3\">30</td><td class=\"tabev5\" id=\"magtyp4\"> M</td><td class=\"tabev2\">3.5</td><td class=\"tb_region\" id=\"reg4\"> PANAMA</td><td class=\"comment updatetimeno\" id=\"upd4\" style=\"text-align:right;\">2022-11-08 16:05</td></tr>\n",
       " <tr class=\"ligne2 normal\" id=\"1186866\" onclick=\"go_details(event,1186866);\"><td class=\"tabev0\"></td><td class=\"tabev0\"></td><td class=\"tabev0\"></td><td class=\"tabev6\"><b><i style=\"display:none;\">earthquake</i><a href=\"/Earthquake/earthquake.php?id=1186866\">2022-11-08   15:49:16.0</a></b><i class=\"ago\" id=\"ago5\">53min ago</i></td><td class=\"tabev1\">18.03 </td><td class=\"tabev2\">N  </td><td class=\"tabev1\">66.86 </td><td class=\"tabev2\">W  </td><td class=\"tabev3\">18</td><td class=\"tabev5\" id=\"magtyp5\">Md</td><td class=\"tabev2\">2.1</td><td class=\"tb_region\" id=\"reg5\"> PUERTO RICO</td><td class=\"comment updatetimeno\" id=\"upd5\" style=\"text-align:right;\">2022-11-08 16:12</td></tr>\n",
       " <tr class=\"ligne1 normal\" id=\"1186862\" onclick=\"go_details(event,1186862);\"><td class=\"tabev0\"></td><td class=\"tabev0\"></td><td class=\"tabev0\"></td><td class=\"tabev6\"><b><i style=\"display:none;\">earthquake</i><a href=\"/Earthquake/earthquake.php?id=1186862\">2022-11-08   15:38:00.0</a></b><i class=\"ago\" id=\"ago6\">1hr 04min ago</i></td><td class=\"tabev1\">46.06 </td><td class=\"tabev2\">N  </td><td class=\"tabev1\">14.05 </td><td class=\"tabev2\">E  </td><td class=\"tabev3\">8</td><td class=\"tabev5\" id=\"magtyp6\">ML</td><td class=\"tabev2\">1.5</td><td class=\"tb_region\" id=\"reg6\"> SLOVENIA</td><td class=\"comment updatetimeno\" id=\"upd6\" style=\"text-align:right;\">2022-11-08 15:40</td></tr>\n",
       " <tr class=\"ligne2 normal\" id=\"1186861\" onclick=\"go_details(event,1186861);\"><td class=\"tabev0\"></td><td class=\"tabev0\"></td><td class=\"tabev0\"></td><td class=\"tabev6\"><b><i style=\"display:none;\">earthquake</i><a href=\"/Earthquake/earthquake.php?id=1186861\">2022-11-08   15:32:57.6</a></b><i class=\"ago\" id=\"ago7\">1hr 09min ago</i></td><td class=\"tabev1\">46.97 </td><td class=\"tabev2\">N  </td><td class=\"tabev1\">9.77 </td><td class=\"tabev2\">E  </td><td class=\"tabev3\">10</td><td class=\"tabev5\" id=\"magtyp7\">ML</td><td class=\"tabev2\">2.0</td><td class=\"tb_region\" id=\"reg7\"> SWITZERLAND</td><td class=\"comment updatetimeno\" id=\"upd7\" style=\"text-align:right;\">2022-11-08 15:39</td></tr>\n",
       " <tr class=\"ligne1 normal\" id=\"1186860\" onclick=\"go_details(event,1186860);\"><td class=\"tabev0\"></td><td class=\"tabev0\"></td><td class=\"tabev0\"></td><td class=\"tabev6\"><b><i style=\"display:none;\">earthquake</i><a href=\"/Earthquake/earthquake.php?id=1186860\">2022-11-08   15:27:12.0</a></b><i class=\"ago\" id=\"ago8\">1hr 15min ago</i></td><td class=\"tabev1\">24.10 </td><td class=\"tabev2\">S  </td><td class=\"tabev1\">67.30 </td><td class=\"tabev2\">W  </td><td class=\"tabev3\">177</td><td class=\"tabev5\" id=\"magtyp8\"> M</td><td class=\"tabev2\">3.2</td><td class=\"tb_region\" id=\"reg8\"> SALTA, ARGENTINA</td><td class=\"comment updatetimeno\" id=\"upd8\" style=\"text-align:right;\">2022-11-08 15:35</td></tr>\n",
       " <tr class=\"ligne2 normal\" id=\"1186854\" onclick=\"go_details(event,1186854);\"><td class=\"tabev0\"></td><td class=\"tabev0\"></td><td class=\"tabev0\"></td><td class=\"tabev6\"><b><i style=\"display:none;\">earthquake</i><a href=\"/Earthquake/earthquake.php?id=1186854\">2022-11-08   15:26:07.0</a></b><i class=\"ago\" id=\"ago9\">1hr 16min ago</i></td><td class=\"tabev1\">39.50 </td><td class=\"tabev2\">N  </td><td class=\"tabev1\">123.16 </td><td class=\"tabev2\">W  </td><td class=\"tabev3\">2</td><td class=\"tabev5\" id=\"magtyp9\">ML</td><td class=\"tabev2\">2.6</td><td class=\"tb_region\" id=\"reg9\"> NORTHERN CALIFORNIA</td><td class=\"comment updatetimeno\" id=\"upd9\" style=\"text-align:right;\">2022-11-08 16:05</td></tr>\n",
       " <tr class=\"ligne1 normal\" id=\"1186858\" onclick=\"go_details(event,1186858);\"><td class=\"tabev0\"></td><td class=\"tabev0\"></td><td class=\"tabev0\"></td><td class=\"tabev6\"><b><i style=\"display:none;\">earthquake</i><a href=\"/Earthquake/earthquake.php?id=1186858\">2022-11-08   15:23:24.2</a></b><i class=\"ago\" id=\"ago10\">1hr 19min ago</i></td><td class=\"tabev1\">43.62 </td><td class=\"tabev2\">N  </td><td class=\"tabev1\">9.01 </td><td class=\"tabev2\">E  </td><td class=\"tabev3\">20</td><td class=\"tabev5\" id=\"magtyp10\">ML</td><td class=\"tabev2\">3.9</td><td class=\"tb_region\" id=\"reg10\"> LIGURIAN SEA</td><td class=\"comment updatetimeno\" id=\"upd10\" style=\"text-align:right;\">2022-11-08 15:45</td></tr>\n",
       " <tr class=\"ligne2 normal\" id=\"1186852\" onclick=\"go_details(event,1186852);\"><td class=\"tabev0\" style=\"text-align:center;\"><a href=\"https://www.emsc-csem.org/Earthquake/Testimonies/comments.php?id=1186852\" onmouseout=\"info_b2('notshow','');\" onmouseover=\"info_b2('show','See the &lt;b&gt;3 testimonies&lt;/b&gt; for this earthquake');\"><span class=\"\" style=\"vertical-align:middle;\">3</span></a></td><td class=\"tabev0\"></td><td class=\"tabev0\"><span class=\"intensity\" onclick=\"go_details(event,null,'https://www.emsc-csem.org/Earthquake/popup_intensmap.php?id=1186852&amp;f=/FELTREPORTS/118/1186852/IntensityMap.png');\" onmouseout=\"info_b2('notshow','');\" onmouseover=\"info_b2('show','See the &lt;b&gt; Intensity map&lt;/b&gt;');\" style=\"background-color:#00FFFF;\">IV</span></td><td class=\"tabev6\"><b><i style=\"display:none;\">earthquake</i><a href=\"/Earthquake/earthquake.php?id=1186852\">2022-11-08   15:22:36.9</a></b><i class=\"ago\" id=\"ago11\">1hr 20min ago</i></td><td class=\"tabev1\">29.33 </td><td class=\"tabev2\">N  </td><td class=\"tabev1\">81.17 </td><td class=\"tabev2\">E  </td><td class=\"tabev3\">10</td><td class=\"tabev5\" id=\"magtyp11\">mb</td><td class=\"tabev2\">4.8</td><td class=\"tb_region\" id=\"reg11\"> NEPAL</td><td class=\"comment updatetimeno\" id=\"upd11\" style=\"text-align:right;\">2022-11-08 15:54</td></tr>\n",
       " <tr class=\"ligne1 normal\" id=\"1186859\" onclick=\"go_details(event,1186859);\"><td class=\"tabev0\"></td><td class=\"tabev0\"></td><td class=\"tabev0\"></td><td class=\"tabev6\"><b><i style=\"display:none;\">earthquake</i><a href=\"/Earthquake/earthquake.php?id=1186859\">2022-11-08   15:17:23.9</a></b><i class=\"ago\" id=\"ago12\">1hr 25min ago</i></td><td class=\"tabev1\">18.01 </td><td class=\"tabev2\">N  </td><td class=\"tabev1\">66.87 </td><td class=\"tabev2\">W  </td><td class=\"tabev3\">14</td><td class=\"tabev5\" id=\"magtyp12\">Md</td><td class=\"tabev2\">2.0</td><td class=\"tb_region\" id=\"reg12\"> PUERTO RICO</td><td class=\"comment updatetimeno\" id=\"upd12\" style=\"text-align:right;\">2022-11-08 15:31</td></tr>\n",
       " <tr class=\"ligne2 normal\" id=\"1186849\" onclick=\"go_details(event,1186849);\"><td class=\"tabev0\"></td><td class=\"tabev0\"></td><td class=\"tabev0\"><span class=\"intensity\" onclick=\"go_details(event,null,'https://www.emsc-csem.org/Earthquake/popup_intensmap.php?id=1186849&amp;f=/FELTREPORTS/118/1186849/IntensityMap.png');\" onmouseout=\"info_b2('notshow','');\" onmouseover=\"info_b2('show','See the &lt;b&gt; Intensity map&lt;/b&gt;');\" style=\"background-color:#FFFFFF;\">F</span></td><td class=\"tabev6\"><b><i style=\"display:none;\">earthquake</i><a href=\"/Earthquake/earthquake.php?id=1186849\">2022-11-08   15:08:26.8</a></b><i class=\"ago\" id=\"ago13\">1hr 34min ago</i></td><td class=\"tabev1\">19.55 </td><td class=\"tabev2\">N  </td><td class=\"tabev1\">156.10 </td><td class=\"tabev2\">W  </td><td class=\"tabev3\">19</td><td class=\"tabev5\" id=\"magtyp13\">ML</td><td class=\"tabev2\">2.9</td><td class=\"tb_region\" id=\"reg13\"> HAWAII REGION, HAWAII</td><td class=\"comment updatetimeno\" id=\"upd13\" style=\"text-align:right;\">2022-11-08 15:16</td></tr>\n",
       " <tr class=\"ligne1 normal\" id=\"1186845\" onclick=\"go_details(event,1186845);\"><td class=\"tabev0\"></td><td class=\"tabev0\"></td><td class=\"tabev0\"></td><td class=\"tabev6\"><b><i style=\"display:none;\">earthquake</i><a href=\"/Earthquake/earthquake.php?id=1186845\">2022-11-08   14:50:48.0</a></b><i class=\"ago\" id=\"ago14\">1hr 52min ago</i></td><td class=\"tabev1\">2.83 </td><td class=\"tabev2\">S  </td><td class=\"tabev1\">129.77 </td><td class=\"tabev2\">E  </td><td class=\"tabev3\">10</td><td class=\"tabev5\" id=\"magtyp14\"> M</td><td class=\"tabev2\">3.0</td><td class=\"tb_region\" id=\"reg14\"> SERAM, INDONESIA</td><td class=\"comment updatetimeno\" id=\"upd14\" style=\"text-align:right;\">2022-11-08 14:55</td></tr>\n",
       " <tr class=\"ligne2 normal\" id=\"1186848\" onclick=\"go_details(event,1186848);\"><td class=\"tabev0\"></td><td class=\"tabev0\"></td><td class=\"tabev0\"></td><td class=\"tabev6\"><b><i style=\"display:none;\">earthquake</i><a href=\"/Earthquake/earthquake.php?id=1186848\">2022-11-08   14:49:11.0</a></b><i class=\"ago\" id=\"ago15\">1hr 53min ago</i></td><td class=\"tabev1\">22.26 </td><td class=\"tabev2\">S  </td><td class=\"tabev1\">68.73 </td><td class=\"tabev2\">W  </td><td class=\"tabev3\">119</td><td class=\"tabev5\" id=\"magtyp15\"> M</td><td class=\"tabev2\">2.6</td><td class=\"tb_region\" id=\"reg15\"> ANTOFAGASTA, CHILE</td><td class=\"comment updatetimeno\" id=\"upd15\" style=\"text-align:right;\">2022-11-08 14:57</td></tr>\n",
       " <tr class=\"ligne1 normal\" id=\"1186844\" onclick=\"go_details(event,1186844);\"><td class=\"tabev0\"></td><td class=\"tabev0\"></td><td class=\"tabev0\"></td><td class=\"tabev6\"><b><i style=\"display:none;\">earthquake</i><a href=\"/Earthquake/earthquake.php?id=1186844\">2022-11-08   14:43:44.8</a></b><i class=\"ago\" id=\"ago16\">1hr 59min ago</i></td><td class=\"tabev1\">39.16 </td><td class=\"tabev2\">N  </td><td class=\"tabev1\">0.30 </td><td class=\"tabev2\">E  </td><td class=\"tabev3\">16</td><td class=\"tabev5\" id=\"magtyp16\">ML</td><td class=\"tabev2\">2.0</td><td class=\"tb_region\" id=\"reg16\"> SPAIN</td><td class=\"comment updatetimeno\" id=\"upd16\" style=\"text-align:right;\">2022-11-08 14:53</td></tr>\n",
       " <tr class=\"ligne2 normal\" id=\"1186847\" onclick=\"go_details(event,1186847);\"><td class=\"tabev0\"></td><td class=\"tabev0\"></td><td class=\"tabev0\"></td><td class=\"tabev6\"><b><i style=\"display:none;\">earthquake</i><a href=\"/Earthquake/earthquake.php?id=1186847\">2022-11-08   14:38:45.6</a></b><i class=\"ago\" id=\"ago17\">2hr 04min ago</i></td><td class=\"tabev1\">52.39 </td><td class=\"tabev2\">N  </td><td class=\"tabev1\">179.41 </td><td class=\"tabev2\">W  </td><td class=\"tabev3\">205</td><td class=\"tabev5\" id=\"magtyp17\">mb</td><td class=\"tabev2\">4.6</td><td class=\"tb_region\" id=\"reg17\"> ANDREANOF ISLANDS, ALEUTIAN IS.</td><td class=\"comment updatetimeno\" id=\"upd17\" style=\"text-align:right;\">2022-11-08 15:22</td></tr>\n",
       " <tr class=\"ligne1 normal\" id=\"1186841\" onclick=\"go_details(event,1186841);\"><td class=\"tabev0\"></td><td class=\"tabev0\"></td><td class=\"tabev0\"><span class=\"intensity\" onclick=\"go_details(event,null,'https://www.emsc-csem.org/Earthquake/popup_intensmap.php?id=1186841&amp;f=/FELTREPORTS/118/1186841/IntensityMap.png');\" onmouseout=\"info_b2('notshow','');\" onmouseover=\"info_b2('show','See the &lt;b&gt; Intensity map&lt;/b&gt;');\" style=\"background-color:#FFFFFF;\">F</span></td><td class=\"tabev6\"><b><i style=\"display:none;\">earthquake</i><a href=\"/Earthquake/earthquake.php?id=1186841\">2022-11-08   14:30:01.8</a></b><i class=\"ago\" id=\"ago18\">2hr 12min ago</i></td><td class=\"tabev1\">15.38 </td><td class=\"tabev2\">N  </td><td class=\"tabev1\">120.85 </td><td class=\"tabev2\">E  </td><td class=\"tabev3\">175</td><td class=\"tabev5\" id=\"magtyp18\">Mw</td><td class=\"tabev2\">5.4</td><td class=\"tb_region\" id=\"reg18\"> LUZON, PHILIPPINES</td><td class=\"comment updatetimeno\" id=\"upd18\" style=\"text-align:right;\">2022-11-08 15:19</td></tr>\n",
       " <tr class=\"ligne2 normal\" id=\"1186842\" onclick=\"go_details(event,1186842);\"><td class=\"tabev0\"></td><td class=\"tabev0\"></td><td class=\"tabev0\"></td><td class=\"tabev6\"><b><i style=\"display:none;\">earthquake</i><a href=\"/Earthquake/earthquake.php?id=1186842\">2022-11-08   14:26:07.0</a></b><i class=\"ago\" id=\"ago19\">2hr 16min ago</i></td><td class=\"tabev1\">35.80 </td><td class=\"tabev2\">S  </td><td class=\"tabev1\">73.28 </td><td class=\"tabev2\">W  </td><td class=\"tabev3\">26</td><td class=\"tabev5\" id=\"magtyp19\"> M</td><td class=\"tabev2\">2.9</td><td class=\"tb_region\" id=\"reg19\"> OFFSHORE MAULE, CHILE</td><td class=\"comment updatetimeno\" id=\"upd19\" style=\"text-align:right;\">2022-11-08 14:37</td></tr>\n",
       " <tr class=\"ligne1 normal\" id=\"1186846\" onclick=\"go_details(event,1186846);\"><td class=\"tabev0\"></td><td class=\"tabev0\"></td><td class=\"tabev0\"></td><td class=\"tabev6\"><b><i style=\"display:none;\">earthquake</i><a href=\"/Earthquake/earthquake.php?id=1186846\">2022-11-08   14:24:30.0</a></b><i class=\"ago\" id=\"ago20\">2hr 18min ago</i></td><td class=\"tabev1\">8.95 </td><td class=\"tabev2\">N  </td><td class=\"tabev1\">84.19 </td><td class=\"tabev2\">W  </td><td class=\"tabev3\">5</td><td class=\"tabev5\" id=\"magtyp20\"> M</td><td class=\"tabev2\">3.3</td><td class=\"tb_region\" id=\"reg20\"> OFF COAST OF COSTA RICA</td><td class=\"comment updatetimeno\" id=\"upd20\" style=\"text-align:right;\">2022-11-08 14:55</td></tr>\n",
       " <tr class=\"ligne2 normal\" id=\"1186838\" onclick=\"go_details(event,1186838);\"><td class=\"tabev0\"></td><td class=\"tabev0\"></td><td class=\"tabev0\"></td><td class=\"tabev6\"><b><i style=\"display:none;\">earthquake</i><a href=\"/Earthquake/earthquake.php?id=1186838\">2022-11-08   14:20:38.0</a></b><i class=\"ago\" id=\"ago21\">2hr 22min ago</i></td><td class=\"tabev1\">2.97 </td><td class=\"tabev2\">S  </td><td class=\"tabev1\">122.17 </td><td class=\"tabev2\">E  </td><td class=\"tabev3\">10</td><td class=\"tabev5\" id=\"magtyp21\"> M</td><td class=\"tabev2\">2.5</td><td class=\"tb_region\" id=\"reg21\"> SULAWESI, INDONESIA</td><td class=\"comment updatetimeno\" id=\"upd21\" style=\"text-align:right;\">2022-11-08 14:25</td></tr>\n",
       " <tr class=\"ligne1 normal\" id=\"1186817\" onclick=\"go_details(event,1186817);\"><td class=\"tabev0\"></td><td class=\"tabev0\"></td><td class=\"tabev0\"></td><td class=\"tabev6\"><b><i style=\"display:none;\">earthquake</i><a href=\"/Earthquake/earthquake.php?id=1186817\">2022-11-08   13:42:31.7</a></b><i class=\"ago\" id=\"ago22\">3hr 00min ago</i></td><td class=\"tabev1\">40.16 </td><td class=\"tabev2\">N  </td><td class=\"tabev1\">119.14 </td><td class=\"tabev2\">W  </td><td class=\"tabev3\">7</td><td class=\"tabev5\" id=\"magtyp22\">ml</td><td class=\"tabev2\">2.5</td><td class=\"tb_region\" id=\"reg22\"> NEVADA</td><td class=\"comment updatetimeno\" id=\"upd22\" style=\"text-align:right;\">2022-11-08 16:29</td></tr>\n",
       " <tr class=\"ligne2 normal\" id=\"1186813\" onclick=\"go_details(event,1186813);\"><td class=\"tabev0\"></td><td class=\"tabev0\"></td><td class=\"tabev0\"></td><td class=\"tabev6\"><b><i style=\"display:none;\">earthquake</i><a href=\"/Earthquake/earthquake.php?id=1186813\">2022-11-08   13:09:18.0</a></b><i class=\"ago\" id=\"ago23\">3hr 33min ago</i></td><td class=\"tabev1\">34.76 </td><td class=\"tabev2\">S  </td><td class=\"tabev1\">72.12 </td><td class=\"tabev2\">W  </td><td class=\"tabev3\">39</td><td class=\"tabev5\" id=\"magtyp23\"> M</td><td class=\"tabev2\">3.0</td><td class=\"tb_region\" id=\"reg23\"> OFFSHORE MAULE, CHILE</td><td class=\"comment updatetimeno\" id=\"upd23\" style=\"text-align:right;\">2022-11-08 13:28</td></tr>\n",
       " <tr class=\"ligne1 normal\" id=\"1186811\" onclick=\"go_details(event,1186811);\"><td class=\"tabev0\"></td><td class=\"tabev0\"></td><td class=\"tabev0\"></td><td class=\"tabev6\"><b><i style=\"display:none;\">earthquake</i><a href=\"/Earthquake/earthquake.php?id=1186811\">2022-11-08   13:05:57.0</a></b><i class=\"ago\" id=\"ago24\">3hr 36min ago</i></td><td class=\"tabev1\">31.05 </td><td class=\"tabev2\">S  </td><td class=\"tabev1\">71.36 </td><td class=\"tabev2\">W  </td><td class=\"tabev3\">24</td><td class=\"tabev5\" id=\"magtyp24\"> M</td><td class=\"tabev2\">3.1</td><td class=\"tb_region\" id=\"reg24\"> COQUIMBO, CHILE</td><td class=\"comment updatetimeno\" id=\"upd24\" style=\"text-align:right;\">2022-11-08 13:19</td></tr>\n",
       " <tr class=\"ligne2 normal\" id=\"1186810\" onclick=\"go_details(event,1186810);\"><td class=\"tabev0\"></td><td class=\"tabev0\"></td><td class=\"tabev0\"></td><td class=\"tabev6\"><b><i style=\"display:none;\">earthquake</i><a href=\"/Earthquake/earthquake.php?id=1186810\">2022-11-08   12:53:04.8</a></b><i class=\"ago\" id=\"ago25\">3hr 49min ago</i></td><td class=\"tabev1\">40.17 </td><td class=\"tabev2\">N  </td><td class=\"tabev1\">119.15 </td><td class=\"tabev2\">W  </td><td class=\"tabev3\">7</td><td class=\"tabev5\" id=\"magtyp25\">ml</td><td class=\"tabev2\">2.2</td><td class=\"tb_region\" id=\"reg25\"> NEVADA</td><td class=\"comment updatetimeno\" id=\"upd25\" style=\"text-align:right;\">2022-11-08 16:07</td></tr>\n",
       " <tr class=\"ligne1 normal\" id=\"1186808\" onclick=\"go_details(event,1186808);\"><td class=\"tabev0\"></td><td class=\"tabev0\"></td><td class=\"tabev0\"></td><td class=\"tabev6\"><b><i style=\"display:none;\">earthquake</i><a href=\"/Earthquake/earthquake.php?id=1186808\">2022-11-08   12:26:00.3</a></b><i class=\"ago\" id=\"ago26\">4hr 16min ago</i></td><td class=\"tabev1\">19.34 </td><td class=\"tabev2\">N  </td><td class=\"tabev1\">155.21 </td><td class=\"tabev2\">W  </td><td class=\"tabev3\">-1</td><td class=\"tabev5\" id=\"magtyp26\">Md</td><td class=\"tabev2\">2.0</td><td class=\"tb_region\" id=\"reg26\"> ISLAND OF HAWAII, HAWAII</td><td class=\"comment updatetimeno\" id=\"upd26\" style=\"text-align:right;\">2022-11-08 12:29</td></tr>\n",
       " <tr class=\"ligne2 normal\" id=\"1186806\" onclick=\"go_details(event,1186806);\"><td class=\"tabev0\"></td><td class=\"tabev0\"></td><td class=\"tabev0\"></td><td class=\"tabev6\"><b><i style=\"display:none;\">earthquake</i><a href=\"/Earthquake/earthquake.php?id=1186806\">2022-11-08   12:13:59.0</a></b><i class=\"ago\" id=\"ago27\">4hr 28min ago</i></td><td class=\"tabev1\">4.72 </td><td class=\"tabev2\">S  </td><td class=\"tabev1\">101.71 </td><td class=\"tabev2\">E  </td><td class=\"tabev3\">10</td><td class=\"tabev5\" id=\"magtyp27\"> M</td><td class=\"tabev2\">4.0</td><td class=\"tb_region\" id=\"reg27\"> SOUTHERN SUMATRA, INDONESIA</td><td class=\"comment updatetimeno\" id=\"upd27\" style=\"text-align:right;\">2022-11-08 12:20</td></tr>\n",
       " <tr class=\"ligne1 normal\" id=\"1186800\" onclick=\"go_details(event,1186800);\"><td class=\"tabev0\"></td><td class=\"tabev0\"></td><td class=\"tabev0\"></td><td class=\"tabev6\"><b><i style=\"display:none;\">earthquake</i><a href=\"/Earthquake/earthquake.php?id=1186800\">2022-11-08   12:05:34.3</a></b><i class=\"ago\" id=\"ago28\">4hr 37min ago</i></td><td class=\"tabev1\">29.87 </td><td class=\"tabev2\">S  </td><td class=\"tabev1\">68.35 </td><td class=\"tabev2\">W  </td><td class=\"tabev3\">10</td><td class=\"tabev5\" id=\"magtyp28\">Mw</td><td class=\"tabev2\">4.0</td><td class=\"tb_region\" id=\"reg28\"> SAN JUAN, ARGENTINA</td><td class=\"comment updatetimeno\" id=\"upd28\" style=\"text-align:right;\">2022-11-08 15:20</td></tr>\n",
       " <tr class=\"ligne2 normal\" id=\"1186799\" onclick=\"go_details(event,1186799);\"><td class=\"tabev0\"></td><td class=\"tabev0\"></td><td class=\"tabev0\"></td><td class=\"tabev6\"><b><i style=\"display:none;\">earthquake</i><a href=\"/Earthquake/earthquake.php?id=1186799\">2022-11-08   11:57:11.4</a></b><i class=\"ago\" id=\"ago29\">4hr 45min ago</i></td><td class=\"tabev1\">31.66 </td><td class=\"tabev2\">N  </td><td class=\"tabev1\">104.40 </td><td class=\"tabev2\">W  </td><td class=\"tabev3\">9</td><td class=\"tabev5\" id=\"magtyp29\">ML</td><td class=\"tabev2\">3.3</td><td class=\"tb_region\" id=\"reg29\"> WESTERN TEXAS</td><td class=\"comment updatetimeno\" id=\"upd29\" style=\"text-align:right;\">2022-11-08 12:09</td></tr>\n",
       " <tr class=\"ligne1 normal\" id=\"1186796\" onclick=\"go_details(event,1186796);\"><td class=\"tabev0\"></td><td class=\"tabev0\"></td><td class=\"tabev0\"></td><td class=\"tabev6\"><b><i style=\"display:none;\">earthquake</i><a href=\"/Earthquake/earthquake.php?id=1186796\">2022-11-08   11:47:14.0</a></b><i class=\"ago\" id=\"ago30\">4hr 55min ago</i></td><td class=\"tabev1\">12.05 </td><td class=\"tabev2\">N  </td><td class=\"tabev1\">87.75 </td><td class=\"tabev2\">W  </td><td class=\"tabev3\">18</td><td class=\"tabev5\" id=\"magtyp30\"> M</td><td class=\"tabev2\">2.8</td><td class=\"tb_region\" id=\"reg30\"> NEAR COAST OF NICARAGUA</td><td class=\"comment updatetimeno\" id=\"upd30\" style=\"text-align:right;\">2022-11-08 11:55</td></tr>\n",
       " <tr class=\"ligne2 normal\" id=\"1186795\" onclick=\"go_details(event,1186795);\"><td class=\"tabev0\"></td><td class=\"tabev0\"></td><td class=\"tabev0\"></td><td class=\"tabev6\"><b><i style=\"display:none;\">earthquake</i><a href=\"/Earthquake/earthquake.php?id=1186795\">2022-11-08   11:45:08.0</a></b><i class=\"ago\" id=\"ago31\">4hr 57min ago</i></td><td class=\"tabev1\">24.12 </td><td class=\"tabev2\">S  </td><td class=\"tabev1\">67.55 </td><td class=\"tabev2\">W  </td><td class=\"tabev3\">222</td><td class=\"tabev5\" id=\"magtyp31\"> M</td><td class=\"tabev2\">3.5</td><td class=\"tb_region\" id=\"reg31\"> SALTA, ARGENTINA</td><td class=\"comment updatetimeno\" id=\"upd31\" style=\"text-align:right;\">2022-11-08 11:52</td></tr>\n",
       " <tr class=\"ligne1 normal\" id=\"1186812\" onclick=\"go_details(event,1186812);\"><td class=\"tabev0\"></td><td class=\"tabev0\"></td><td class=\"tabev0\"></td><td class=\"tabev6\"><b><i style=\"display:none;\">earthquake</i><a href=\"/Earthquake/earthquake.php?id=1186812\">2022-11-08   11:42:32.9</a></b><i class=\"ago\" id=\"ago32\">5hr 00min ago</i></td><td class=\"tabev1\">19.07 </td><td class=\"tabev2\">N  </td><td class=\"tabev1\">67.74 </td><td class=\"tabev2\">W  </td><td class=\"tabev3\">35</td><td class=\"tabev5\" id=\"magtyp32\">ML</td><td class=\"tabev2\">3.0</td><td class=\"tb_region\" id=\"reg32\"> PUERTO RICO REGION</td><td class=\"comment updatetimeno\" id=\"upd32\" style=\"text-align:right;\">2022-11-08 13:50</td></tr>\n",
       " <tr class=\"ligne2 normal\" id=\"1186793\" onclick=\"go_details(event,1186793);\"><td class=\"tabev0\"></td><td class=\"tabev0\"></td><td class=\"tabev0\"></td><td class=\"tabev6\"><b><i style=\"display:none;\">earthquake</i><a href=\"/Earthquake/earthquake.php?id=1186793\">2022-11-08   11:33:39.7</a></b><i class=\"ago\" id=\"ago33\">5hr 09min ago</i></td><td class=\"tabev1\">21.74 </td><td class=\"tabev2\">N  </td><td class=\"tabev1\">76.53 </td><td class=\"tabev2\">W  </td><td class=\"tabev3\">10</td><td class=\"tabev5\" id=\"magtyp33\">mb</td><td class=\"tabev2\">5.0</td><td class=\"tb_region\" id=\"reg33\"> CUBA REGION</td><td class=\"comment updatetimeno\" id=\"upd33\" style=\"text-align:right;\">2022-11-08 12:20</td></tr>\n",
       " <tr class=\"ligne1 normal\" id=\"1186797\" onclick=\"go_details(event,1186797);\"><td class=\"tabev0\"></td><td class=\"tabev0\"></td><td class=\"tabev0\"></td><td class=\"tabev6\"><b><i style=\"display:none;\">earthquake</i><a href=\"/Earthquake/earthquake.php?id=1186797\">2022-11-08   11:32:10.0</a></b><i class=\"ago\" id=\"ago34\">5hr 10min ago</i></td><td class=\"tabev1\">32.75 </td><td class=\"tabev2\">S  </td><td class=\"tabev1\">71.09 </td><td class=\"tabev2\">W  </td><td class=\"tabev3\">62</td><td class=\"tabev5\" id=\"magtyp34\"> M</td><td class=\"tabev2\">3.0</td><td class=\"tb_region\" id=\"reg34\"> VALPARAISO, CHILE</td><td class=\"comment updatetimeno\" id=\"upd34\" style=\"text-align:right;\">2022-11-08 12:03</td></tr>\n",
       " <tr class=\"ligne2 normal\" id=\"1186791\" onclick=\"go_details(event,1186791);\"><td class=\"tabev0\"></td><td class=\"tabev0\"></td><td class=\"tabev0\"></td><td class=\"tabev6\"><b><i style=\"display:none;\">earthquake</i><a href=\"/Earthquake/earthquake.php?id=1186791\">2022-11-08   11:27:25.0</a></b><i class=\"ago\" id=\"ago35\">5hr 15min ago</i></td><td class=\"tabev1\">23.91 </td><td class=\"tabev2\">S  </td><td class=\"tabev1\">67.20 </td><td class=\"tabev2\">W  </td><td class=\"tabev3\">240</td><td class=\"tabev5\" id=\"magtyp35\"> M</td><td class=\"tabev2\">3.5</td><td class=\"tb_region\" id=\"reg35\"> SALTA, ARGENTINA</td><td class=\"comment updatetimeno\" id=\"upd35\" style=\"text-align:right;\">2022-11-08 11:42</td></tr>\n",
       " <tr class=\"ligne1 normal\" id=\"1186794\" onclick=\"go_details(event,1186794);\"><td class=\"tabev0\"></td><td class=\"tabev0\"></td><td class=\"tabev0\"></td><td class=\"tabev6\"><b><i style=\"display:none;\">earthquake</i><a href=\"/Earthquake/earthquake.php?id=1186794\">2022-11-08   11:25:34.0</a></b><i class=\"ago\" id=\"ago36\">5hr 17min ago</i></td><td class=\"tabev1\">11.16 </td><td class=\"tabev2\">N  </td><td class=\"tabev1\">126.34 </td><td class=\"tabev2\">E  </td><td class=\"tabev3\">74</td><td class=\"tabev5\" id=\"magtyp36\"> M</td><td class=\"tabev2\">3.1</td><td class=\"tb_region\" id=\"reg36\"> PHILIPPINE ISLANDS REGION</td><td class=\"comment updatetimeno\" id=\"upd36\" style=\"text-align:right;\">2022-11-08 11:40</td></tr>\n",
       " <tr class=\"ligne2 normal\" id=\"1186792\" onclick=\"go_details(event,1186792);\"><td class=\"tabev0\"></td><td class=\"tabev0\"></td><td class=\"tabev0\"></td><td class=\"tabev6\"><b><i style=\"display:none;\">earthquake</i><a href=\"/Earthquake/earthquake.php?id=1186792\">2022-11-08   11:24:59.0</a></b><i class=\"ago\" id=\"ago37\">5hr 17min ago</i></td><td class=\"tabev1\">38.28 </td><td class=\"tabev2\">N  </td><td class=\"tabev1\">15.18 </td><td class=\"tabev2\">E  </td><td class=\"tabev3\">116</td><td class=\"tabev5\" id=\"magtyp37\">ML</td><td class=\"tabev2\">2.5</td><td class=\"tb_region\" id=\"reg37\"> SICILY, ITALY</td><td class=\"comment updatetimeno\" id=\"upd37\" style=\"text-align:right;\">2022-11-08 11:36</td></tr>\n",
       " <tr class=\"ligne1 normal\" id=\"1186789\" onclick=\"go_details(event,1186789);\"><td class=\"tabev0\"></td><td class=\"tabev0\"></td><td class=\"tabev0\"></td><td class=\"tabev6\"><b><i style=\"display:none;\">earthquake</i><a href=\"/Earthquake/earthquake.php?id=1186789\">2022-11-08   11:18:27.0</a></b><i class=\"ago\" id=\"ago38\">5hr 24min ago</i></td><td class=\"tabev1\">0.93 </td><td class=\"tabev2\">N  </td><td class=\"tabev1\">126.06 </td><td class=\"tabev2\">E  </td><td class=\"tabev3\">25</td><td class=\"tabev5\" id=\"magtyp38\"> M</td><td class=\"tabev2\">3.0</td><td class=\"tb_region\" id=\"reg38\"> MOLUCCA SEA</td><td class=\"comment updatetimeno\" id=\"upd38\" style=\"text-align:right;\">2022-11-08 11:30</td></tr>\n",
       " <tr class=\"ligne2 normal\" id=\"1186790\" onclick=\"go_details(event,1186790);\"><td class=\"tabev0\"></td><td class=\"tabev0\"></td><td class=\"tabev0\"></td><td class=\"tabev6\"><b><i style=\"display:none;\">earthquake</i><a href=\"/Earthquake/earthquake.php?id=1186790\">2022-11-08   11:16:10.3</a></b><i class=\"ago\" id=\"ago39\">5hr 26min ago</i></td><td class=\"tabev1\">11.11 </td><td class=\"tabev2\">N  </td><td class=\"tabev1\">125.70 </td><td class=\"tabev2\">E  </td><td class=\"tabev3\">10</td><td class=\"tabev5\" id=\"magtyp39\">mb</td><td class=\"tabev2\">4.6</td><td class=\"tb_region\" id=\"reg39\"> SAMAR, PHILIPPINES</td><td class=\"comment updatetimeno\" id=\"upd39\" style=\"text-align:right;\">2022-11-08 15:22</td></tr>\n",
       " <tr class=\"ligne1 normal\" id=\"1186788\" onclick=\"go_details(event,1186788);\"><td class=\"tabev0\"></td><td class=\"tabev0\"></td><td class=\"tabev0\"></td><td class=\"tabev6\"><b><i style=\"display:none;\">earthquake</i><a href=\"/Earthquake/earthquake.php?id=1186788\">2022-11-08   11:04:28.1</a></b><i class=\"ago\" id=\"ago40\">5hr 38min ago</i></td><td class=\"tabev1\">17.97 </td><td class=\"tabev2\">N  </td><td class=\"tabev1\">66.94 </td><td class=\"tabev2\">W  </td><td class=\"tabev3\">7</td><td class=\"tabev5\" id=\"magtyp40\">Md</td><td class=\"tabev2\">2.3</td><td class=\"tb_region\" id=\"reg40\"> PUERTO RICO</td><td class=\"comment updatetimeno\" id=\"upd40\" style=\"text-align:right;\">2022-11-08 11:25</td></tr>\n",
       " <tr class=\"ligne2 normal\" id=\"1186821\" onclick=\"go_details(event,1186821);\"><td class=\"tabev0\"></td><td class=\"tabev0\"></td><td class=\"tabev0\"></td><td class=\"tabev6\"><b><i style=\"display:none;\">earthquake</i><a href=\"/Earthquake/earthquake.php?id=1186821\">2022-11-08   10:58:26.0</a></b><i class=\"ago\" id=\"ago41\">5hr 44min ago</i></td><td class=\"tabev1\">28.73 </td><td class=\"tabev2\">N  </td><td class=\"tabev1\">112.89 </td><td class=\"tabev2\">W  </td><td class=\"tabev3\">10</td><td class=\"tabev5\" id=\"magtyp41\"> M</td><td class=\"tabev2\">3.4</td><td class=\"tb_region\" id=\"reg41\"> GULF OF CALIFORNIA</td><td class=\"comment updatetimeno\" id=\"upd41\" style=\"text-align:right;\">2022-11-08 14:15</td></tr>\n",
       " <tr class=\"ligne1 normal\" id=\"1186822\" onclick=\"go_details(event,1186822);\"><td class=\"tabev0\"></td><td class=\"tabev0\"></td><td class=\"tabev0\"></td><td class=\"tabev6\"><b><i style=\"display:none;\">earthquake</i><a href=\"/Earthquake/earthquake.php?id=1186822\">2022-11-08   10:57:27.0</a></b><i class=\"ago\" id=\"ago42\">5hr 45min ago</i></td><td class=\"tabev1\">17.06 </td><td class=\"tabev2\">N  </td><td class=\"tabev1\">95.39 </td><td class=\"tabev2\">W  </td><td class=\"tabev3\">105</td><td class=\"tabev5\" id=\"magtyp42\"> M</td><td class=\"tabev2\">3.7</td><td class=\"tb_region\" id=\"reg42\"> OAXACA, MEXICO</td><td class=\"comment updatetimeno\" id=\"upd42\" style=\"text-align:right;\">2022-11-08 14:16</td></tr>\n",
       " <tr class=\"ligne2 normal\" id=\"1186784\" onclick=\"go_details(event,1186784);\"><td class=\"tabev0\"></td><td class=\"tabev0\"></td><td class=\"tabev0\"></td><td class=\"tabev6\"><b><i style=\"display:none;\">earthquake</i><a href=\"/Earthquake/earthquake.php?id=1186784\">2022-11-08   10:53:42.0</a></b><i class=\"ago\" id=\"ago43\">5hr 49min ago</i></td><td class=\"tabev1\">11.38 </td><td class=\"tabev2\">N  </td><td class=\"tabev1\">126.24 </td><td class=\"tabev2\">E  </td><td class=\"tabev3\">23</td><td class=\"tabev5\" id=\"magtyp43\"> M</td><td class=\"tabev2\">3.4</td><td class=\"tb_region\" id=\"reg43\"> PHILIPPINE ISLANDS REGION</td><td class=\"comment updatetimeno\" id=\"upd43\" style=\"text-align:right;\">2022-11-08 11:05</td></tr>\n",
       " <tr class=\"ligne1 normal\" id=\"1186809\" onclick=\"go_details(event,1186809);\"><td class=\"tabev0\"></td><td class=\"tabev0\"></td><td class=\"tabev0\"></td><td class=\"tabev6\"><b><i style=\"display:none;\">earthquake</i><a href=\"/Earthquake/earthquake.php?id=1186809\">2022-11-08   10:43:41.0</a></b><i class=\"ago\" id=\"ago44\">5hr 59min ago</i></td><td class=\"tabev1\">47.51 </td><td class=\"tabev2\">N  </td><td class=\"tabev1\">2.27 </td><td class=\"tabev2\">W  </td><td class=\"tabev3\">2</td><td class=\"tabev5\" id=\"magtyp44\">ML</td><td class=\"tabev2\">2.1</td><td class=\"tb_region\" id=\"reg44\"> FRANCE</td><td class=\"comment updatetimeno\" id=\"upd44\" style=\"text-align:right;\">2022-11-08 12:35</td></tr>\n",
       " <tr class=\"ligne2 normal\" id=\"1186823\" onclick=\"go_details(event,1186823);\"><td class=\"tabev0\"></td><td class=\"tabev0\"></td><td class=\"tabev0\"></td><td class=\"tabev6\"><b><i style=\"display:none;\">earthquake</i><a href=\"/Earthquake/earthquake.php?id=1186823\">2022-11-08   10:35:34.0</a></b><i class=\"ago\" id=\"ago45\">6hr 07min ago</i></td><td class=\"tabev1\">18.08 </td><td class=\"tabev2\">N  </td><td class=\"tabev1\">103.09 </td><td class=\"tabev2\">W  </td><td class=\"tabev3\">3</td><td class=\"tabev5\" id=\"magtyp45\"> M</td><td class=\"tabev2\">3.7</td><td class=\"tb_region\" id=\"reg45\"> OFFSHORE MICHOACAN, MEXICO</td><td class=\"comment updatetimeno\" id=\"upd45\" style=\"text-align:right;\">2022-11-08 14:16</td></tr>\n",
       " <tr class=\"ligne1 normal\" id=\"1186777\" onclick=\"go_details(event,1186777);\"><td class=\"tabev0\" style=\"text-align:center;\"><a href=\"https://www.emsc-csem.org/Earthquake/Testimonies/comments.php?id=1186777\" onmouseout=\"info_b2('notshow','');\" onmouseover=\"info_b2('show','See the &lt;b&gt;testimony&lt;/b&gt; for this earthquake');\"><span class=\"\" style=\"vertical-align:middle;\">1</span></a></td><td class=\"tabev0\"></td><td class=\"tabev0\"><span class=\"intensity\" onclick=\"go_details(event,null,'https://www.emsc-csem.org/Earthquake/popup_intensmap.php?id=1186777&amp;f=/FELTREPORTS/118/1186777/IntensityMap.png');\" onmouseout=\"info_b2('notshow','');\" onmouseover=\"info_b2('show','See the &lt;b&gt; Intensity map&lt;/b&gt;');\" style=\"background-color:#FFFFFF;\">F</span></td><td class=\"tabev6\"><b><i style=\"display:none;\">earthquake</i><a href=\"/Earthquake/earthquake.php?id=1186777\">2022-11-08   10:17:09.8</a></b><i class=\"ago\" id=\"ago46\">6hr 25min ago</i></td><td class=\"tabev1\">39.77 </td><td class=\"tabev2\">N  </td><td class=\"tabev1\">20.71 </td><td class=\"tabev2\">E  </td><td class=\"tabev3\">10</td><td class=\"tabev5\" id=\"magtyp46\">ML</td><td class=\"tabev2\">2.8</td><td class=\"tb_region\" id=\"reg46\"> GREECE</td><td class=\"comment updatetimeno\" id=\"upd46\" style=\"text-align:right;\">2022-11-08 12:17</td></tr>\n",
       " <tr class=\"ligne2 normal\" id=\"1186776\" onclick=\"go_details(event,1186776);\"><td class=\"tabev0\"></td><td class=\"tabev0\"></td><td class=\"tabev0\"></td><td class=\"tabev6\"><b><i style=\"display:none;\">earthquake</i><a href=\"/Earthquake/earthquake.php?id=1186776\">2022-11-08   09:58:40.0</a></b><i class=\"ago\" id=\"ago47\">6hr 44min ago</i></td><td class=\"tabev1\">16.28 </td><td class=\"tabev2\">N  </td><td class=\"tabev1\">95.98 </td><td class=\"tabev2\">W  </td><td class=\"tabev3\">4</td><td class=\"tabev5\" id=\"magtyp47\"> M</td><td class=\"tabev2\">4.1</td><td class=\"tb_region\" id=\"reg47\"> OAXACA, MEXICO</td><td class=\"comment updatetimeno\" id=\"upd47\" style=\"text-align:right;\">2022-11-08 10:15</td></tr>\n",
       " <tr class=\"ligne1 normal\" id=\"1186824\" onclick=\"go_details(event,1186824);\"><td class=\"tabev0\"></td><td class=\"tabev0\"></td><td class=\"tabev0\"></td><td class=\"tabev6\"><b><i style=\"display:none;\">earthquake</i><a href=\"/Earthquake/earthquake.php?id=1186824\">2022-11-08   09:57:39.0</a></b><i class=\"ago\" id=\"ago48\">6hr 45min ago</i></td><td class=\"tabev1\">28.11 </td><td class=\"tabev2\">N  </td><td class=\"tabev1\">112.28 </td><td class=\"tabev2\">W  </td><td class=\"tabev3\">10</td><td class=\"tabev5\" id=\"magtyp48\"> M</td><td class=\"tabev2\">3.3</td><td class=\"tb_region\" id=\"reg48\"> GULF OF CALIFORNIA</td><td class=\"comment updatetimeno\" id=\"upd48\" style=\"text-align:right;\">2022-11-08 14:16</td></tr>\n",
       " <tr class=\"ligne2 normal\" id=\"1186770\" onclick=\"go_details(event,1186770);\"><td class=\"tabev0\"></td><td class=\"tabev0\"></td><td class=\"tabev0\"></td><td class=\"tabev6\"><b><i style=\"display:none;\">earthquake</i><a href=\"/Earthquake/earthquake.php?id=1186770\">2022-11-08   09:47:53.0</a></b><i class=\"ago\" id=\"ago49\">6hr 54min ago</i></td><td class=\"tabev1\">39.01 </td><td class=\"tabev2\">N  </td><td class=\"tabev1\">31.37 </td><td class=\"tabev2\">E  </td><td class=\"tabev3\">5</td><td class=\"tabev5\" id=\"magtyp49\">ML</td><td class=\"tabev2\">2.7</td><td class=\"tb_region\" id=\"reg49\"> WESTERN TURKEY</td><td class=\"comment updatetimeno\" id=\"upd49\" style=\"text-align:right;\">2022-11-08 12:17</td></tr>\n",
       " </tbody>]"
      ]
     },
     "execution_count": 224,
     "metadata": {},
     "output_type": "execute_result"
    }
   ],
   "source": [
    "tablafecha=soupterr.find_all('tbody')\n",
    "\n",
    "tablafecha\n",
    "\n"
   ]
  },
  {
   "cell_type": "code",
   "execution_count": 279,
   "metadata": {},
   "outputs": [
    {
     "data": {
      "text/plain": [
       "[[<td class=\"tabev0\"></td>,\n",
       "  <td class=\"tabev0\"></td>,\n",
       "  <td class=\"tabev0\"></td>,\n",
       "  <td class=\"tabev6\"><b><i style=\"display:none;\">earthquake</i><a href=\"/Earthquake/earthquake.php?id=1186871\">2022-11-08   16:35:25.0</a></b><i class=\"ago\" id=\"ago0\">07min ago</i></td>,\n",
       "  <td class=\"tabev1\">39.60 </td>,\n",
       "  <td class=\"tabev2\">N  </td>,\n",
       "  <td class=\"tabev1\">120.40 </td>,\n",
       "  <td class=\"tabev2\">W  </td>,\n",
       "  <td class=\"tabev3\">-2</td>,\n",
       "  <td class=\"tabev5\" id=\"magtyp0\">MD</td>,\n",
       "  <td class=\"tabev2\">2.9</td>,\n",
       "  <td class=\"tb_region\" id=\"reg0\"> NORTHERN CALIFORNIA</td>,\n",
       "  <td class=\"comment updatetimeno\" id=\"upd0\" style=\"text-align:right;\">2022-11-08 16:38</td>,\n",
       "  <td class=\"tabev0\"></td>,\n",
       "  <td class=\"tabev0\"></td>,\n",
       "  <td class=\"tabev0\"></td>,\n",
       "  <td class=\"tabev6\"><b><i style=\"display:none;\">earthquake</i><a href=\"/Earthquake/earthquake.php?id=1186868\">2022-11-08   16:19:42.3</a></b><i class=\"ago\" id=\"ago1\">23min ago</i></td>,\n",
       "  <td class=\"tabev1\">36.00 </td>,\n",
       "  <td class=\"tabev2\">N  </td>,\n",
       "  <td class=\"tabev1\">118.38 </td>,\n",
       "  <td class=\"tabev2\">W  </td>,\n",
       "  <td class=\"tabev3\">0</td>,\n",
       "  <td class=\"tabev5\" id=\"magtyp1\">Ml</td>,\n",
       "  <td class=\"tabev2\">2.2</td>,\n",
       "  <td class=\"tb_region\" id=\"reg1\"> CENTRAL CALIFORNIA</td>,\n",
       "  <td class=\"comment updatetimeno\" id=\"upd1\" style=\"text-align:right;\">2022-11-08 16:23</td>,\n",
       "  <td class=\"tabev0\"></td>,\n",
       "  <td class=\"tabev0\"></td>,\n",
       "  <td class=\"tabev0\"></td>,\n",
       "  <td class=\"tabev6\"><b><i style=\"display:none;\">earthquake</i><a href=\"/Earthquake/earthquake.php?id=1186870\">2022-11-08   16:11:35.0</a></b><i class=\"ago\" id=\"ago2\">31min ago</i></td>,\n",
       "  <td class=\"tabev1\">29.62 </td>,\n",
       "  <td class=\"tabev2\">N  </td>,\n",
       "  <td class=\"tabev1\">80.54 </td>,\n",
       "  <td class=\"tabev2\">E  </td>,\n",
       "  <td class=\"tabev3\">5</td>,\n",
       "  <td class=\"tabev5\" id=\"magtyp2\"> M</td>,\n",
       "  <td class=\"tabev2\">3.5</td>,\n",
       "  <td class=\"tb_region\" id=\"reg2\"> NEPAL-INDIA BORDER REGION</td>,\n",
       "  <td class=\"comment updatetimeno\" id=\"upd2\" style=\"text-align:right;\">2022-11-08 16:35</td>,\n",
       "  <td class=\"tabev0\"></td>,\n",
       "  <td class=\"tabev0\"></td>,\n",
       "  <td class=\"tabev0\"></td>,\n",
       "  <td class=\"tabev6\"><b><i style=\"display:none;\">earthquake</i><a href=\"/Earthquake/earthquake.php?id=1186867\">2022-11-08   16:04:03.7</a></b><i class=\"ago\" id=\"ago3\">38min ago</i></td>,\n",
       "  <td class=\"tabev1\">28.61 </td>,\n",
       "  <td class=\"tabev2\">N  </td>,\n",
       "  <td class=\"tabev1\">17.88 </td>,\n",
       "  <td class=\"tabev2\">W  </td>,\n",
       "  <td class=\"tabev3\">2</td>,\n",
       "  <td class=\"tabev5\" id=\"magtyp3\">ML</td>,\n",
       "  <td class=\"tabev2\">1.6</td>,\n",
       "  <td class=\"tb_region\" id=\"reg3\"> CANARY ISLANDS, SPAIN REGION</td>,\n",
       "  <td class=\"comment updatetimeno\" id=\"upd3\" style=\"text-align:right;\">2022-11-08 16:17</td>,\n",
       "  <td class=\"tabev0\"></td>,\n",
       "  <td class=\"tabev0\"></td>,\n",
       "  <td class=\"tabev0\"></td>,\n",
       "  <td class=\"tabev6\"><b><i style=\"display:none;\">earthquake</i><a href=\"/Earthquake/earthquake.php?id=1186865\">2022-11-08   16:00:22.0</a></b><i class=\"ago\" id=\"ago4\">42min ago</i></td>,\n",
       "  <td class=\"tabev1\">9.49 </td>,\n",
       "  <td class=\"tabev2\">N  </td>,\n",
       "  <td class=\"tabev1\">79.59 </td>,\n",
       "  <td class=\"tabev2\">W  </td>,\n",
       "  <td class=\"tabev3\">30</td>,\n",
       "  <td class=\"tabev5\" id=\"magtyp4\"> M</td>,\n",
       "  <td class=\"tabev2\">3.5</td>,\n",
       "  <td class=\"tb_region\" id=\"reg4\"> PANAMA</td>,\n",
       "  <td class=\"comment updatetimeno\" id=\"upd4\" style=\"text-align:right;\">2022-11-08 16:05</td>,\n",
       "  <td class=\"tabev0\"></td>,\n",
       "  <td class=\"tabev0\"></td>,\n",
       "  <td class=\"tabev0\"></td>,\n",
       "  <td class=\"tabev6\"><b><i style=\"display:none;\">earthquake</i><a href=\"/Earthquake/earthquake.php?id=1186866\">2022-11-08   15:49:16.0</a></b><i class=\"ago\" id=\"ago5\">53min ago</i></td>,\n",
       "  <td class=\"tabev1\">18.03 </td>,\n",
       "  <td class=\"tabev2\">N  </td>,\n",
       "  <td class=\"tabev1\">66.86 </td>,\n",
       "  <td class=\"tabev2\">W  </td>,\n",
       "  <td class=\"tabev3\">18</td>,\n",
       "  <td class=\"tabev5\" id=\"magtyp5\">Md</td>,\n",
       "  <td class=\"tabev2\">2.1</td>,\n",
       "  <td class=\"tb_region\" id=\"reg5\"> PUERTO RICO</td>,\n",
       "  <td class=\"comment updatetimeno\" id=\"upd5\" style=\"text-align:right;\">2022-11-08 16:12</td>,\n",
       "  <td class=\"tabev0\"></td>,\n",
       "  <td class=\"tabev0\"></td>,\n",
       "  <td class=\"tabev0\"></td>,\n",
       "  <td class=\"tabev6\"><b><i style=\"display:none;\">earthquake</i><a href=\"/Earthquake/earthquake.php?id=1186862\">2022-11-08   15:38:00.0</a></b><i class=\"ago\" id=\"ago6\">1hr 04min ago</i></td>,\n",
       "  <td class=\"tabev1\">46.06 </td>,\n",
       "  <td class=\"tabev2\">N  </td>,\n",
       "  <td class=\"tabev1\">14.05 </td>,\n",
       "  <td class=\"tabev2\">E  </td>,\n",
       "  <td class=\"tabev3\">8</td>,\n",
       "  <td class=\"tabev5\" id=\"magtyp6\">ML</td>,\n",
       "  <td class=\"tabev2\">1.5</td>,\n",
       "  <td class=\"tb_region\" id=\"reg6\"> SLOVENIA</td>,\n",
       "  <td class=\"comment updatetimeno\" id=\"upd6\" style=\"text-align:right;\">2022-11-08 15:40</td>,\n",
       "  <td class=\"tabev0\"></td>,\n",
       "  <td class=\"tabev0\"></td>,\n",
       "  <td class=\"tabev0\"></td>,\n",
       "  <td class=\"tabev6\"><b><i style=\"display:none;\">earthquake</i><a href=\"/Earthquake/earthquake.php?id=1186861\">2022-11-08   15:32:57.6</a></b><i class=\"ago\" id=\"ago7\">1hr 09min ago</i></td>,\n",
       "  <td class=\"tabev1\">46.97 </td>,\n",
       "  <td class=\"tabev2\">N  </td>,\n",
       "  <td class=\"tabev1\">9.77 </td>,\n",
       "  <td class=\"tabev2\">E  </td>,\n",
       "  <td class=\"tabev3\">10</td>,\n",
       "  <td class=\"tabev5\" id=\"magtyp7\">ML</td>,\n",
       "  <td class=\"tabev2\">2.0</td>,\n",
       "  <td class=\"tb_region\" id=\"reg7\"> SWITZERLAND</td>,\n",
       "  <td class=\"comment updatetimeno\" id=\"upd7\" style=\"text-align:right;\">2022-11-08 15:39</td>,\n",
       "  <td class=\"tabev0\"></td>,\n",
       "  <td class=\"tabev0\"></td>,\n",
       "  <td class=\"tabev0\"></td>,\n",
       "  <td class=\"tabev6\"><b><i style=\"display:none;\">earthquake</i><a href=\"/Earthquake/earthquake.php?id=1186860\">2022-11-08   15:27:12.0</a></b><i class=\"ago\" id=\"ago8\">1hr 15min ago</i></td>,\n",
       "  <td class=\"tabev1\">24.10 </td>,\n",
       "  <td class=\"tabev2\">S  </td>,\n",
       "  <td class=\"tabev1\">67.30 </td>,\n",
       "  <td class=\"tabev2\">W  </td>,\n",
       "  <td class=\"tabev3\">177</td>,\n",
       "  <td class=\"tabev5\" id=\"magtyp8\"> M</td>,\n",
       "  <td class=\"tabev2\">3.2</td>,\n",
       "  <td class=\"tb_region\" id=\"reg8\"> SALTA, ARGENTINA</td>,\n",
       "  <td class=\"comment updatetimeno\" id=\"upd8\" style=\"text-align:right;\">2022-11-08 15:35</td>,\n",
       "  <td class=\"tabev0\"></td>,\n",
       "  <td class=\"tabev0\"></td>,\n",
       "  <td class=\"tabev0\"></td>,\n",
       "  <td class=\"tabev6\"><b><i style=\"display:none;\">earthquake</i><a href=\"/Earthquake/earthquake.php?id=1186854\">2022-11-08   15:26:07.0</a></b><i class=\"ago\" id=\"ago9\">1hr 16min ago</i></td>,\n",
       "  <td class=\"tabev1\">39.50 </td>,\n",
       "  <td class=\"tabev2\">N  </td>,\n",
       "  <td class=\"tabev1\">123.16 </td>,\n",
       "  <td class=\"tabev2\">W  </td>,\n",
       "  <td class=\"tabev3\">2</td>,\n",
       "  <td class=\"tabev5\" id=\"magtyp9\">ML</td>,\n",
       "  <td class=\"tabev2\">2.6</td>,\n",
       "  <td class=\"tb_region\" id=\"reg9\"> NORTHERN CALIFORNIA</td>,\n",
       "  <td class=\"comment updatetimeno\" id=\"upd9\" style=\"text-align:right;\">2022-11-08 16:05</td>,\n",
       "  <td class=\"tabev0\"></td>,\n",
       "  <td class=\"tabev0\"></td>,\n",
       "  <td class=\"tabev0\"></td>,\n",
       "  <td class=\"tabev6\"><b><i style=\"display:none;\">earthquake</i><a href=\"/Earthquake/earthquake.php?id=1186858\">2022-11-08   15:23:24.2</a></b><i class=\"ago\" id=\"ago10\">1hr 19min ago</i></td>,\n",
       "  <td class=\"tabev1\">43.62 </td>,\n",
       "  <td class=\"tabev2\">N  </td>,\n",
       "  <td class=\"tabev1\">9.01 </td>,\n",
       "  <td class=\"tabev2\">E  </td>,\n",
       "  <td class=\"tabev3\">20</td>,\n",
       "  <td class=\"tabev5\" id=\"magtyp10\">ML</td>,\n",
       "  <td class=\"tabev2\">3.9</td>,\n",
       "  <td class=\"tb_region\" id=\"reg10\"> LIGURIAN SEA</td>,\n",
       "  <td class=\"comment updatetimeno\" id=\"upd10\" style=\"text-align:right;\">2022-11-08 15:45</td>,\n",
       "  <td class=\"tabev0\" style=\"text-align:center;\"><a href=\"https://www.emsc-csem.org/Earthquake/Testimonies/comments.php?id=1186852\" onmouseout=\"info_b2('notshow','');\" onmouseover=\"info_b2('show','See the &lt;b&gt;3 testimonies&lt;/b&gt; for this earthquake');\"><span class=\"\" style=\"vertical-align:middle;\">3</span></a></td>,\n",
       "  <td class=\"tabev0\"></td>,\n",
       "  <td class=\"tabev0\"><span class=\"intensity\" onclick=\"go_details(event,null,'https://www.emsc-csem.org/Earthquake/popup_intensmap.php?id=1186852&amp;f=/FELTREPORTS/118/1186852/IntensityMap.png');\" onmouseout=\"info_b2('notshow','');\" onmouseover=\"info_b2('show','See the &lt;b&gt; Intensity map&lt;/b&gt;');\" style=\"background-color:#00FFFF;\">IV</span></td>,\n",
       "  <td class=\"tabev6\"><b><i style=\"display:none;\">earthquake</i><a href=\"/Earthquake/earthquake.php?id=1186852\">2022-11-08   15:22:36.9</a></b><i class=\"ago\" id=\"ago11\">1hr 20min ago</i></td>,\n",
       "  <td class=\"tabev1\">29.33 </td>,\n",
       "  <td class=\"tabev2\">N  </td>,\n",
       "  <td class=\"tabev1\">81.17 </td>,\n",
       "  <td class=\"tabev2\">E  </td>,\n",
       "  <td class=\"tabev3\">10</td>,\n",
       "  <td class=\"tabev5\" id=\"magtyp11\">mb</td>,\n",
       "  <td class=\"tabev2\">4.8</td>,\n",
       "  <td class=\"tb_region\" id=\"reg11\"> NEPAL</td>,\n",
       "  <td class=\"comment updatetimeno\" id=\"upd11\" style=\"text-align:right;\">2022-11-08 15:54</td>,\n",
       "  <td class=\"tabev0\"></td>,\n",
       "  <td class=\"tabev0\"></td>,\n",
       "  <td class=\"tabev0\"></td>,\n",
       "  <td class=\"tabev6\"><b><i style=\"display:none;\">earthquake</i><a href=\"/Earthquake/earthquake.php?id=1186859\">2022-11-08   15:17:23.9</a></b><i class=\"ago\" id=\"ago12\">1hr 25min ago</i></td>,\n",
       "  <td class=\"tabev1\">18.01 </td>,\n",
       "  <td class=\"tabev2\">N  </td>,\n",
       "  <td class=\"tabev1\">66.87 </td>,\n",
       "  <td class=\"tabev2\">W  </td>,\n",
       "  <td class=\"tabev3\">14</td>,\n",
       "  <td class=\"tabev5\" id=\"magtyp12\">Md</td>,\n",
       "  <td class=\"tabev2\">2.0</td>,\n",
       "  <td class=\"tb_region\" id=\"reg12\"> PUERTO RICO</td>,\n",
       "  <td class=\"comment updatetimeno\" id=\"upd12\" style=\"text-align:right;\">2022-11-08 15:31</td>,\n",
       "  <td class=\"tabev0\"></td>,\n",
       "  <td class=\"tabev0\"></td>,\n",
       "  <td class=\"tabev0\"><span class=\"intensity\" onclick=\"go_details(event,null,'https://www.emsc-csem.org/Earthquake/popup_intensmap.php?id=1186849&amp;f=/FELTREPORTS/118/1186849/IntensityMap.png');\" onmouseout=\"info_b2('notshow','');\" onmouseover=\"info_b2('show','See the &lt;b&gt; Intensity map&lt;/b&gt;');\" style=\"background-color:#FFFFFF;\">F</span></td>,\n",
       "  <td class=\"tabev6\"><b><i style=\"display:none;\">earthquake</i><a href=\"/Earthquake/earthquake.php?id=1186849\">2022-11-08   15:08:26.8</a></b><i class=\"ago\" id=\"ago13\">1hr 34min ago</i></td>,\n",
       "  <td class=\"tabev1\">19.55 </td>,\n",
       "  <td class=\"tabev2\">N  </td>,\n",
       "  <td class=\"tabev1\">156.10 </td>,\n",
       "  <td class=\"tabev2\">W  </td>,\n",
       "  <td class=\"tabev3\">19</td>,\n",
       "  <td class=\"tabev5\" id=\"magtyp13\">ML</td>,\n",
       "  <td class=\"tabev2\">2.9</td>,\n",
       "  <td class=\"tb_region\" id=\"reg13\"> HAWAII REGION, HAWAII</td>,\n",
       "  <td class=\"comment updatetimeno\" id=\"upd13\" style=\"text-align:right;\">2022-11-08 15:16</td>,\n",
       "  <td class=\"tabev0\"></td>,\n",
       "  <td class=\"tabev0\"></td>,\n",
       "  <td class=\"tabev0\"></td>,\n",
       "  <td class=\"tabev6\"><b><i style=\"display:none;\">earthquake</i><a href=\"/Earthquake/earthquake.php?id=1186845\">2022-11-08   14:50:48.0</a></b><i class=\"ago\" id=\"ago14\">1hr 52min ago</i></td>,\n",
       "  <td class=\"tabev1\">2.83 </td>,\n",
       "  <td class=\"tabev2\">S  </td>,\n",
       "  <td class=\"tabev1\">129.77 </td>,\n",
       "  <td class=\"tabev2\">E  </td>,\n",
       "  <td class=\"tabev3\">10</td>,\n",
       "  <td class=\"tabev5\" id=\"magtyp14\"> M</td>,\n",
       "  <td class=\"tabev2\">3.0</td>,\n",
       "  <td class=\"tb_region\" id=\"reg14\"> SERAM, INDONESIA</td>,\n",
       "  <td class=\"comment updatetimeno\" id=\"upd14\" style=\"text-align:right;\">2022-11-08 14:55</td>,\n",
       "  <td class=\"tabev0\"></td>,\n",
       "  <td class=\"tabev0\"></td>,\n",
       "  <td class=\"tabev0\"></td>,\n",
       "  <td class=\"tabev6\"><b><i style=\"display:none;\">earthquake</i><a href=\"/Earthquake/earthquake.php?id=1186848\">2022-11-08   14:49:11.0</a></b><i class=\"ago\" id=\"ago15\">1hr 53min ago</i></td>,\n",
       "  <td class=\"tabev1\">22.26 </td>,\n",
       "  <td class=\"tabev2\">S  </td>,\n",
       "  <td class=\"tabev1\">68.73 </td>,\n",
       "  <td class=\"tabev2\">W  </td>,\n",
       "  <td class=\"tabev3\">119</td>,\n",
       "  <td class=\"tabev5\" id=\"magtyp15\"> M</td>,\n",
       "  <td class=\"tabev2\">2.6</td>,\n",
       "  <td class=\"tb_region\" id=\"reg15\"> ANTOFAGASTA, CHILE</td>,\n",
       "  <td class=\"comment updatetimeno\" id=\"upd15\" style=\"text-align:right;\">2022-11-08 14:57</td>,\n",
       "  <td class=\"tabev0\"></td>,\n",
       "  <td class=\"tabev0\"></td>,\n",
       "  <td class=\"tabev0\"></td>,\n",
       "  <td class=\"tabev6\"><b><i style=\"display:none;\">earthquake</i><a href=\"/Earthquake/earthquake.php?id=1186844\">2022-11-08   14:43:44.8</a></b><i class=\"ago\" id=\"ago16\">1hr 59min ago</i></td>,\n",
       "  <td class=\"tabev1\">39.16 </td>,\n",
       "  <td class=\"tabev2\">N  </td>,\n",
       "  <td class=\"tabev1\">0.30 </td>,\n",
       "  <td class=\"tabev2\">E  </td>,\n",
       "  <td class=\"tabev3\">16</td>,\n",
       "  <td class=\"tabev5\" id=\"magtyp16\">ML</td>,\n",
       "  <td class=\"tabev2\">2.0</td>,\n",
       "  <td class=\"tb_region\" id=\"reg16\"> SPAIN</td>,\n",
       "  <td class=\"comment updatetimeno\" id=\"upd16\" style=\"text-align:right;\">2022-11-08 14:53</td>,\n",
       "  <td class=\"tabev0\"></td>,\n",
       "  <td class=\"tabev0\"></td>,\n",
       "  <td class=\"tabev0\"></td>,\n",
       "  <td class=\"tabev6\"><b><i style=\"display:none;\">earthquake</i><a href=\"/Earthquake/earthquake.php?id=1186847\">2022-11-08   14:38:45.6</a></b><i class=\"ago\" id=\"ago17\">2hr 04min ago</i></td>,\n",
       "  <td class=\"tabev1\">52.39 </td>,\n",
       "  <td class=\"tabev2\">N  </td>,\n",
       "  <td class=\"tabev1\">179.41 </td>,\n",
       "  <td class=\"tabev2\">W  </td>,\n",
       "  <td class=\"tabev3\">205</td>,\n",
       "  <td class=\"tabev5\" id=\"magtyp17\">mb</td>,\n",
       "  <td class=\"tabev2\">4.6</td>,\n",
       "  <td class=\"tb_region\" id=\"reg17\"> ANDREANOF ISLANDS, ALEUTIAN IS.</td>,\n",
       "  <td class=\"comment updatetimeno\" id=\"upd17\" style=\"text-align:right;\">2022-11-08 15:22</td>,\n",
       "  <td class=\"tabev0\"></td>,\n",
       "  <td class=\"tabev0\"></td>,\n",
       "  <td class=\"tabev0\"><span class=\"intensity\" onclick=\"go_details(event,null,'https://www.emsc-csem.org/Earthquake/popup_intensmap.php?id=1186841&amp;f=/FELTREPORTS/118/1186841/IntensityMap.png');\" onmouseout=\"info_b2('notshow','');\" onmouseover=\"info_b2('show','See the &lt;b&gt; Intensity map&lt;/b&gt;');\" style=\"background-color:#FFFFFF;\">F</span></td>,\n",
       "  <td class=\"tabev6\"><b><i style=\"display:none;\">earthquake</i><a href=\"/Earthquake/earthquake.php?id=1186841\">2022-11-08   14:30:01.8</a></b><i class=\"ago\" id=\"ago18\">2hr 12min ago</i></td>,\n",
       "  <td class=\"tabev1\">15.38 </td>,\n",
       "  <td class=\"tabev2\">N  </td>,\n",
       "  <td class=\"tabev1\">120.85 </td>,\n",
       "  <td class=\"tabev2\">E  </td>,\n",
       "  <td class=\"tabev3\">175</td>,\n",
       "  <td class=\"tabev5\" id=\"magtyp18\">Mw</td>,\n",
       "  <td class=\"tabev2\">5.4</td>,\n",
       "  <td class=\"tb_region\" id=\"reg18\"> LUZON, PHILIPPINES</td>,\n",
       "  <td class=\"comment updatetimeno\" id=\"upd18\" style=\"text-align:right;\">2022-11-08 15:19</td>,\n",
       "  <td class=\"tabev0\"></td>,\n",
       "  <td class=\"tabev0\"></td>,\n",
       "  <td class=\"tabev0\"></td>,\n",
       "  <td class=\"tabev6\"><b><i style=\"display:none;\">earthquake</i><a href=\"/Earthquake/earthquake.php?id=1186842\">2022-11-08   14:26:07.0</a></b><i class=\"ago\" id=\"ago19\">2hr 16min ago</i></td>,\n",
       "  <td class=\"tabev1\">35.80 </td>,\n",
       "  <td class=\"tabev2\">S  </td>,\n",
       "  <td class=\"tabev1\">73.28 </td>,\n",
       "  <td class=\"tabev2\">W  </td>,\n",
       "  <td class=\"tabev3\">26</td>,\n",
       "  <td class=\"tabev5\" id=\"magtyp19\"> M</td>,\n",
       "  <td class=\"tabev2\">2.9</td>,\n",
       "  <td class=\"tb_region\" id=\"reg19\"> OFFSHORE MAULE, CHILE</td>,\n",
       "  <td class=\"comment updatetimeno\" id=\"upd19\" style=\"text-align:right;\">2022-11-08 14:37</td>,\n",
       "  <td class=\"tabev0\"></td>,\n",
       "  <td class=\"tabev0\"></td>,\n",
       "  <td class=\"tabev0\"></td>,\n",
       "  <td class=\"tabev6\"><b><i style=\"display:none;\">earthquake</i><a href=\"/Earthquake/earthquake.php?id=1186846\">2022-11-08   14:24:30.0</a></b><i class=\"ago\" id=\"ago20\">2hr 18min ago</i></td>,\n",
       "  <td class=\"tabev1\">8.95 </td>,\n",
       "  <td class=\"tabev2\">N  </td>,\n",
       "  <td class=\"tabev1\">84.19 </td>,\n",
       "  <td class=\"tabev2\">W  </td>,\n",
       "  <td class=\"tabev3\">5</td>,\n",
       "  <td class=\"tabev5\" id=\"magtyp20\"> M</td>,\n",
       "  <td class=\"tabev2\">3.3</td>,\n",
       "  <td class=\"tb_region\" id=\"reg20\"> OFF COAST OF COSTA RICA</td>,\n",
       "  <td class=\"comment updatetimeno\" id=\"upd20\" style=\"text-align:right;\">2022-11-08 14:55</td>,\n",
       "  <td class=\"tabev0\"></td>,\n",
       "  <td class=\"tabev0\"></td>,\n",
       "  <td class=\"tabev0\"></td>,\n",
       "  <td class=\"tabev6\"><b><i style=\"display:none;\">earthquake</i><a href=\"/Earthquake/earthquake.php?id=1186838\">2022-11-08   14:20:38.0</a></b><i class=\"ago\" id=\"ago21\">2hr 22min ago</i></td>,\n",
       "  <td class=\"tabev1\">2.97 </td>,\n",
       "  <td class=\"tabev2\">S  </td>,\n",
       "  <td class=\"tabev1\">122.17 </td>,\n",
       "  <td class=\"tabev2\">E  </td>,\n",
       "  <td class=\"tabev3\">10</td>,\n",
       "  <td class=\"tabev5\" id=\"magtyp21\"> M</td>,\n",
       "  <td class=\"tabev2\">2.5</td>,\n",
       "  <td class=\"tb_region\" id=\"reg21\"> SULAWESI, INDONESIA</td>,\n",
       "  <td class=\"comment updatetimeno\" id=\"upd21\" style=\"text-align:right;\">2022-11-08 14:25</td>,\n",
       "  <td class=\"tabev0\"></td>,\n",
       "  <td class=\"tabev0\"></td>,\n",
       "  <td class=\"tabev0\"></td>,\n",
       "  <td class=\"tabev6\"><b><i style=\"display:none;\">earthquake</i><a href=\"/Earthquake/earthquake.php?id=1186817\">2022-11-08   13:42:31.7</a></b><i class=\"ago\" id=\"ago22\">3hr 00min ago</i></td>,\n",
       "  <td class=\"tabev1\">40.16 </td>,\n",
       "  <td class=\"tabev2\">N  </td>,\n",
       "  <td class=\"tabev1\">119.14 </td>,\n",
       "  <td class=\"tabev2\">W  </td>,\n",
       "  <td class=\"tabev3\">7</td>,\n",
       "  <td class=\"tabev5\" id=\"magtyp22\">ml</td>,\n",
       "  <td class=\"tabev2\">2.5</td>,\n",
       "  <td class=\"tb_region\" id=\"reg22\"> NEVADA</td>,\n",
       "  <td class=\"comment updatetimeno\" id=\"upd22\" style=\"text-align:right;\">2022-11-08 16:29</td>,\n",
       "  <td class=\"tabev0\"></td>,\n",
       "  <td class=\"tabev0\"></td>,\n",
       "  <td class=\"tabev0\"></td>,\n",
       "  <td class=\"tabev6\"><b><i style=\"display:none;\">earthquake</i><a href=\"/Earthquake/earthquake.php?id=1186813\">2022-11-08   13:09:18.0</a></b><i class=\"ago\" id=\"ago23\">3hr 33min ago</i></td>,\n",
       "  <td class=\"tabev1\">34.76 </td>,\n",
       "  <td class=\"tabev2\">S  </td>,\n",
       "  <td class=\"tabev1\">72.12 </td>,\n",
       "  <td class=\"tabev2\">W  </td>,\n",
       "  <td class=\"tabev3\">39</td>,\n",
       "  <td class=\"tabev5\" id=\"magtyp23\"> M</td>,\n",
       "  <td class=\"tabev2\">3.0</td>,\n",
       "  <td class=\"tb_region\" id=\"reg23\"> OFFSHORE MAULE, CHILE</td>,\n",
       "  <td class=\"comment updatetimeno\" id=\"upd23\" style=\"text-align:right;\">2022-11-08 13:28</td>,\n",
       "  <td class=\"tabev0\"></td>,\n",
       "  <td class=\"tabev0\"></td>,\n",
       "  <td class=\"tabev0\"></td>,\n",
       "  <td class=\"tabev6\"><b><i style=\"display:none;\">earthquake</i><a href=\"/Earthquake/earthquake.php?id=1186811\">2022-11-08   13:05:57.0</a></b><i class=\"ago\" id=\"ago24\">3hr 36min ago</i></td>,\n",
       "  <td class=\"tabev1\">31.05 </td>,\n",
       "  <td class=\"tabev2\">S  </td>,\n",
       "  <td class=\"tabev1\">71.36 </td>,\n",
       "  <td class=\"tabev2\">W  </td>,\n",
       "  <td class=\"tabev3\">24</td>,\n",
       "  <td class=\"tabev5\" id=\"magtyp24\"> M</td>,\n",
       "  <td class=\"tabev2\">3.1</td>,\n",
       "  <td class=\"tb_region\" id=\"reg24\"> COQUIMBO, CHILE</td>,\n",
       "  <td class=\"comment updatetimeno\" id=\"upd24\" style=\"text-align:right;\">2022-11-08 13:19</td>,\n",
       "  <td class=\"tabev0\"></td>,\n",
       "  <td class=\"tabev0\"></td>,\n",
       "  <td class=\"tabev0\"></td>,\n",
       "  <td class=\"tabev6\"><b><i style=\"display:none;\">earthquake</i><a href=\"/Earthquake/earthquake.php?id=1186810\">2022-11-08   12:53:04.8</a></b><i class=\"ago\" id=\"ago25\">3hr 49min ago</i></td>,\n",
       "  <td class=\"tabev1\">40.17 </td>,\n",
       "  <td class=\"tabev2\">N  </td>,\n",
       "  <td class=\"tabev1\">119.15 </td>,\n",
       "  <td class=\"tabev2\">W  </td>,\n",
       "  <td class=\"tabev3\">7</td>,\n",
       "  <td class=\"tabev5\" id=\"magtyp25\">ml</td>,\n",
       "  <td class=\"tabev2\">2.2</td>,\n",
       "  <td class=\"tb_region\" id=\"reg25\"> NEVADA</td>,\n",
       "  <td class=\"comment updatetimeno\" id=\"upd25\" style=\"text-align:right;\">2022-11-08 16:07</td>,\n",
       "  <td class=\"tabev0\"></td>,\n",
       "  <td class=\"tabev0\"></td>,\n",
       "  <td class=\"tabev0\"></td>,\n",
       "  <td class=\"tabev6\"><b><i style=\"display:none;\">earthquake</i><a href=\"/Earthquake/earthquake.php?id=1186808\">2022-11-08   12:26:00.3</a></b><i class=\"ago\" id=\"ago26\">4hr 16min ago</i></td>,\n",
       "  <td class=\"tabev1\">19.34 </td>,\n",
       "  <td class=\"tabev2\">N  </td>,\n",
       "  <td class=\"tabev1\">155.21 </td>,\n",
       "  <td class=\"tabev2\">W  </td>,\n",
       "  <td class=\"tabev3\">-1</td>,\n",
       "  <td class=\"tabev5\" id=\"magtyp26\">Md</td>,\n",
       "  <td class=\"tabev2\">2.0</td>,\n",
       "  <td class=\"tb_region\" id=\"reg26\"> ISLAND OF HAWAII, HAWAII</td>,\n",
       "  <td class=\"comment updatetimeno\" id=\"upd26\" style=\"text-align:right;\">2022-11-08 12:29</td>,\n",
       "  <td class=\"tabev0\"></td>,\n",
       "  <td class=\"tabev0\"></td>,\n",
       "  <td class=\"tabev0\"></td>,\n",
       "  <td class=\"tabev6\"><b><i style=\"display:none;\">earthquake</i><a href=\"/Earthquake/earthquake.php?id=1186806\">2022-11-08   12:13:59.0</a></b><i class=\"ago\" id=\"ago27\">4hr 28min ago</i></td>,\n",
       "  <td class=\"tabev1\">4.72 </td>,\n",
       "  <td class=\"tabev2\">S  </td>,\n",
       "  <td class=\"tabev1\">101.71 </td>,\n",
       "  <td class=\"tabev2\">E  </td>,\n",
       "  <td class=\"tabev3\">10</td>,\n",
       "  <td class=\"tabev5\" id=\"magtyp27\"> M</td>,\n",
       "  <td class=\"tabev2\">4.0</td>,\n",
       "  <td class=\"tb_region\" id=\"reg27\"> SOUTHERN SUMATRA, INDONESIA</td>,\n",
       "  <td class=\"comment updatetimeno\" id=\"upd27\" style=\"text-align:right;\">2022-11-08 12:20</td>,\n",
       "  <td class=\"tabev0\"></td>,\n",
       "  <td class=\"tabev0\"></td>,\n",
       "  <td class=\"tabev0\"></td>,\n",
       "  <td class=\"tabev6\"><b><i style=\"display:none;\">earthquake</i><a href=\"/Earthquake/earthquake.php?id=1186800\">2022-11-08   12:05:34.3</a></b><i class=\"ago\" id=\"ago28\">4hr 37min ago</i></td>,\n",
       "  <td class=\"tabev1\">29.87 </td>,\n",
       "  <td class=\"tabev2\">S  </td>,\n",
       "  <td class=\"tabev1\">68.35 </td>,\n",
       "  <td class=\"tabev2\">W  </td>,\n",
       "  <td class=\"tabev3\">10</td>,\n",
       "  <td class=\"tabev5\" id=\"magtyp28\">Mw</td>,\n",
       "  <td class=\"tabev2\">4.0</td>,\n",
       "  <td class=\"tb_region\" id=\"reg28\"> SAN JUAN, ARGENTINA</td>,\n",
       "  <td class=\"comment updatetimeno\" id=\"upd28\" style=\"text-align:right;\">2022-11-08 15:20</td>,\n",
       "  <td class=\"tabev0\"></td>,\n",
       "  <td class=\"tabev0\"></td>,\n",
       "  <td class=\"tabev0\"></td>,\n",
       "  <td class=\"tabev6\"><b><i style=\"display:none;\">earthquake</i><a href=\"/Earthquake/earthquake.php?id=1186799\">2022-11-08   11:57:11.4</a></b><i class=\"ago\" id=\"ago29\">4hr 45min ago</i></td>,\n",
       "  <td class=\"tabev1\">31.66 </td>,\n",
       "  <td class=\"tabev2\">N  </td>,\n",
       "  <td class=\"tabev1\">104.40 </td>,\n",
       "  <td class=\"tabev2\">W  </td>,\n",
       "  <td class=\"tabev3\">9</td>,\n",
       "  <td class=\"tabev5\" id=\"magtyp29\">ML</td>,\n",
       "  <td class=\"tabev2\">3.3</td>,\n",
       "  <td class=\"tb_region\" id=\"reg29\"> WESTERN TEXAS</td>,\n",
       "  <td class=\"comment updatetimeno\" id=\"upd29\" style=\"text-align:right;\">2022-11-08 12:09</td>,\n",
       "  <td class=\"tabev0\"></td>,\n",
       "  <td class=\"tabev0\"></td>,\n",
       "  <td class=\"tabev0\"></td>,\n",
       "  <td class=\"tabev6\"><b><i style=\"display:none;\">earthquake</i><a href=\"/Earthquake/earthquake.php?id=1186796\">2022-11-08   11:47:14.0</a></b><i class=\"ago\" id=\"ago30\">4hr 55min ago</i></td>,\n",
       "  <td class=\"tabev1\">12.05 </td>,\n",
       "  <td class=\"tabev2\">N  </td>,\n",
       "  <td class=\"tabev1\">87.75 </td>,\n",
       "  <td class=\"tabev2\">W  </td>,\n",
       "  <td class=\"tabev3\">18</td>,\n",
       "  <td class=\"tabev5\" id=\"magtyp30\"> M</td>,\n",
       "  <td class=\"tabev2\">2.8</td>,\n",
       "  <td class=\"tb_region\" id=\"reg30\"> NEAR COAST OF NICARAGUA</td>,\n",
       "  <td class=\"comment updatetimeno\" id=\"upd30\" style=\"text-align:right;\">2022-11-08 11:55</td>,\n",
       "  <td class=\"tabev0\"></td>,\n",
       "  <td class=\"tabev0\"></td>,\n",
       "  <td class=\"tabev0\"></td>,\n",
       "  <td class=\"tabev6\"><b><i style=\"display:none;\">earthquake</i><a href=\"/Earthquake/earthquake.php?id=1186795\">2022-11-08   11:45:08.0</a></b><i class=\"ago\" id=\"ago31\">4hr 57min ago</i></td>,\n",
       "  <td class=\"tabev1\">24.12 </td>,\n",
       "  <td class=\"tabev2\">S  </td>,\n",
       "  <td class=\"tabev1\">67.55 </td>,\n",
       "  <td class=\"tabev2\">W  </td>,\n",
       "  <td class=\"tabev3\">222</td>,\n",
       "  <td class=\"tabev5\" id=\"magtyp31\"> M</td>,\n",
       "  <td class=\"tabev2\">3.5</td>,\n",
       "  <td class=\"tb_region\" id=\"reg31\"> SALTA, ARGENTINA</td>,\n",
       "  <td class=\"comment updatetimeno\" id=\"upd31\" style=\"text-align:right;\">2022-11-08 11:52</td>,\n",
       "  <td class=\"tabev0\"></td>,\n",
       "  <td class=\"tabev0\"></td>,\n",
       "  <td class=\"tabev0\"></td>,\n",
       "  <td class=\"tabev6\"><b><i style=\"display:none;\">earthquake</i><a href=\"/Earthquake/earthquake.php?id=1186812\">2022-11-08   11:42:32.9</a></b><i class=\"ago\" id=\"ago32\">5hr 00min ago</i></td>,\n",
       "  <td class=\"tabev1\">19.07 </td>,\n",
       "  <td class=\"tabev2\">N  </td>,\n",
       "  <td class=\"tabev1\">67.74 </td>,\n",
       "  <td class=\"tabev2\">W  </td>,\n",
       "  <td class=\"tabev3\">35</td>,\n",
       "  <td class=\"tabev5\" id=\"magtyp32\">ML</td>,\n",
       "  <td class=\"tabev2\">3.0</td>,\n",
       "  <td class=\"tb_region\" id=\"reg32\"> PUERTO RICO REGION</td>,\n",
       "  <td class=\"comment updatetimeno\" id=\"upd32\" style=\"text-align:right;\">2022-11-08 13:50</td>,\n",
       "  <td class=\"tabev0\"></td>,\n",
       "  <td class=\"tabev0\"></td>,\n",
       "  <td class=\"tabev0\"></td>,\n",
       "  <td class=\"tabev6\"><b><i style=\"display:none;\">earthquake</i><a href=\"/Earthquake/earthquake.php?id=1186793\">2022-11-08   11:33:39.7</a></b><i class=\"ago\" id=\"ago33\">5hr 09min ago</i></td>,\n",
       "  <td class=\"tabev1\">21.74 </td>,\n",
       "  <td class=\"tabev2\">N  </td>,\n",
       "  <td class=\"tabev1\">76.53 </td>,\n",
       "  <td class=\"tabev2\">W  </td>,\n",
       "  <td class=\"tabev3\">10</td>,\n",
       "  <td class=\"tabev5\" id=\"magtyp33\">mb</td>,\n",
       "  <td class=\"tabev2\">5.0</td>,\n",
       "  <td class=\"tb_region\" id=\"reg33\"> CUBA REGION</td>,\n",
       "  <td class=\"comment updatetimeno\" id=\"upd33\" style=\"text-align:right;\">2022-11-08 12:20</td>,\n",
       "  <td class=\"tabev0\"></td>,\n",
       "  <td class=\"tabev0\"></td>,\n",
       "  <td class=\"tabev0\"></td>,\n",
       "  <td class=\"tabev6\"><b><i style=\"display:none;\">earthquake</i><a href=\"/Earthquake/earthquake.php?id=1186797\">2022-11-08   11:32:10.0</a></b><i class=\"ago\" id=\"ago34\">5hr 10min ago</i></td>,\n",
       "  <td class=\"tabev1\">32.75 </td>,\n",
       "  <td class=\"tabev2\">S  </td>,\n",
       "  <td class=\"tabev1\">71.09 </td>,\n",
       "  <td class=\"tabev2\">W  </td>,\n",
       "  <td class=\"tabev3\">62</td>,\n",
       "  <td class=\"tabev5\" id=\"magtyp34\"> M</td>,\n",
       "  <td class=\"tabev2\">3.0</td>,\n",
       "  <td class=\"tb_region\" id=\"reg34\"> VALPARAISO, CHILE</td>,\n",
       "  <td class=\"comment updatetimeno\" id=\"upd34\" style=\"text-align:right;\">2022-11-08 12:03</td>,\n",
       "  <td class=\"tabev0\"></td>,\n",
       "  <td class=\"tabev0\"></td>,\n",
       "  <td class=\"tabev0\"></td>,\n",
       "  <td class=\"tabev6\"><b><i style=\"display:none;\">earthquake</i><a href=\"/Earthquake/earthquake.php?id=1186791\">2022-11-08   11:27:25.0</a></b><i class=\"ago\" id=\"ago35\">5hr 15min ago</i></td>,\n",
       "  <td class=\"tabev1\">23.91 </td>,\n",
       "  <td class=\"tabev2\">S  </td>,\n",
       "  <td class=\"tabev1\">67.20 </td>,\n",
       "  <td class=\"tabev2\">W  </td>,\n",
       "  <td class=\"tabev3\">240</td>,\n",
       "  <td class=\"tabev5\" id=\"magtyp35\"> M</td>,\n",
       "  <td class=\"tabev2\">3.5</td>,\n",
       "  <td class=\"tb_region\" id=\"reg35\"> SALTA, ARGENTINA</td>,\n",
       "  <td class=\"comment updatetimeno\" id=\"upd35\" style=\"text-align:right;\">2022-11-08 11:42</td>,\n",
       "  <td class=\"tabev0\"></td>,\n",
       "  <td class=\"tabev0\"></td>,\n",
       "  <td class=\"tabev0\"></td>,\n",
       "  <td class=\"tabev6\"><b><i style=\"display:none;\">earthquake</i><a href=\"/Earthquake/earthquake.php?id=1186794\">2022-11-08   11:25:34.0</a></b><i class=\"ago\" id=\"ago36\">5hr 17min ago</i></td>,\n",
       "  <td class=\"tabev1\">11.16 </td>,\n",
       "  <td class=\"tabev2\">N  </td>,\n",
       "  <td class=\"tabev1\">126.34 </td>,\n",
       "  <td class=\"tabev2\">E  </td>,\n",
       "  <td class=\"tabev3\">74</td>,\n",
       "  <td class=\"tabev5\" id=\"magtyp36\"> M</td>,\n",
       "  <td class=\"tabev2\">3.1</td>,\n",
       "  <td class=\"tb_region\" id=\"reg36\"> PHILIPPINE ISLANDS REGION</td>,\n",
       "  <td class=\"comment updatetimeno\" id=\"upd36\" style=\"text-align:right;\">2022-11-08 11:40</td>,\n",
       "  <td class=\"tabev0\"></td>,\n",
       "  <td class=\"tabev0\"></td>,\n",
       "  <td class=\"tabev0\"></td>,\n",
       "  <td class=\"tabev6\"><b><i style=\"display:none;\">earthquake</i><a href=\"/Earthquake/earthquake.php?id=1186792\">2022-11-08   11:24:59.0</a></b><i class=\"ago\" id=\"ago37\">5hr 17min ago</i></td>,\n",
       "  <td class=\"tabev1\">38.28 </td>,\n",
       "  <td class=\"tabev2\">N  </td>,\n",
       "  <td class=\"tabev1\">15.18 </td>,\n",
       "  <td class=\"tabev2\">E  </td>,\n",
       "  <td class=\"tabev3\">116</td>,\n",
       "  <td class=\"tabev5\" id=\"magtyp37\">ML</td>,\n",
       "  <td class=\"tabev2\">2.5</td>,\n",
       "  <td class=\"tb_region\" id=\"reg37\"> SICILY, ITALY</td>,\n",
       "  <td class=\"comment updatetimeno\" id=\"upd37\" style=\"text-align:right;\">2022-11-08 11:36</td>,\n",
       "  <td class=\"tabev0\"></td>,\n",
       "  <td class=\"tabev0\"></td>,\n",
       "  <td class=\"tabev0\"></td>,\n",
       "  <td class=\"tabev6\"><b><i style=\"display:none;\">earthquake</i><a href=\"/Earthquake/earthquake.php?id=1186789\">2022-11-08   11:18:27.0</a></b><i class=\"ago\" id=\"ago38\">5hr 24min ago</i></td>,\n",
       "  <td class=\"tabev1\">0.93 </td>,\n",
       "  <td class=\"tabev2\">N  </td>,\n",
       "  <td class=\"tabev1\">126.06 </td>,\n",
       "  <td class=\"tabev2\">E  </td>,\n",
       "  <td class=\"tabev3\">25</td>,\n",
       "  <td class=\"tabev5\" id=\"magtyp38\"> M</td>,\n",
       "  <td class=\"tabev2\">3.0</td>,\n",
       "  <td class=\"tb_region\" id=\"reg38\"> MOLUCCA SEA</td>,\n",
       "  <td class=\"comment updatetimeno\" id=\"upd38\" style=\"text-align:right;\">2022-11-08 11:30</td>,\n",
       "  <td class=\"tabev0\"></td>,\n",
       "  <td class=\"tabev0\"></td>,\n",
       "  <td class=\"tabev0\"></td>,\n",
       "  <td class=\"tabev6\"><b><i style=\"display:none;\">earthquake</i><a href=\"/Earthquake/earthquake.php?id=1186790\">2022-11-08   11:16:10.3</a></b><i class=\"ago\" id=\"ago39\">5hr 26min ago</i></td>,\n",
       "  <td class=\"tabev1\">11.11 </td>,\n",
       "  <td class=\"tabev2\">N  </td>,\n",
       "  <td class=\"tabev1\">125.70 </td>,\n",
       "  <td class=\"tabev2\">E  </td>,\n",
       "  <td class=\"tabev3\">10</td>,\n",
       "  <td class=\"tabev5\" id=\"magtyp39\">mb</td>,\n",
       "  <td class=\"tabev2\">4.6</td>,\n",
       "  <td class=\"tb_region\" id=\"reg39\"> SAMAR, PHILIPPINES</td>,\n",
       "  <td class=\"comment updatetimeno\" id=\"upd39\" style=\"text-align:right;\">2022-11-08 15:22</td>,\n",
       "  <td class=\"tabev0\"></td>,\n",
       "  <td class=\"tabev0\"></td>,\n",
       "  <td class=\"tabev0\"></td>,\n",
       "  <td class=\"tabev6\"><b><i style=\"display:none;\">earthquake</i><a href=\"/Earthquake/earthquake.php?id=1186788\">2022-11-08   11:04:28.1</a></b><i class=\"ago\" id=\"ago40\">5hr 38min ago</i></td>,\n",
       "  <td class=\"tabev1\">17.97 </td>,\n",
       "  <td class=\"tabev2\">N  </td>,\n",
       "  <td class=\"tabev1\">66.94 </td>,\n",
       "  <td class=\"tabev2\">W  </td>,\n",
       "  <td class=\"tabev3\">7</td>,\n",
       "  <td class=\"tabev5\" id=\"magtyp40\">Md</td>,\n",
       "  <td class=\"tabev2\">2.3</td>,\n",
       "  <td class=\"tb_region\" id=\"reg40\"> PUERTO RICO</td>,\n",
       "  <td class=\"comment updatetimeno\" id=\"upd40\" style=\"text-align:right;\">2022-11-08 11:25</td>,\n",
       "  <td class=\"tabev0\"></td>,\n",
       "  <td class=\"tabev0\"></td>,\n",
       "  <td class=\"tabev0\"></td>,\n",
       "  <td class=\"tabev6\"><b><i style=\"display:none;\">earthquake</i><a href=\"/Earthquake/earthquake.php?id=1186821\">2022-11-08   10:58:26.0</a></b><i class=\"ago\" id=\"ago41\">5hr 44min ago</i></td>,\n",
       "  <td class=\"tabev1\">28.73 </td>,\n",
       "  <td class=\"tabev2\">N  </td>,\n",
       "  <td class=\"tabev1\">112.89 </td>,\n",
       "  <td class=\"tabev2\">W  </td>,\n",
       "  <td class=\"tabev3\">10</td>,\n",
       "  <td class=\"tabev5\" id=\"magtyp41\"> M</td>,\n",
       "  <td class=\"tabev2\">3.4</td>,\n",
       "  <td class=\"tb_region\" id=\"reg41\"> GULF OF CALIFORNIA</td>,\n",
       "  <td class=\"comment updatetimeno\" id=\"upd41\" style=\"text-align:right;\">2022-11-08 14:15</td>,\n",
       "  <td class=\"tabev0\"></td>,\n",
       "  <td class=\"tabev0\"></td>,\n",
       "  <td class=\"tabev0\"></td>,\n",
       "  <td class=\"tabev6\"><b><i style=\"display:none;\">earthquake</i><a href=\"/Earthquake/earthquake.php?id=1186822\">2022-11-08   10:57:27.0</a></b><i class=\"ago\" id=\"ago42\">5hr 45min ago</i></td>,\n",
       "  <td class=\"tabev1\">17.06 </td>,\n",
       "  <td class=\"tabev2\">N  </td>,\n",
       "  <td class=\"tabev1\">95.39 </td>,\n",
       "  <td class=\"tabev2\">W  </td>,\n",
       "  <td class=\"tabev3\">105</td>,\n",
       "  <td class=\"tabev5\" id=\"magtyp42\"> M</td>,\n",
       "  <td class=\"tabev2\">3.7</td>,\n",
       "  <td class=\"tb_region\" id=\"reg42\"> OAXACA, MEXICO</td>,\n",
       "  <td class=\"comment updatetimeno\" id=\"upd42\" style=\"text-align:right;\">2022-11-08 14:16</td>,\n",
       "  <td class=\"tabev0\"></td>,\n",
       "  <td class=\"tabev0\"></td>,\n",
       "  <td class=\"tabev0\"></td>,\n",
       "  <td class=\"tabev6\"><b><i style=\"display:none;\">earthquake</i><a href=\"/Earthquake/earthquake.php?id=1186784\">2022-11-08   10:53:42.0</a></b><i class=\"ago\" id=\"ago43\">5hr 49min ago</i></td>,\n",
       "  <td class=\"tabev1\">11.38 </td>,\n",
       "  <td class=\"tabev2\">N  </td>,\n",
       "  <td class=\"tabev1\">126.24 </td>,\n",
       "  <td class=\"tabev2\">E  </td>,\n",
       "  <td class=\"tabev3\">23</td>,\n",
       "  <td class=\"tabev5\" id=\"magtyp43\"> M</td>,\n",
       "  <td class=\"tabev2\">3.4</td>,\n",
       "  <td class=\"tb_region\" id=\"reg43\"> PHILIPPINE ISLANDS REGION</td>,\n",
       "  <td class=\"comment updatetimeno\" id=\"upd43\" style=\"text-align:right;\">2022-11-08 11:05</td>,\n",
       "  <td class=\"tabev0\"></td>,\n",
       "  <td class=\"tabev0\"></td>,\n",
       "  <td class=\"tabev0\"></td>,\n",
       "  <td class=\"tabev6\"><b><i style=\"display:none;\">earthquake</i><a href=\"/Earthquake/earthquake.php?id=1186809\">2022-11-08   10:43:41.0</a></b><i class=\"ago\" id=\"ago44\">5hr 59min ago</i></td>,\n",
       "  <td class=\"tabev1\">47.51 </td>,\n",
       "  <td class=\"tabev2\">N  </td>,\n",
       "  <td class=\"tabev1\">2.27 </td>,\n",
       "  <td class=\"tabev2\">W  </td>,\n",
       "  <td class=\"tabev3\">2</td>,\n",
       "  <td class=\"tabev5\" id=\"magtyp44\">ML</td>,\n",
       "  <td class=\"tabev2\">2.1</td>,\n",
       "  <td class=\"tb_region\" id=\"reg44\"> FRANCE</td>,\n",
       "  <td class=\"comment updatetimeno\" id=\"upd44\" style=\"text-align:right;\">2022-11-08 12:35</td>,\n",
       "  <td class=\"tabev0\"></td>,\n",
       "  <td class=\"tabev0\"></td>,\n",
       "  <td class=\"tabev0\"></td>,\n",
       "  <td class=\"tabev6\"><b><i style=\"display:none;\">earthquake</i><a href=\"/Earthquake/earthquake.php?id=1186823\">2022-11-08   10:35:34.0</a></b><i class=\"ago\" id=\"ago45\">6hr 07min ago</i></td>,\n",
       "  <td class=\"tabev1\">18.08 </td>,\n",
       "  <td class=\"tabev2\">N  </td>,\n",
       "  <td class=\"tabev1\">103.09 </td>,\n",
       "  <td class=\"tabev2\">W  </td>,\n",
       "  <td class=\"tabev3\">3</td>,\n",
       "  <td class=\"tabev5\" id=\"magtyp45\"> M</td>,\n",
       "  <td class=\"tabev2\">3.7</td>,\n",
       "  <td class=\"tb_region\" id=\"reg45\"> OFFSHORE MICHOACAN, MEXICO</td>,\n",
       "  <td class=\"comment updatetimeno\" id=\"upd45\" style=\"text-align:right;\">2022-11-08 14:16</td>,\n",
       "  <td class=\"tabev0\" style=\"text-align:center;\"><a href=\"https://www.emsc-csem.org/Earthquake/Testimonies/comments.php?id=1186777\" onmouseout=\"info_b2('notshow','');\" onmouseover=\"info_b2('show','See the &lt;b&gt;testimony&lt;/b&gt; for this earthquake');\"><span class=\"\" style=\"vertical-align:middle;\">1</span></a></td>,\n",
       "  <td class=\"tabev0\"></td>,\n",
       "  <td class=\"tabev0\"><span class=\"intensity\" onclick=\"go_details(event,null,'https://www.emsc-csem.org/Earthquake/popup_intensmap.php?id=1186777&amp;f=/FELTREPORTS/118/1186777/IntensityMap.png');\" onmouseout=\"info_b2('notshow','');\" onmouseover=\"info_b2('show','See the &lt;b&gt; Intensity map&lt;/b&gt;');\" style=\"background-color:#FFFFFF;\">F</span></td>,\n",
       "  <td class=\"tabev6\"><b><i style=\"display:none;\">earthquake</i><a href=\"/Earthquake/earthquake.php?id=1186777\">2022-11-08   10:17:09.8</a></b><i class=\"ago\" id=\"ago46\">6hr 25min ago</i></td>,\n",
       "  <td class=\"tabev1\">39.77 </td>,\n",
       "  <td class=\"tabev2\">N  </td>,\n",
       "  <td class=\"tabev1\">20.71 </td>,\n",
       "  <td class=\"tabev2\">E  </td>,\n",
       "  <td class=\"tabev3\">10</td>,\n",
       "  <td class=\"tabev5\" id=\"magtyp46\">ML</td>,\n",
       "  <td class=\"tabev2\">2.8</td>,\n",
       "  <td class=\"tb_region\" id=\"reg46\"> GREECE</td>,\n",
       "  <td class=\"comment updatetimeno\" id=\"upd46\" style=\"text-align:right;\">2022-11-08 12:17</td>,\n",
       "  <td class=\"tabev0\"></td>,\n",
       "  <td class=\"tabev0\"></td>,\n",
       "  <td class=\"tabev0\"></td>,\n",
       "  <td class=\"tabev6\"><b><i style=\"display:none;\">earthquake</i><a href=\"/Earthquake/earthquake.php?id=1186776\">2022-11-08   09:58:40.0</a></b><i class=\"ago\" id=\"ago47\">6hr 44min ago</i></td>,\n",
       "  <td class=\"tabev1\">16.28 </td>,\n",
       "  <td class=\"tabev2\">N  </td>,\n",
       "  <td class=\"tabev1\">95.98 </td>,\n",
       "  <td class=\"tabev2\">W  </td>,\n",
       "  <td class=\"tabev3\">4</td>,\n",
       "  <td class=\"tabev5\" id=\"magtyp47\"> M</td>,\n",
       "  <td class=\"tabev2\">4.1</td>,\n",
       "  <td class=\"tb_region\" id=\"reg47\"> OAXACA, MEXICO</td>,\n",
       "  <td class=\"comment updatetimeno\" id=\"upd47\" style=\"text-align:right;\">2022-11-08 10:15</td>,\n",
       "  <td class=\"tabev0\"></td>,\n",
       "  <td class=\"tabev0\"></td>,\n",
       "  <td class=\"tabev0\"></td>,\n",
       "  <td class=\"tabev6\"><b><i style=\"display:none;\">earthquake</i><a href=\"/Earthquake/earthquake.php?id=1186824\">2022-11-08   09:57:39.0</a></b><i class=\"ago\" id=\"ago48\">6hr 45min ago</i></td>,\n",
       "  <td class=\"tabev1\">28.11 </td>,\n",
       "  <td class=\"tabev2\">N  </td>,\n",
       "  <td class=\"tabev1\">112.28 </td>,\n",
       "  <td class=\"tabev2\">W  </td>,\n",
       "  <td class=\"tabev3\">10</td>,\n",
       "  <td class=\"tabev5\" id=\"magtyp48\"> M</td>,\n",
       "  <td class=\"tabev2\">3.3</td>,\n",
       "  <td class=\"tb_region\" id=\"reg48\"> GULF OF CALIFORNIA</td>,\n",
       "  <td class=\"comment updatetimeno\" id=\"upd48\" style=\"text-align:right;\">2022-11-08 14:16</td>,\n",
       "  <td class=\"tabev0\"></td>,\n",
       "  <td class=\"tabev0\"></td>,\n",
       "  <td class=\"tabev0\"></td>,\n",
       "  <td class=\"tabev6\"><b><i style=\"display:none;\">earthquake</i><a href=\"/Earthquake/earthquake.php?id=1186770\">2022-11-08   09:47:53.0</a></b><i class=\"ago\" id=\"ago49\">6hr 54min ago</i></td>,\n",
       "  <td class=\"tabev1\">39.01 </td>,\n",
       "  <td class=\"tabev2\">N  </td>,\n",
       "  <td class=\"tabev1\">31.37 </td>,\n",
       "  <td class=\"tabev2\">E  </td>,\n",
       "  <td class=\"tabev3\">5</td>,\n",
       "  <td class=\"tabev5\" id=\"magtyp49\">ML</td>,\n",
       "  <td class=\"tabev2\">2.7</td>,\n",
       "  <td class=\"tb_region\" id=\"reg49\"> WESTERN TURKEY</td>,\n",
       "  <td class=\"comment updatetimeno\" id=\"upd49\" style=\"text-align:right;\">2022-11-08 12:17</td>]]"
      ]
     },
     "execution_count": 279,
     "metadata": {},
     "output_type": "execute_result"
    }
   ],
   "source": [
    "a=[i.find_all('td') for i in tablafecha]\n",
    "a"
   ]
  },
  {
   "cell_type": "code",
   "execution_count": 282,
   "metadata": {},
   "outputs": [
    {
     "data": {
      "text/plain": [
       "<td class=\"tabev6\"><b><i style=\"display:none;\">earthquake</i><a href=\"/Earthquake/earthquake.php?id=1186871\">2022-11-08   16:35:25.0</a></b><i class=\"ago\" id=\"ago0\">07min ago</i></td>"
      ]
     },
     "execution_count": 282,
     "metadata": {},
     "output_type": "execute_result"
    }
   ],
   "source": [
    "a[0][3]"
   ]
  },
  {
   "cell_type": "code",
   "execution_count": 285,
   "metadata": {},
   "outputs": [
    {
     "data": {
      "text/plain": [
       "['2022-11-08\\xa0\\xa0\\xa016:35:25.0', '07min ago']"
      ]
     },
     "execution_count": 285,
     "metadata": {},
     "output_type": "execute_result"
    }
   ],
   "source": [
    "date = [i.text.strip().replace('earthquake','') for i in a[0][3]]\n",
    "date\n"
   ]
  },
  {
   "cell_type": "code",
   "execution_count": 286,
   "metadata": {},
   "outputs": [],
   "source": [
    "date1=date[0].split()"
   ]
  },
  {
   "cell_type": "code",
   "execution_count": 260,
   "metadata": {},
   "outputs": [
    {
     "data": {
      "text/plain": [
       "'2022-11-08'"
      ]
     },
     "execution_count": 260,
     "metadata": {},
     "output_type": "execute_result"
    }
   ],
   "source": [
    "datefin = date1[0:10]"
   ]
  },
  {
   "cell_type": "code",
   "execution_count": 287,
   "metadata": {},
   "outputs": [
    {
     "data": {
      "text/plain": [
       "'2022-11-08'"
      ]
     },
     "execution_count": 287,
     "metadata": {},
     "output_type": "execute_result"
    }
   ],
   "source": [
    "date1[0]"
   ]
  },
  {
   "cell_type": "code",
   "execution_count": 288,
   "metadata": {},
   "outputs": [
    {
     "data": {
      "text/plain": [
       "1"
      ]
     },
     "execution_count": 288,
     "metadata": {},
     "output_type": "execute_result"
    }
   ],
   "source": []
  },
  {
   "cell_type": "markdown",
   "metadata": {},
   "source": [
    "#### Display the date, days, title, city, country of next 25 hackathon events as a Pandas dataframe table"
   ]
  },
  {
   "cell_type": "code",
   "execution_count": 24,
   "metadata": {},
   "outputs": [],
   "source": [
    "# This is the url you will scrape in this exercise\n",
    "url ='https://hackevents.co/hackathons'"
   ]
  },
  {
   "cell_type": "code",
   "execution_count": 25,
   "metadata": {},
   "outputs": [],
   "source": [
    "#your code"
   ]
  },
  {
   "cell_type": "markdown",
   "metadata": {},
   "source": [
    "#### Count number of tweets by a given Twitter account."
   ]
  },
  {
   "cell_type": "markdown",
   "metadata": {},
   "source": [
    "You will need to include a ***try/except block*** for account names not found. \n",
    "<br>***Hint:*** the program should count the number of tweets for any provided account"
   ]
  },
  {
   "cell_type": "code",
   "execution_count": 26,
   "metadata": {},
   "outputs": [],
   "source": [
    "# This is the url you will scrape in this exercise \n",
    "# You will need to add the account credentials to this url\n",
    "url = 'https://twitter.com/'"
   ]
  },
  {
   "cell_type": "code",
   "execution_count": 27,
   "metadata": {},
   "outputs": [],
   "source": [
    "#your code"
   ]
  },
  {
   "cell_type": "markdown",
   "metadata": {},
   "source": [
    "#### Number of followers of a given twitter account"
   ]
  },
  {
   "cell_type": "markdown",
   "metadata": {},
   "source": [
    "You will need to include a ***try/except block*** in case account/s name not found. \n",
    "<br>***Hint:*** the program should count the followers for any provided account"
   ]
  },
  {
   "cell_type": "code",
   "execution_count": 28,
   "metadata": {},
   "outputs": [],
   "source": [
    "# This is the url you will scrape in this exercise \n",
    "# You will need to add the account credentials to this url\n",
    "url = 'https://twitter.com/'"
   ]
  },
  {
   "cell_type": "code",
   "execution_count": 29,
   "metadata": {},
   "outputs": [],
   "source": [
    "#your code"
   ]
  },
  {
   "cell_type": "markdown",
   "metadata": {},
   "source": [
    "#### List all language names and number of related articles in the order they appear in wikipedia.org"
   ]
  },
  {
   "cell_type": "code",
   "execution_count": 384,
   "metadata": {},
   "outputs": [],
   "source": [
    "# This is the url you will scrape in this exercise\n",
    "urllan = 'https://www.wikipedia.org/'"
   ]
  },
  {
   "cell_type": "code",
   "execution_count": 385,
   "metadata": {},
   "outputs": [],
   "source": [
    "#your code\n",
    "\n",
    "htmllan=req.get(urllan).text\n",
    "souplan=bs(htmllan, 'html.parser')"
   ]
  },
  {
   "cell_type": "code",
   "execution_count": 399,
   "metadata": {},
   "outputs": [
    {
     "data": {
      "text/plain": [
       "['English6.458.000 articles',\n",
       " 'æ\\x97¥æ\\x9c¬èª\\x9e1.314.000 è¨\\x98äº\\x8b',\n",
       " 'EspaÃ±ol1.755.000 artÃ\\xadculos',\n",
       " 'Ð.Ñ\\x83Ñ\\x81Ñ\\x81ÐºÐ¸Ð¹1.798.000 Ñ\\x81Ñ\\x82Ð°Ñ\\x82ÐµÐ¹',\n",
       " 'FranÃ§ais2.400.000 articles',\n",
       " 'Deutsch2.667.000 Artikel',\n",
       " 'Italiano1.742.000 voci',\n",
       " 'ä¸\\xadæ\\x96\\x871.256.000 æ\\x9d¡ç\\x9b® / æ¢\\x9dç\\x9b®',\n",
       " 'PortuguÃªs1.085.000 artigos',\n",
       " 'Ø§Ù\\x84Ø¹Ø±Ø¨Ù\\x8aØ©1.159.000 Ù\\x85Ù\\x82Ø§Ù\\x84Ø©']"
      ]
     },
     "execution_count": 399,
     "metadata": {},
     "output_type": "execute_result"
    }
   ],
   "source": [
    "idiomas=[]\n",
    "\n",
    "for i in range(1,11):\n",
    "    idios=souplan.find('div', class_ = f'central-featured-lang lang{i}')\n",
    "    idiomas.append(idios.text.replace('\\xa0','.').replace('\\n','').replace('+',''))\n",
    "idiomas"
   ]
  },
  {
   "cell_type": "markdown",
   "metadata": {},
   "source": [
    "#### A list with the different kind of datasets available in data.gov.uk "
   ]
  },
  {
   "cell_type": "code",
   "execution_count": 387,
   "metadata": {},
   "outputs": [],
   "source": [
    "# This is the url you will scrape in this exercise\n",
    "urlgov = 'https://data.gov.uk/'"
   ]
  },
  {
   "cell_type": "code",
   "execution_count": 388,
   "metadata": {},
   "outputs": [],
   "source": [
    "#your code \n",
    "htmlgov=req.get(urlgov).text\n",
    "soupgov=bs(htmlgov, 'html.parser')"
   ]
  },
  {
   "cell_type": "code",
   "execution_count": 390,
   "metadata": {},
   "outputs": [
    {
     "data": {
      "text/plain": [
       "[<h3 class=\"govuk-heading-s dgu-topics__heading\"><a class=\"govuk-link\" href=\"/search?filters%5Btopic%5D=Business+and+economy\">Business and economy</a></h3>,\n",
       " <h3 class=\"govuk-heading-s dgu-topics__heading\"><a class=\"govuk-link\" href=\"/search?filters%5Btopic%5D=Crime+and+justice\">Crime and justice</a></h3>,\n",
       " <h3 class=\"govuk-heading-s dgu-topics__heading\"><a class=\"govuk-link\" href=\"/search?filters%5Btopic%5D=Defence\">Defence</a></h3>,\n",
       " <h3 class=\"govuk-heading-s dgu-topics__heading\"><a class=\"govuk-link\" href=\"/search?filters%5Btopic%5D=Education\">Education</a></h3>,\n",
       " <h3 class=\"govuk-heading-s dgu-topics__heading\"><a class=\"govuk-link\" href=\"/search?filters%5Btopic%5D=Environment\">Environment</a></h3>,\n",
       " <h3 class=\"govuk-heading-s dgu-topics__heading\"><a class=\"govuk-link\" href=\"/search?filters%5Btopic%5D=Government\">Government</a></h3>,\n",
       " <h3 class=\"govuk-heading-s dgu-topics__heading\"><a class=\"govuk-link\" href=\"/search?filters%5Btopic%5D=Government+spending\">Government spending</a></h3>,\n",
       " <h3 class=\"govuk-heading-s dgu-topics__heading\"><a class=\"govuk-link\" href=\"/search?filters%5Btopic%5D=Health\">Health</a></h3>,\n",
       " <h3 class=\"govuk-heading-s dgu-topics__heading\"><a class=\"govuk-link\" href=\"/search?filters%5Btopic%5D=Mapping\">Mapping</a></h3>,\n",
       " <h3 class=\"govuk-heading-s dgu-topics__heading\"><a class=\"govuk-link\" href=\"/search?filters%5Btopic%5D=Society\">Society</a></h3>,\n",
       " <h3 class=\"govuk-heading-s dgu-topics__heading\"><a class=\"govuk-link\" href=\"/search?filters%5Btopic%5D=Towns+and+cities\">Towns and cities</a></h3>,\n",
       " <h3 class=\"govuk-heading-s dgu-topics__heading\"><a class=\"govuk-link\" href=\"/search?filters%5Btopic%5D=Transport\">Transport</a></h3>,\n",
       " <h3 class=\"govuk-heading-s dgu-topics__heading\"><a class=\"govuk-link\" href=\"/search?filters%5Btopic%5D=Digital+service+performance\">Digital service performance</a></h3>,\n",
       " <h3 class=\"govuk-heading-s dgu-topics__heading\"><a class=\"govuk-link\" href=\"/search?filters%5Btopic%5D=Government+reference+data\">Government reference data</a></h3>]"
      ]
     },
     "execution_count": 390,
     "metadata": {},
     "output_type": "execute_result"
    }
   ],
   "source": [
    "gov=soupgov.find_all('h3', class_='govuk-heading-s dgu-topics__heading')\n",
    "gov"
   ]
  },
  {
   "cell_type": "code",
   "execution_count": 393,
   "metadata": {},
   "outputs": [
    {
     "data": {
      "text/plain": [
       "['Business and economy',\n",
       " 'Crime and justice',\n",
       " 'Defence',\n",
       " 'Education',\n",
       " 'Environment',\n",
       " 'Government',\n",
       " 'Government spending',\n",
       " 'Health',\n",
       " 'Mapping',\n",
       " 'Society',\n",
       " 'Towns and cities',\n",
       " 'Transport',\n",
       " 'Digital service performance',\n",
       " 'Government reference data']"
      ]
     },
     "execution_count": 393,
     "metadata": {},
     "output_type": "execute_result"
    }
   ],
   "source": [
    "datasets = [i.text.strip() for i in gov]\n",
    "datasets"
   ]
  },
  {
   "cell_type": "markdown",
   "metadata": {},
   "source": [
    "#### Top 10 languages by number of native speakers stored in a Pandas Dataframe"
   ]
  },
  {
   "cell_type": "code",
   "execution_count": 394,
   "metadata": {},
   "outputs": [],
   "source": [
    "# This is the url you will scrape in this exercise\n",
    "urlnative = 'https://en.wikipedia.org/wiki/List_of_languages_by_number_of_native_speakers'"
   ]
  },
  {
   "cell_type": "code",
   "execution_count": 396,
   "metadata": {},
   "outputs": [],
   "source": [
    "#your code\n",
    "htmlnative=req.get(urlnative).text\n",
    "soupnative=bs(htmlnative, 'html.parser')"
   ]
  },
  {
   "cell_type": "code",
   "execution_count": 435,
   "metadata": {},
   "outputs": [],
   "source": [
    "native=soupnative.find_all('tr')\n"
   ]
  },
  {
   "cell_type": "code",
   "execution_count": 427,
   "metadata": {},
   "outputs": [],
   "source": [
    "idiomas1 = [i.text.strip() for i in native]\n",
    "speak=idiomas1[:11]"
   ]
  },
  {
   "cell_type": "code",
   "execution_count": 428,
   "metadata": {},
   "outputs": [
    {
     "data": {
      "text/plain": [
       "[['Language',\n",
       "  '',\n",
       "  'Native speakers(millions)',\n",
       "  '',\n",
       "  'Language family',\n",
       "  '',\n",
       "  'Branch'],\n",
       " ['Mandarin Chinese(incl. Standard Chinese, but excl. other varieties)',\n",
       "  '',\n",
       "  '920',\n",
       "  '',\n",
       "  'Sino-Tibetan',\n",
       "  '',\n",
       "  'Sinitic'],\n",
       " ['Spanish', '', '475', '', 'Indo-European', '', 'Romance'],\n",
       " ['English', '', '373', '', 'Indo-European', '', 'Germanic'],\n",
       " ['Hindi(excl. Urdu)', '', '344', '', 'Indo-European', '', 'Indo-Aryan'],\n",
       " ['Bengali', '', '234', '', 'Indo-European', '', 'Indo-Aryan'],\n",
       " ['Portuguese', '', '232', '', 'Indo-European', '', 'Romance'],\n",
       " ['Russian', '', '154', '', 'Indo-European', '', 'Balto-Slavic'],\n",
       " ['Japanese', '', '125', '', 'Japonic', '', 'Japanese'],\n",
       " ['Yue Chinese(incl. Cantonese)',\n",
       "  '',\n",
       "  '85.2',\n",
       "  '',\n",
       "  'Sino-Tibetan',\n",
       "  '',\n",
       "  'Sinitic'],\n",
       " ['Vietnamese', '', '84.6', '', 'Austroasiatic', '', 'Vietic']]"
      ]
     },
     "execution_count": 428,
     "metadata": {},
     "output_type": "execute_result"
    }
   ],
   "source": [
    "lista5=[]\n",
    "\n",
    "for i in speak:\n",
    "    lista5.append(i.split('\\n'))\n",
    "lista5"
   ]
  },
  {
   "cell_type": "code",
   "execution_count": 432,
   "metadata": {},
   "outputs": [
    {
     "data": {
      "text/plain": [
       "[['Language', 'Native speakers(millions)', 'Language family', 'Branch'],\n",
       " ['Mandarin Chinese(incl. Standard Chinese, but excl. other varieties)',\n",
       "  '920',\n",
       "  'Sino-Tibetan',\n",
       "  'Sinitic'],\n",
       " ['Spanish', '475', 'Indo-European', 'Romance'],\n",
       " ['English', '373', 'Indo-European', 'Germanic'],\n",
       " ['Hindi(excl. Urdu)', '344', 'Indo-European', 'Indo-Aryan'],\n",
       " ['Bengali', '234', 'Indo-European', 'Indo-Aryan'],\n",
       " ['Portuguese', '232', 'Indo-European', 'Romance'],\n",
       " ['Russian', '154', 'Indo-European', 'Balto-Slavic'],\n",
       " ['Japanese', '125', 'Japonic', 'Japanese'],\n",
       " ['Yue Chinese(incl. Cantonese)', '85.2', 'Sino-Tibetan', 'Sinitic'],\n",
       " ['Vietnamese', '84.6', 'Austroasiatic', 'Vietic']]"
      ]
     },
     "execution_count": 432,
     "metadata": {},
     "output_type": "execute_result"
    }
   ],
   "source": [
    "final=[]\n",
    "\n",
    "for f in lista5:\n",
    "    \n",
    "    tmp=[]\n",
    "    \n",
    "    for palabra in f:\n",
    "        \n",
    "        if palabra!='':\n",
    "            tmp.append(palabra)\n",
    "    \n",
    "    final.append(tmp)\n",
    "    \n",
    "final[:11]"
   ]
  },
  {
   "cell_type": "code",
   "execution_count": 434,
   "metadata": {},
   "outputs": [
    {
     "data": {
      "text/html": [
       "<div>\n",
       "<style scoped>\n",
       "    .dataframe tbody tr th:only-of-type {\n",
       "        vertical-align: middle;\n",
       "    }\n",
       "\n",
       "    .dataframe tbody tr th {\n",
       "        vertical-align: top;\n",
       "    }\n",
       "\n",
       "    .dataframe thead th {\n",
       "        text-align: right;\n",
       "    }\n",
       "</style>\n",
       "<table border=\"1\" class=\"dataframe\">\n",
       "  <thead>\n",
       "    <tr style=\"text-align: right;\">\n",
       "      <th></th>\n",
       "      <th>Language</th>\n",
       "      <th></th>\n",
       "      <th>Native speakers(millions)</th>\n",
       "      <th></th>\n",
       "      <th>Language family</th>\n",
       "      <th></th>\n",
       "      <th>Branch</th>\n",
       "    </tr>\n",
       "  </thead>\n",
       "  <tbody>\n",
       "    <tr>\n",
       "      <th>0</th>\n",
       "      <td>Mandarin Chinese(incl. Standard Chinese, but e...</td>\n",
       "      <td></td>\n",
       "      <td>920</td>\n",
       "      <td></td>\n",
       "      <td>Sino-Tibetan</td>\n",
       "      <td></td>\n",
       "      <td>Sinitic</td>\n",
       "    </tr>\n",
       "    <tr>\n",
       "      <th>1</th>\n",
       "      <td>Spanish</td>\n",
       "      <td></td>\n",
       "      <td>475</td>\n",
       "      <td></td>\n",
       "      <td>Indo-European</td>\n",
       "      <td></td>\n",
       "      <td>Romance</td>\n",
       "    </tr>\n",
       "    <tr>\n",
       "      <th>2</th>\n",
       "      <td>English</td>\n",
       "      <td></td>\n",
       "      <td>373</td>\n",
       "      <td></td>\n",
       "      <td>Indo-European</td>\n",
       "      <td></td>\n",
       "      <td>Germanic</td>\n",
       "    </tr>\n",
       "    <tr>\n",
       "      <th>3</th>\n",
       "      <td>Hindi(excl. Urdu)</td>\n",
       "      <td></td>\n",
       "      <td>344</td>\n",
       "      <td></td>\n",
       "      <td>Indo-European</td>\n",
       "      <td></td>\n",
       "      <td>Indo-Aryan</td>\n",
       "    </tr>\n",
       "    <tr>\n",
       "      <th>4</th>\n",
       "      <td>Bengali</td>\n",
       "      <td></td>\n",
       "      <td>234</td>\n",
       "      <td></td>\n",
       "      <td>Indo-European</td>\n",
       "      <td></td>\n",
       "      <td>Indo-Aryan</td>\n",
       "    </tr>\n",
       "    <tr>\n",
       "      <th>5</th>\n",
       "      <td>Portuguese</td>\n",
       "      <td></td>\n",
       "      <td>232</td>\n",
       "      <td></td>\n",
       "      <td>Indo-European</td>\n",
       "      <td></td>\n",
       "      <td>Romance</td>\n",
       "    </tr>\n",
       "    <tr>\n",
       "      <th>6</th>\n",
       "      <td>Russian</td>\n",
       "      <td></td>\n",
       "      <td>154</td>\n",
       "      <td></td>\n",
       "      <td>Indo-European</td>\n",
       "      <td></td>\n",
       "      <td>Balto-Slavic</td>\n",
       "    </tr>\n",
       "    <tr>\n",
       "      <th>7</th>\n",
       "      <td>Japanese</td>\n",
       "      <td></td>\n",
       "      <td>125</td>\n",
       "      <td></td>\n",
       "      <td>Japonic</td>\n",
       "      <td></td>\n",
       "      <td>Japanese</td>\n",
       "    </tr>\n",
       "    <tr>\n",
       "      <th>8</th>\n",
       "      <td>Yue Chinese(incl. Cantonese)</td>\n",
       "      <td></td>\n",
       "      <td>85.2</td>\n",
       "      <td></td>\n",
       "      <td>Sino-Tibetan</td>\n",
       "      <td></td>\n",
       "      <td>Sinitic</td>\n",
       "    </tr>\n",
       "    <tr>\n",
       "      <th>9</th>\n",
       "      <td>Vietnamese</td>\n",
       "      <td></td>\n",
       "      <td>84.6</td>\n",
       "      <td></td>\n",
       "      <td>Austroasiatic</td>\n",
       "      <td></td>\n",
       "      <td>Vietic</td>\n",
       "    </tr>\n",
       "  </tbody>\n",
       "</table>\n",
       "</div>"
      ],
      "text/plain": [
       "                                            Language    \\\n",
       "0  Mandarin Chinese(incl. Standard Chinese, but e...     \n",
       "1                                            Spanish     \n",
       "2                                            English     \n",
       "3                                  Hindi(excl. Urdu)     \n",
       "4                                            Bengali     \n",
       "5                                         Portuguese     \n",
       "6                                            Russian     \n",
       "7                                           Japanese     \n",
       "8                       Yue Chinese(incl. Cantonese)     \n",
       "9                                         Vietnamese     \n",
       "\n",
       "  Native speakers(millions)   Language family          Branch  \n",
       "0                       920      Sino-Tibetan         Sinitic  \n",
       "1                       475     Indo-European         Romance  \n",
       "2                       373     Indo-European        Germanic  \n",
       "3                       344     Indo-European      Indo-Aryan  \n",
       "4                       234     Indo-European      Indo-Aryan  \n",
       "5                       232     Indo-European         Romance  \n",
       "6                       154     Indo-European    Balto-Slavic  \n",
       "7                       125           Japonic        Japanese  \n",
       "8                      85.2      Sino-Tibetan         Sinitic  \n",
       "9                      84.6     Austroasiatic          Vietic  "
      ]
     },
     "execution_count": 434,
     "metadata": {},
     "output_type": "execute_result"
    }
   ],
   "source": [
    "import pandas as pd\n",
    "\n",
    "col_names=lista5[0]\n",
    "\n",
    "data=lista5[1:]\n",
    "\n",
    "df=pd.DataFrame(data, columns=col_names)\n",
    "\n",
    "df"
   ]
  },
  {
   "cell_type": "markdown",
   "metadata": {},
   "source": [
    "### BONUS QUESTIONS"
   ]
  },
  {
   "cell_type": "markdown",
   "metadata": {},
   "source": [
    "#### Scrape a certain number of tweets of a given Twitter account."
   ]
  },
  {
   "cell_type": "code",
   "execution_count": 36,
   "metadata": {},
   "outputs": [],
   "source": [
    "# This is the url you will scrape in this exercise \n",
    "# You will need to add the account credentials to this url\n",
    "url = 'https://twitter.com/'"
   ]
  },
  {
   "cell_type": "code",
   "execution_count": 37,
   "metadata": {},
   "outputs": [],
   "source": [
    "# your code\n"
   ]
  },
  {
   "cell_type": "markdown",
   "metadata": {},
   "source": [
    "#### IMDB's Top 250 data (movie name, Initial release, director name and stars) as a pandas dataframe"
   ]
  },
  {
   "cell_type": "code",
   "execution_count": 38,
   "metadata": {},
   "outputs": [],
   "source": [
    "# This is the url you will scrape in this exercise \n",
    "url = 'https://www.imdb.com/chart/top'"
   ]
  },
  {
   "cell_type": "code",
   "execution_count": 39,
   "metadata": {},
   "outputs": [],
   "source": [
    "# your code\n"
   ]
  },
  {
   "cell_type": "markdown",
   "metadata": {},
   "source": [
    "#### Movie name, year and a brief summary of the top 10 random movies (IMDB) as a pandas dataframe."
   ]
  },
  {
   "cell_type": "code",
   "execution_count": 40,
   "metadata": {},
   "outputs": [],
   "source": [
    "#This is the url you will scrape in this exercise\n",
    "url = 'http://www.imdb.com/chart/top'"
   ]
  },
  {
   "cell_type": "code",
   "execution_count": 41,
   "metadata": {},
   "outputs": [],
   "source": [
    "#your code"
   ]
  },
  {
   "cell_type": "markdown",
   "metadata": {},
   "source": [
    "#### Find the live weather report (temperature, wind speed, description and weather) of a given city."
   ]
  },
  {
   "cell_type": "code",
   "execution_count": 42,
   "metadata": {},
   "outputs": [
    {
     "ename": "KeyboardInterrupt",
     "evalue": "Interrupted by user",
     "output_type": "error",
     "traceback": [
      "\u001b[0;31m---------------------------------------------------------------------------\u001b[0m",
      "\u001b[0;31mKeyboardInterrupt\u001b[0m                         Traceback (most recent call last)",
      "Input \u001b[0;32mIn [42]\u001b[0m, in \u001b[0;36m<cell line: 2>\u001b[0;34m()\u001b[0m\n\u001b[1;32m      1\u001b[0m \u001b[38;5;66;03m#https://openweathermap.org/current\u001b[39;00m\n\u001b[0;32m----> 2\u001b[0m city \u001b[38;5;241m=\u001b[39m city\u001b[38;5;241m=\u001b[39m\u001b[38;5;28;43minput\u001b[39;49m\u001b[43m(\u001b[49m\u001b[38;5;124;43m'\u001b[39;49m\u001b[38;5;124;43mEnter the city:\u001b[39;49m\u001b[38;5;124;43m'\u001b[39;49m\u001b[43m)\u001b[49m\n\u001b[1;32m      3\u001b[0m url \u001b[38;5;241m=\u001b[39m \u001b[38;5;124m'\u001b[39m\u001b[38;5;124mhttp://api.openweathermap.org/data/2.5/weather?\u001b[39m\u001b[38;5;124m'\u001b[39m\u001b[38;5;241m+\u001b[39m\u001b[38;5;124m'\u001b[39m\u001b[38;5;124mq=\u001b[39m\u001b[38;5;124m'\u001b[39m\u001b[38;5;241m+\u001b[39mcity\u001b[38;5;241m+\u001b[39m\u001b[38;5;124m'\u001b[39m\u001b[38;5;124m&APPID=b35975e18dc93725acb092f7272cc6b8&units=metric\u001b[39m\u001b[38;5;124m'\u001b[39m\n",
      "File \u001b[0;32m~/opt/anaconda3/lib/python3.9/site-packages/ipykernel/kernelbase.py:1075\u001b[0m, in \u001b[0;36mKernel.raw_input\u001b[0;34m(self, prompt)\u001b[0m\n\u001b[1;32m   1071\u001b[0m \u001b[38;5;28;01mif\u001b[39;00m \u001b[38;5;129;01mnot\u001b[39;00m \u001b[38;5;28mself\u001b[39m\u001b[38;5;241m.\u001b[39m_allow_stdin:\n\u001b[1;32m   1072\u001b[0m     \u001b[38;5;28;01mraise\u001b[39;00m StdinNotImplementedError(\n\u001b[1;32m   1073\u001b[0m         \u001b[38;5;124m\"\u001b[39m\u001b[38;5;124mraw_input was called, but this frontend does not support input requests.\u001b[39m\u001b[38;5;124m\"\u001b[39m\n\u001b[1;32m   1074\u001b[0m     )\n\u001b[0;32m-> 1075\u001b[0m \u001b[38;5;28;01mreturn\u001b[39;00m \u001b[38;5;28;43mself\u001b[39;49m\u001b[38;5;241;43m.\u001b[39;49m\u001b[43m_input_request\u001b[49m\u001b[43m(\u001b[49m\n\u001b[1;32m   1076\u001b[0m \u001b[43m    \u001b[49m\u001b[38;5;28;43mstr\u001b[39;49m\u001b[43m(\u001b[49m\u001b[43mprompt\u001b[49m\u001b[43m)\u001b[49m\u001b[43m,\u001b[49m\n\u001b[1;32m   1077\u001b[0m \u001b[43m    \u001b[49m\u001b[38;5;28;43mself\u001b[39;49m\u001b[38;5;241;43m.\u001b[39;49m\u001b[43m_parent_ident\u001b[49m\u001b[43m[\u001b[49m\u001b[38;5;124;43m\"\u001b[39;49m\u001b[38;5;124;43mshell\u001b[39;49m\u001b[38;5;124;43m\"\u001b[39;49m\u001b[43m]\u001b[49m\u001b[43m,\u001b[49m\n\u001b[1;32m   1078\u001b[0m \u001b[43m    \u001b[49m\u001b[38;5;28;43mself\u001b[39;49m\u001b[38;5;241;43m.\u001b[39;49m\u001b[43mget_parent\u001b[49m\u001b[43m(\u001b[49m\u001b[38;5;124;43m\"\u001b[39;49m\u001b[38;5;124;43mshell\u001b[39;49m\u001b[38;5;124;43m\"\u001b[39;49m\u001b[43m)\u001b[49m\u001b[43m,\u001b[49m\n\u001b[1;32m   1079\u001b[0m \u001b[43m    \u001b[49m\u001b[43mpassword\u001b[49m\u001b[38;5;241;43m=\u001b[39;49m\u001b[38;5;28;43;01mFalse\u001b[39;49;00m\u001b[43m,\u001b[49m\n\u001b[1;32m   1080\u001b[0m \u001b[43m\u001b[49m\u001b[43m)\u001b[49m\n",
      "File \u001b[0;32m~/opt/anaconda3/lib/python3.9/site-packages/ipykernel/kernelbase.py:1120\u001b[0m, in \u001b[0;36mKernel._input_request\u001b[0;34m(self, prompt, ident, parent, password)\u001b[0m\n\u001b[1;32m   1117\u001b[0m             \u001b[38;5;28;01mbreak\u001b[39;00m\n\u001b[1;32m   1118\u001b[0m \u001b[38;5;28;01mexcept\u001b[39;00m \u001b[38;5;167;01mKeyboardInterrupt\u001b[39;00m:\n\u001b[1;32m   1119\u001b[0m     \u001b[38;5;66;03m# re-raise KeyboardInterrupt, to truncate traceback\u001b[39;00m\n\u001b[0;32m-> 1120\u001b[0m     \u001b[38;5;28;01mraise\u001b[39;00m \u001b[38;5;167;01mKeyboardInterrupt\u001b[39;00m(\u001b[38;5;124m\"\u001b[39m\u001b[38;5;124mInterrupted by user\u001b[39m\u001b[38;5;124m\"\u001b[39m) \u001b[38;5;28;01mfrom\u001b[39;00m \u001b[38;5;28mNone\u001b[39m\n\u001b[1;32m   1121\u001b[0m \u001b[38;5;28;01mexcept\u001b[39;00m \u001b[38;5;167;01mException\u001b[39;00m:\n\u001b[1;32m   1122\u001b[0m     \u001b[38;5;28mself\u001b[39m\u001b[38;5;241m.\u001b[39mlog\u001b[38;5;241m.\u001b[39mwarning(\u001b[38;5;124m\"\u001b[39m\u001b[38;5;124mInvalid Message:\u001b[39m\u001b[38;5;124m\"\u001b[39m, exc_info\u001b[38;5;241m=\u001b[39m\u001b[38;5;28;01mTrue\u001b[39;00m)\n",
      "\u001b[0;31mKeyboardInterrupt\u001b[0m: Interrupted by user"
     ]
    }
   ],
   "source": [
    "#https://openweathermap.org/current\n",
    "city = city=input('Enter the city:')\n",
    "url = 'http://api.openweathermap.org/data/2.5/weather?'+'q='+city+'&APPID=b35975e18dc93725acb092f7272cc6b8&units=metric'"
   ]
  },
  {
   "cell_type": "code",
   "execution_count": null,
   "metadata": {},
   "outputs": [],
   "source": [
    "# your code"
   ]
  },
  {
   "cell_type": "markdown",
   "metadata": {},
   "source": [
    "#### Book name,price and stock availability as a pandas dataframe."
   ]
  },
  {
   "cell_type": "code",
   "execution_count": null,
   "metadata": {},
   "outputs": [],
   "source": [
    "# This is the url you will scrape in this exercise. \n",
    "# It is a fictional bookstore created to be scraped. \n",
    "url = 'http://books.toscrape.com/'"
   ]
  },
  {
   "cell_type": "code",
   "execution_count": null,
   "metadata": {},
   "outputs": [],
   "source": [
    "#your code"
   ]
  }
 ],
 "metadata": {
  "kernelspec": {
   "display_name": "Python 3 (ipykernel)",
   "language": "python",
   "name": "python3"
  },
  "language_info": {
   "codemirror_mode": {
    "name": "ipython",
    "version": 3
   },
   "file_extension": ".py",
   "mimetype": "text/x-python",
   "name": "python",
   "nbconvert_exporter": "python",
   "pygments_lexer": "ipython3",
   "version": "3.9.12"
  }
 },
 "nbformat": 4,
 "nbformat_minor": 2
}
